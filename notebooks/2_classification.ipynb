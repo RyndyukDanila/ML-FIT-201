{
 "cells": [
  {
   "cell_type": "markdown",
   "id": "c27c8550",
   "metadata": {},
   "source": [
    "# Task 1"
   ]
  },
  {
   "cell_type": "code",
   "execution_count": 1,
   "id": "45160a9b",
   "metadata": {},
   "outputs": [],
   "source": [
    "import pandas as pd\n",
    "import numpy as np\n",
    "import seaborn as sns\n",
    "import matplotlib.pyplot as plt\n",
    "\n",
    "from sklearn.utils import shuffle\n",
    "from sklearn.model_selection import train_test_split\n",
    "from sklearn.preprocessing import StandardScaler"
   ]
  },
  {
   "cell_type": "code",
   "execution_count": 2,
   "id": "4a9e943c",
   "metadata": {},
   "outputs": [
    {
     "data": {
      "text/html": [
       "<div>\n",
       "<style scoped>\n",
       "    .dataframe tbody tr th:only-of-type {\n",
       "        vertical-align: middle;\n",
       "    }\n",
       "\n",
       "    .dataframe tbody tr th {\n",
       "        vertical-align: top;\n",
       "    }\n",
       "\n",
       "    .dataframe thead th {\n",
       "        text-align: right;\n",
       "    }\n",
       "</style>\n",
       "<table border=\"1\" class=\"dataframe\">\n",
       "  <thead>\n",
       "    <tr style=\"text-align: right;\">\n",
       "      <th></th>\n",
       "      <th>popularity</th>\n",
       "      <th>acousticness</th>\n",
       "      <th>danceability</th>\n",
       "      <th>duration_ms</th>\n",
       "      <th>energy</th>\n",
       "      <th>instrumentalness</th>\n",
       "      <th>key</th>\n",
       "      <th>liveness</th>\n",
       "      <th>loudness</th>\n",
       "      <th>mode</th>\n",
       "      <th>speechiness</th>\n",
       "      <th>tempo</th>\n",
       "      <th>valence</th>\n",
       "      <th>music_genre</th>\n",
       "    </tr>\n",
       "  </thead>\n",
       "  <tbody>\n",
       "    <tr>\n",
       "      <th>0</th>\n",
       "      <td>27.0</td>\n",
       "      <td>0.00468</td>\n",
       "      <td>0.652</td>\n",
       "      <td>245503.541466</td>\n",
       "      <td>0.941</td>\n",
       "      <td>0.79200</td>\n",
       "      <td>11</td>\n",
       "      <td>0.115</td>\n",
       "      <td>-5.201</td>\n",
       "      <td>0</td>\n",
       "      <td>0.0748</td>\n",
       "      <td>100.889</td>\n",
       "      <td>0.759</td>\n",
       "      <td>Electronic</td>\n",
       "    </tr>\n",
       "    <tr>\n",
       "      <th>1</th>\n",
       "      <td>31.0</td>\n",
       "      <td>0.01270</td>\n",
       "      <td>0.622</td>\n",
       "      <td>218293.000000</td>\n",
       "      <td>0.890</td>\n",
       "      <td>0.95000</td>\n",
       "      <td>3</td>\n",
       "      <td>0.124</td>\n",
       "      <td>-7.043</td>\n",
       "      <td>0</td>\n",
       "      <td>0.0300</td>\n",
       "      <td>115.002</td>\n",
       "      <td>0.531</td>\n",
       "      <td>Electronic</td>\n",
       "    </tr>\n",
       "    <tr>\n",
       "      <th>2</th>\n",
       "      <td>28.0</td>\n",
       "      <td>0.00306</td>\n",
       "      <td>0.620</td>\n",
       "      <td>215613.000000</td>\n",
       "      <td>0.755</td>\n",
       "      <td>0.01180</td>\n",
       "      <td>9</td>\n",
       "      <td>0.534</td>\n",
       "      <td>-4.617</td>\n",
       "      <td>1</td>\n",
       "      <td>0.0345</td>\n",
       "      <td>127.994</td>\n",
       "      <td>0.333</td>\n",
       "      <td>Electronic</td>\n",
       "    </tr>\n",
       "    <tr>\n",
       "      <th>3</th>\n",
       "      <td>34.0</td>\n",
       "      <td>0.02540</td>\n",
       "      <td>0.774</td>\n",
       "      <td>166875.000000</td>\n",
       "      <td>0.700</td>\n",
       "      <td>0.00253</td>\n",
       "      <td>2</td>\n",
       "      <td>0.157</td>\n",
       "      <td>-4.498</td>\n",
       "      <td>1</td>\n",
       "      <td>0.2390</td>\n",
       "      <td>128.014</td>\n",
       "      <td>0.270</td>\n",
       "      <td>Electronic</td>\n",
       "    </tr>\n",
       "    <tr>\n",
       "      <th>4</th>\n",
       "      <td>32.0</td>\n",
       "      <td>0.00465</td>\n",
       "      <td>0.638</td>\n",
       "      <td>222369.000000</td>\n",
       "      <td>0.587</td>\n",
       "      <td>0.90900</td>\n",
       "      <td>7</td>\n",
       "      <td>0.157</td>\n",
       "      <td>-6.266</td>\n",
       "      <td>1</td>\n",
       "      <td>0.0413</td>\n",
       "      <td>145.036</td>\n",
       "      <td>0.323</td>\n",
       "      <td>Electronic</td>\n",
       "    </tr>\n",
       "  </tbody>\n",
       "</table>\n",
       "</div>"
      ],
      "text/plain": [
       "   popularity  acousticness  danceability    duration_ms  energy  \\\n",
       "0        27.0       0.00468         0.652  245503.541466   0.941   \n",
       "1        31.0       0.01270         0.622  218293.000000   0.890   \n",
       "2        28.0       0.00306         0.620  215613.000000   0.755   \n",
       "3        34.0       0.02540         0.774  166875.000000   0.700   \n",
       "4        32.0       0.00465         0.638  222369.000000   0.587   \n",
       "\n",
       "   instrumentalness  key  liveness  loudness  mode  speechiness    tempo  \\\n",
       "0           0.79200   11     0.115    -5.201     0       0.0748  100.889   \n",
       "1           0.95000    3     0.124    -7.043     0       0.0300  115.002   \n",
       "2           0.01180    9     0.534    -4.617     1       0.0345  127.994   \n",
       "3           0.00253    2     0.157    -4.498     1       0.2390  128.014   \n",
       "4           0.90900    7     0.157    -6.266     1       0.0413  145.036   \n",
       "\n",
       "   valence music_genre  \n",
       "0    0.759  Electronic  \n",
       "1    0.531  Electronic  \n",
       "2    0.333  Electronic  \n",
       "3    0.270  Electronic  \n",
       "4    0.323  Electronic  "
      ]
     },
     "execution_count": 2,
     "metadata": {},
     "output_type": "execute_result"
    }
   ],
   "source": [
    "music_genre = pd.read_csv(\"../data/music_genre_preprocessed.csv\")\n",
    "music_genre.pop('Unnamed: 0')\n",
    "music_genre.head()"
   ]
  },
  {
   "cell_type": "code",
   "execution_count": 3,
   "id": "492d1744",
   "metadata": {},
   "outputs": [],
   "source": [
    "music_genre_mapping = {\n",
    "    \"Electronic\" :1,\n",
    "    \"Rap\":2,\n",
    "    \"Classical\" :3,\n",
    "    \"Rock\":4,\n",
    "    \"Hip-Hop\" :5,\n",
    "    \"Anime\" :6,\n",
    "    \"Blues\":7,\n",
    "    \"Country\" :8,\n",
    "    \"Jazz\":9,\n",
    "    \"Alternative\" :10\n",
    "}\n",
    "music_genre['music_genre'] = music_genre['music_genre'].map(music_genre_mapping)"
   ]
  },
  {
   "cell_type": "code",
   "execution_count": 4,
   "id": "321030a6",
   "metadata": {},
   "outputs": [
    {
     "data": {
      "text/html": [
       "<div>\n",
       "<style scoped>\n",
       "    .dataframe tbody tr th:only-of-type {\n",
       "        vertical-align: middle;\n",
       "    }\n",
       "\n",
       "    .dataframe tbody tr th {\n",
       "        vertical-align: top;\n",
       "    }\n",
       "\n",
       "    .dataframe thead th {\n",
       "        text-align: right;\n",
       "    }\n",
       "</style>\n",
       "<table border=\"1\" class=\"dataframe\">\n",
       "  <thead>\n",
       "    <tr style=\"text-align: right;\">\n",
       "      <th></th>\n",
       "      <th>popularity</th>\n",
       "      <th>acousticness</th>\n",
       "      <th>danceability</th>\n",
       "      <th>duration_ms</th>\n",
       "      <th>energy</th>\n",
       "      <th>instrumentalness</th>\n",
       "      <th>key</th>\n",
       "      <th>liveness</th>\n",
       "      <th>loudness</th>\n",
       "      <th>mode</th>\n",
       "      <th>speechiness</th>\n",
       "      <th>tempo</th>\n",
       "      <th>valence</th>\n",
       "      <th>music_genre</th>\n",
       "    </tr>\n",
       "  </thead>\n",
       "  <tbody>\n",
       "    <tr>\n",
       "      <th>count</th>\n",
       "      <td>50000.000000</td>\n",
       "      <td>50000.000000</td>\n",
       "      <td>50000.000000</td>\n",
       "      <td>5.000000e+04</td>\n",
       "      <td>50000.000000</td>\n",
       "      <td>50000.000000</td>\n",
       "      <td>50000.000000</td>\n",
       "      <td>50000.000000</td>\n",
       "      <td>50000.000000</td>\n",
       "      <td>50000.000000</td>\n",
       "      <td>50000.000000</td>\n",
       "      <td>50000.000000</td>\n",
       "      <td>50000.000000</td>\n",
       "      <td>50000.00000</td>\n",
       "    </tr>\n",
       "    <tr>\n",
       "      <th>mean</th>\n",
       "      <td>44.220420</td>\n",
       "      <td>0.306383</td>\n",
       "      <td>0.558241</td>\n",
       "      <td>2.455035e+05</td>\n",
       "      <td>0.599755</td>\n",
       "      <td>0.181601</td>\n",
       "      <td>6.227220</td>\n",
       "      <td>0.193896</td>\n",
       "      <td>-9.133761</td>\n",
       "      <td>0.641980</td>\n",
       "      <td>0.093586</td>\n",
       "      <td>119.952961</td>\n",
       "      <td>0.456264</td>\n",
       "      <td>5.50000</td>\n",
       "    </tr>\n",
       "    <tr>\n",
       "      <th>std</th>\n",
       "      <td>15.542008</td>\n",
       "      <td>0.341340</td>\n",
       "      <td>0.178632</td>\n",
       "      <td>1.057864e+05</td>\n",
       "      <td>0.264559</td>\n",
       "      <td>0.325409</td>\n",
       "      <td>3.557668</td>\n",
       "      <td>0.161637</td>\n",
       "      <td>6.162990</td>\n",
       "      <td>0.479423</td>\n",
       "      <td>0.101373</td>\n",
       "      <td>29.075697</td>\n",
       "      <td>0.247119</td>\n",
       "      <td>2.87231</td>\n",
       "    </tr>\n",
       "    <tr>\n",
       "      <th>min</th>\n",
       "      <td>0.000000</td>\n",
       "      <td>0.000000</td>\n",
       "      <td>0.059600</td>\n",
       "      <td>1.550900e+04</td>\n",
       "      <td>0.000792</td>\n",
       "      <td>0.000000</td>\n",
       "      <td>1.000000</td>\n",
       "      <td>0.009670</td>\n",
       "      <td>-47.046000</td>\n",
       "      <td>0.000000</td>\n",
       "      <td>0.022300</td>\n",
       "      <td>34.347000</td>\n",
       "      <td>0.000000</td>\n",
       "      <td>1.00000</td>\n",
       "    </tr>\n",
       "    <tr>\n",
       "      <th>25%</th>\n",
       "      <td>34.000000</td>\n",
       "      <td>0.020000</td>\n",
       "      <td>0.442000</td>\n",
       "      <td>1.948750e+05</td>\n",
       "      <td>0.433000</td>\n",
       "      <td>0.000000</td>\n",
       "      <td>3.000000</td>\n",
       "      <td>0.096900</td>\n",
       "      <td>-10.860000</td>\n",
       "      <td>0.000000</td>\n",
       "      <td>0.036100</td>\n",
       "      <td>96.775750</td>\n",
       "      <td>0.257000</td>\n",
       "      <td>3.00000</td>\n",
       "    </tr>\n",
       "    <tr>\n",
       "      <th>50%</th>\n",
       "      <td>45.000000</td>\n",
       "      <td>0.144000</td>\n",
       "      <td>0.568000</td>\n",
       "      <td>2.360270e+05</td>\n",
       "      <td>0.643000</td>\n",
       "      <td>0.000158</td>\n",
       "      <td>6.000000</td>\n",
       "      <td>0.126000</td>\n",
       "      <td>-7.276500</td>\n",
       "      <td>1.000000</td>\n",
       "      <td>0.048900</td>\n",
       "      <td>119.952961</td>\n",
       "      <td>0.448000</td>\n",
       "      <td>5.50000</td>\n",
       "    </tr>\n",
       "    <tr>\n",
       "      <th>75%</th>\n",
       "      <td>56.000000</td>\n",
       "      <td>0.552000</td>\n",
       "      <td>0.687000</td>\n",
       "      <td>2.686122e+05</td>\n",
       "      <td>0.815000</td>\n",
       "      <td>0.155000</td>\n",
       "      <td>9.000000</td>\n",
       "      <td>0.244000</td>\n",
       "      <td>-5.173000</td>\n",
       "      <td>1.000000</td>\n",
       "      <td>0.098525</td>\n",
       "      <td>139.468250</td>\n",
       "      <td>0.648000</td>\n",
       "      <td>8.00000</td>\n",
       "    </tr>\n",
       "    <tr>\n",
       "      <th>max</th>\n",
       "      <td>99.000000</td>\n",
       "      <td>0.996000</td>\n",
       "      <td>0.986000</td>\n",
       "      <td>4.830606e+06</td>\n",
       "      <td>0.999000</td>\n",
       "      <td>0.996000</td>\n",
       "      <td>12.000000</td>\n",
       "      <td>1.000000</td>\n",
       "      <td>3.744000</td>\n",
       "      <td>1.000000</td>\n",
       "      <td>0.942000</td>\n",
       "      <td>220.276000</td>\n",
       "      <td>0.992000</td>\n",
       "      <td>10.00000</td>\n",
       "    </tr>\n",
       "  </tbody>\n",
       "</table>\n",
       "</div>"
      ],
      "text/plain": [
       "         popularity  acousticness  danceability   duration_ms        energy  \\\n",
       "count  50000.000000  50000.000000  50000.000000  5.000000e+04  50000.000000   \n",
       "mean      44.220420      0.306383      0.558241  2.455035e+05      0.599755   \n",
       "std       15.542008      0.341340      0.178632  1.057864e+05      0.264559   \n",
       "min        0.000000      0.000000      0.059600  1.550900e+04      0.000792   \n",
       "25%       34.000000      0.020000      0.442000  1.948750e+05      0.433000   \n",
       "50%       45.000000      0.144000      0.568000  2.360270e+05      0.643000   \n",
       "75%       56.000000      0.552000      0.687000  2.686122e+05      0.815000   \n",
       "max       99.000000      0.996000      0.986000  4.830606e+06      0.999000   \n",
       "\n",
       "       instrumentalness           key      liveness      loudness  \\\n",
       "count      50000.000000  50000.000000  50000.000000  50000.000000   \n",
       "mean           0.181601      6.227220      0.193896     -9.133761   \n",
       "std            0.325409      3.557668      0.161637      6.162990   \n",
       "min            0.000000      1.000000      0.009670    -47.046000   \n",
       "25%            0.000000      3.000000      0.096900    -10.860000   \n",
       "50%            0.000158      6.000000      0.126000     -7.276500   \n",
       "75%            0.155000      9.000000      0.244000     -5.173000   \n",
       "max            0.996000     12.000000      1.000000      3.744000   \n",
       "\n",
       "               mode   speechiness         tempo       valence  music_genre  \n",
       "count  50000.000000  50000.000000  50000.000000  50000.000000  50000.00000  \n",
       "mean       0.641980      0.093586    119.952961      0.456264      5.50000  \n",
       "std        0.479423      0.101373     29.075697      0.247119      2.87231  \n",
       "min        0.000000      0.022300     34.347000      0.000000      1.00000  \n",
       "25%        0.000000      0.036100     96.775750      0.257000      3.00000  \n",
       "50%        1.000000      0.048900    119.952961      0.448000      5.50000  \n",
       "75%        1.000000      0.098525    139.468250      0.648000      8.00000  \n",
       "max        1.000000      0.942000    220.276000      0.992000     10.00000  "
      ]
     },
     "execution_count": 4,
     "metadata": {},
     "output_type": "execute_result"
    }
   ],
   "source": [
    "music_genre.describe()"
   ]
  },
  {
   "cell_type": "code",
   "execution_count": 5,
   "id": "14eac721",
   "metadata": {},
   "outputs": [
    {
     "data": {
      "text/plain": [
       "<AxesSubplot:xlabel='duration_ms', ylabel='Density'>"
      ]
     },
     "execution_count": 5,
     "metadata": {},
     "output_type": "execute_result"
    },
    {
     "data": {
      "image/png": "[encoded data removed]",
      "text/plain": [
       "<Figure size 504x504 with 1 Axes>"
      ]
     },
     "metadata": {
      "needs_background": "light"
     },
     "output_type": "display_data"
    }
   ],
   "source": [
    "fig = plt.figure(figsize=(7, 7))\n",
    "sns.kdeplot(\n",
    "    data=music_genre, \n",
    "    x=\"duration_ms\", \n",
    "    hue=\"music_genre\", \n",
    "    fill=True, \n",
    "    common_norm=False, \n",
    "    palette=\"muted\", \n",
    "    alpha=.20, \n",
    "    linewidth=2\n",
    ")"
   ]
  },
  {
   "cell_type": "markdown",
   "id": "3d480cd9",
   "metadata": {},
   "source": [
    "В столбце duration_ms явные выбросы.\n",
    "Уберем аномалии, пользуясь правилом трёх сигм."
   ]
  },
  {
   "cell_type": "code",
   "execution_count": 6,
   "id": "78f2d47b",
   "metadata": {},
   "outputs": [],
   "source": [
    "outliner_columns = ['duration_ms']"
   ]
  },
  {
   "cell_type": "code",
   "execution_count": 7,
   "id": "16103a03",
   "metadata": {},
   "outputs": [],
   "source": [
    "for col in outliner_columns:\n",
    "    # Первая и третья квантиль\n",
    "    first_quartile = music_genre[col].describe()['25%']\n",
    "    third_quartile = music_genre[col].describe()['75%']\n",
    "\n",
    "    # Интерквантильный размах\n",
    "    iqr = third_quartile - first_quartile\n",
    "\n",
    "    # Убираем аномалии\n",
    "    music_genre = music_genre[(music_genre[col] > (first_quartile - 3 * iqr)) & \n",
    "                              (music_genre[col] < (third_quartile + 3 * iqr))]"
   ]
  },
  {
   "cell_type": "code",
   "execution_count": 8,
   "id": "a170821d",
   "metadata": {},
   "outputs": [
    {
     "data": {
      "text/html": [
       "<div>\n",
       "<style scoped>\n",
       "    .dataframe tbody tr th:only-of-type {\n",
       "        vertical-align: middle;\n",
       "    }\n",
       "\n",
       "    .dataframe tbody tr th {\n",
       "        vertical-align: top;\n",
       "    }\n",
       "\n",
       "    .dataframe thead th {\n",
       "        text-align: right;\n",
       "    }\n",
       "</style>\n",
       "<table border=\"1\" class=\"dataframe\">\n",
       "  <thead>\n",
       "    <tr style=\"text-align: right;\">\n",
       "      <th></th>\n",
       "      <th>popularity</th>\n",
       "      <th>acousticness</th>\n",
       "      <th>danceability</th>\n",
       "      <th>duration_ms</th>\n",
       "      <th>energy</th>\n",
       "      <th>instrumentalness</th>\n",
       "      <th>key</th>\n",
       "      <th>liveness</th>\n",
       "      <th>loudness</th>\n",
       "      <th>mode</th>\n",
       "      <th>speechiness</th>\n",
       "      <th>tempo</th>\n",
       "      <th>valence</th>\n",
       "      <th>music_genre</th>\n",
       "    </tr>\n",
       "  </thead>\n",
       "  <tbody>\n",
       "    <tr>\n",
       "      <th>count</th>\n",
       "      <td>48845.000000</td>\n",
       "      <td>48845.000000</td>\n",
       "      <td>48845.000000</td>\n",
       "      <td>48845.000000</td>\n",
       "      <td>48845.000000</td>\n",
       "      <td>48845.000000</td>\n",
       "      <td>48845.000000</td>\n",
       "      <td>48845.000000</td>\n",
       "      <td>48845.000000</td>\n",
       "      <td>48845.000000</td>\n",
       "      <td>48845.000000</td>\n",
       "      <td>48845.000000</td>\n",
       "      <td>48845.000000</td>\n",
       "      <td>48845.00000</td>\n",
       "    </tr>\n",
       "    <tr>\n",
       "      <th>mean</th>\n",
       "      <td>44.473375</td>\n",
       "      <td>0.298855</td>\n",
       "      <td>0.562866</td>\n",
       "      <td>235305.670617</td>\n",
       "      <td>0.605645</td>\n",
       "      <td>0.172761</td>\n",
       "      <td>6.231917</td>\n",
       "      <td>0.193373</td>\n",
       "      <td>-8.962961</td>\n",
       "      <td>0.642604</td>\n",
       "      <td>0.094520</td>\n",
       "      <td>120.176546</td>\n",
       "      <td>0.461054</td>\n",
       "      <td>5.52511</td>\n",
       "    </tr>\n",
       "    <tr>\n",
       "      <th>std</th>\n",
       "      <td>15.502855</td>\n",
       "      <td>0.336454</td>\n",
       "      <td>0.175868</td>\n",
       "      <td>68421.011278</td>\n",
       "      <td>0.260898</td>\n",
       "      <td>0.319434</td>\n",
       "      <td>3.559544</td>\n",
       "      <td>0.159714</td>\n",
       "      <td>6.029477</td>\n",
       "      <td>0.479238</td>\n",
       "      <td>0.102156</td>\n",
       "      <td>29.087529</td>\n",
       "      <td>0.245644</td>\n",
       "      <td>2.87178</td>\n",
       "    </tr>\n",
       "    <tr>\n",
       "      <th>min</th>\n",
       "      <td>0.000000</td>\n",
       "      <td>0.000000</td>\n",
       "      <td>0.059600</td>\n",
       "      <td>15509.000000</td>\n",
       "      <td>0.000792</td>\n",
       "      <td>0.000000</td>\n",
       "      <td>1.000000</td>\n",
       "      <td>0.009670</td>\n",
       "      <td>-47.046000</td>\n",
       "      <td>0.000000</td>\n",
       "      <td>0.022300</td>\n",
       "      <td>34.347000</td>\n",
       "      <td>0.000000</td>\n",
       "      <td>1.00000</td>\n",
       "    </tr>\n",
       "    <tr>\n",
       "      <th>25%</th>\n",
       "      <td>34.000000</td>\n",
       "      <td>0.019400</td>\n",
       "      <td>0.449000</td>\n",
       "      <td>193980.000000</td>\n",
       "      <td>0.442000</td>\n",
       "      <td>0.000000</td>\n",
       "      <td>3.000000</td>\n",
       "      <td>0.097100</td>\n",
       "      <td>-10.628000</td>\n",
       "      <td>0.000000</td>\n",
       "      <td>0.036000</td>\n",
       "      <td>96.988000</td>\n",
       "      <td>0.265000</td>\n",
       "      <td>3.00000</td>\n",
       "    </tr>\n",
       "    <tr>\n",
       "      <th>50%</th>\n",
       "      <td>45.000000</td>\n",
       "      <td>0.139000</td>\n",
       "      <td>0.572000</td>\n",
       "      <td>234000.000000</td>\n",
       "      <td>0.648000</td>\n",
       "      <td>0.000119</td>\n",
       "      <td>6.000000</td>\n",
       "      <td>0.127000</td>\n",
       "      <td>-7.190000</td>\n",
       "      <td>1.000000</td>\n",
       "      <td>0.049200</td>\n",
       "      <td>119.952961</td>\n",
       "      <td>0.453000</td>\n",
       "      <td>6.00000</td>\n",
       "    </tr>\n",
       "    <tr>\n",
       "      <th>75%</th>\n",
       "      <td>56.000000</td>\n",
       "      <td>0.530000</td>\n",
       "      <td>0.689000</td>\n",
       "      <td>264031.000000</td>\n",
       "      <td>0.818000</td>\n",
       "      <td>0.115000</td>\n",
       "      <td>9.000000</td>\n",
       "      <td>0.244000</td>\n",
       "      <td>-5.132000</td>\n",
       "      <td>1.000000</td>\n",
       "      <td>0.101000</td>\n",
       "      <td>139.864000</td>\n",
       "      <td>0.652000</td>\n",
       "      <td>8.00000</td>\n",
       "    </tr>\n",
       "    <tr>\n",
       "      <th>max</th>\n",
       "      <td>99.000000</td>\n",
       "      <td>0.996000</td>\n",
       "      <td>0.986000</td>\n",
       "      <td>489763.000000</td>\n",
       "      <td>0.999000</td>\n",
       "      <td>0.996000</td>\n",
       "      <td>12.000000</td>\n",
       "      <td>1.000000</td>\n",
       "      <td>3.744000</td>\n",
       "      <td>1.000000</td>\n",
       "      <td>0.942000</td>\n",
       "      <td>220.276000</td>\n",
       "      <td>0.992000</td>\n",
       "      <td>10.00000</td>\n",
       "    </tr>\n",
       "  </tbody>\n",
       "</table>\n",
       "</div>"
      ],
      "text/plain": [
       "         popularity  acousticness  danceability    duration_ms        energy  \\\n",
       "count  48845.000000  48845.000000  48845.000000   48845.000000  48845.000000   \n",
       "mean      44.473375      0.298855      0.562866  235305.670617      0.605645   \n",
       "std       15.502855      0.336454      0.175868   68421.011278      0.260898   \n",
       "min        0.000000      0.000000      0.059600   15509.000000      0.000792   \n",
       "25%       34.000000      0.019400      0.449000  193980.000000      0.442000   \n",
       "50%       45.000000      0.139000      0.572000  234000.000000      0.648000   \n",
       "75%       56.000000      0.530000      0.689000  264031.000000      0.818000   \n",
       "max       99.000000      0.996000      0.986000  489763.000000      0.999000   \n",
       "\n",
       "       instrumentalness           key      liveness      loudness  \\\n",
       "count      48845.000000  48845.000000  48845.000000  48845.000000   \n",
       "mean           0.172761      6.231917      0.193373     -8.962961   \n",
       "std            0.319434      3.559544      0.159714      6.029477   \n",
       "min            0.000000      1.000000      0.009670    -47.046000   \n",
       "25%            0.000000      3.000000      0.097100    -10.628000   \n",
       "50%            0.000119      6.000000      0.127000     -7.190000   \n",
       "75%            0.115000      9.000000      0.244000     -5.132000   \n",
       "max            0.996000     12.000000      1.000000      3.744000   \n",
       "\n",
       "               mode   speechiness         tempo       valence  music_genre  \n",
       "count  48845.000000  48845.000000  48845.000000  48845.000000  48845.00000  \n",
       "mean       0.642604      0.094520    120.176546      0.461054      5.52511  \n",
       "std        0.479238      0.102156     29.087529      0.245644      2.87178  \n",
       "min        0.000000      0.022300     34.347000      0.000000      1.00000  \n",
       "25%        0.000000      0.036000     96.988000      0.265000      3.00000  \n",
       "50%        1.000000      0.049200    119.952961      0.453000      6.00000  \n",
       "75%        1.000000      0.101000    139.864000      0.652000      8.00000  \n",
       "max        1.000000      0.942000    220.276000      0.992000     10.00000  "
      ]
     },
     "execution_count": 8,
     "metadata": {},
     "output_type": "execute_result"
    }
   ],
   "source": [
    "music_genre.describe()"
   ]
  },
  {
   "cell_type": "code",
   "execution_count": 9,
   "id": "0747bf81",
   "metadata": {},
   "outputs": [
    {
     "data": {
      "text/plain": [
       "<AxesSubplot:xlabel='duration_ms', ylabel='Density'>"
      ]
     },
     "execution_count": 9,
     "metadata": {},
     "output_type": "execute_result"
    },
    {
     "data": {
      "image/png": "[encoded data removed]",
      "text/plain": [
       "<Figure size 504x504 with 1 Axes>"
      ]
     },
     "metadata": {
      "needs_background": "light"
     },
     "output_type": "display_data"
    }
   ],
   "source": [
    "fig = plt.figure(figsize=(7, 7))\n",
    "sns.kdeplot(\n",
    "    data=music_genre, \n",
    "    x=\"duration_ms\", \n",
    "    hue=\"music_genre\", \n",
    "    fill=True, \n",
    "    common_norm=False, \n",
    "    palette=\"muted\", \n",
    "    alpha=.20, \n",
    "    linewidth=2\n",
    ")"
   ]
  },
  {
   "cell_type": "code",
   "execution_count": 10,
   "id": "14a53547",
   "metadata": {},
   "outputs": [],
   "source": [
    "# Возьмем только 5000 объектов из перемешанной выборки\n",
    "music_genre = shuffle(music_genre, random_state=0)\n",
    "music_genre = music_genre.iloc[:5000]\n",
    "music_genre.reset_index(drop=True, inplace=True)"
   ]
  },
  {
   "cell_type": "code",
   "execution_count": 11,
   "id": "d7e2a9b7",
   "metadata": {},
   "outputs": [],
   "source": [
    "X = music_genre.drop(['music_genre'], 1)\n",
    "y = music_genre['music_genre']"
   ]
  },
  {
   "cell_type": "code",
   "execution_count": 12,
   "id": "a1d729f8",
   "metadata": {},
   "outputs": [],
   "source": [
    "# Разбиваем выборку на обучающую и тестовую\n",
    "X_train, X_test, y_train, y_test = train_test_split(X, y, test_size=0.30)"
   ]
  },
  {
   "cell_type": "markdown",
   "id": "41cd0030",
   "metadata": {},
   "source": [
    "Алгоритмы KNN и SVM требуют масштабирования признаков, стандартизируем данные."
   ]
  },
  {
   "cell_type": "code",
   "execution_count": 13,
   "id": "b4ace7b7",
   "metadata": {},
   "outputs": [],
   "source": [
    "# Масштабируем признаки\n",
    "scaler = StandardScaler()\n",
    "scaler.fit(X_train)\n",
    "\n",
    "X_train = scaler.transform(X_train)\n",
    "X_test = scaler.transform(X_test)"
   ]
  },
  {
   "cell_type": "markdown",
   "id": "af06747e",
   "metadata": {},
   "source": [
    "# Models"
   ]
  },
  {
   "cell_type": "code",
   "execution_count": 14,
   "id": "0126a3dc",
   "metadata": {},
   "outputs": [],
   "source": [
    "from sklearn.neighbors import KNeighborsClassifier\n",
    "from sklearn.tree import DecisionTreeClassifier\n",
    "from sklearn.naive_bayes import GaussianNB, BernoulliNB\n",
    "from sklearn.svm import SVC\n",
    "from sklearn.linear_model import LogisticRegression\n",
    "\n",
    "from sklearn.model_selection import GridSearchCV\n",
    "from sklearn.metrics import classification_report, confusion_matrix"
   ]
  },
  {
   "cell_type": "markdown",
   "id": "b13eecbb",
   "metadata": {},
   "source": [
    "# KNN (k Nearest Neighbor)"
   ]
  },
  {
   "cell_type": "code",
   "execution_count": 19,
   "id": "9c0e71c2",
   "metadata": {},
   "outputs": [
    {
     "data": {
      "text/plain": [
       "{'n_neighbors': 6}"
      ]
     },
     "execution_count": 19,
     "metadata": {},
     "output_type": "execute_result"
    }
   ],
   "source": [
    "parameters = {'n_neighbors':[3, 4, 5, 6, 7]}\n",
    "knn = KNeighborsClassifier()\n",
    "\n",
    "clf = GridSearchCV(knn, parameters)\n",
    "clf.fit(X_train, y_train)\n",
    "clf.best_params_"
   ]
  },
  {
   "cell_type": "code",
   "execution_count": 20,
   "id": "a4225c69",
   "metadata": {},
   "outputs": [
    {
     "name": "stdout",
     "output_type": "stream",
     "text": [
      "[[ 78   7   1   6   5  11   9  12   9  11]\n",
      " [  3  64   0  21  43   0   1   7   1   7]\n",
      " [  4   0 112   1   0   4   6   3   9   2]\n",
      " [  3  13   0  74   4   0   1  27   3  16]\n",
      " [  5  65   0  16  61   0   2   8   0   5]\n",
      " [ 10   0  19   1   0  88   8   7   5   5]\n",
      " [ 18   6   4   3   1  14  53  28   5   7]\n",
      " [  5   4   0  36   6   4  13  76   7  11]\n",
      " [ 30   4  22   8   5   9  22  15  41   4]\n",
      " [ 15  15   0  29  14   3   8  32  11  29]]\n",
      "              precision    recall  f1-score   support\n",
      "\n",
      "           1       0.46      0.52      0.49       149\n",
      "           2       0.36      0.44      0.39       147\n",
      "           3       0.71      0.79      0.75       141\n",
      "           4       0.38      0.52      0.44       141\n",
      "           5       0.44      0.38      0.41       162\n",
      "           6       0.66      0.62      0.64       143\n",
      "           7       0.43      0.38      0.40       139\n",
      "           8       0.35      0.47      0.40       162\n",
      "           9       0.45      0.26      0.33       160\n",
      "          10       0.30      0.19      0.23       156\n",
      "\n",
      "    accuracy                           0.45      1500\n",
      "   macro avg       0.45      0.46      0.45      1500\n",
      "weighted avg       0.45      0.45      0.44      1500\n",
      "\n"
     ]
    }
   ],
   "source": [
    "y_pred = clf.predict(X_test)\n",
    "print(confusion_matrix(y_test, y_pred))\n",
    "print(classification_report(y_test, y_pred))"
   ]
  },
  {
   "cell_type": "markdown",
   "id": "127f4109",
   "metadata": {},
   "source": [
    "Модель хорошо отделяет класс классической и аниме музыки.\n",
    "Хорошее отделение класической музыки от остальной выборки было видно и на визуализации."
   ]
  },
  {
   "cell_type": "markdown",
   "id": "1e36b2d8",
   "metadata": {},
   "source": [
    "# DTC (Desicion Tree Classifier)"
   ]
  },
  {
   "cell_type": "code",
   "execution_count": 21,
   "id": "95df49d1",
   "metadata": {},
   "outputs": [
    {
     "data": {
      "text/plain": [
       "{'max_depth': 7}"
      ]
     },
     "execution_count": 21,
     "metadata": {},
     "output_type": "execute_result"
    }
   ],
   "source": [
    "parameters = {'max_depth':range(1, 15)}\n",
    "dtc = DecisionTreeClassifier()\n",
    "\n",
    "clf = GridSearchCV(dtc, parameters)\n",
    "clf.fit(X_train, y_train)\n",
    "clf.best_params_"
   ]
  },
  {
   "cell_type": "code",
   "execution_count": 22,
   "id": "d6aba8fa",
   "metadata": {},
   "outputs": [
    {
     "name": "stdout",
     "output_type": "stream",
     "text": [
      "[[ 60   4   1   6   2   7  36  11  17   5]\n",
      " [  2  33   0  18  84   1   0   1   0   8]\n",
      " [  3   0 101   1   0   5  11   7  10   3]\n",
      " [  4  15   0  91   4   0   1   8   4  14]\n",
      " [  1  33   0  11 101   0   0  11   0   5]\n",
      " [  6   0  13   2   0  86  22   7   5   2]\n",
      " [ 12   0   7   6   0  16  56  32   6   4]\n",
      " [  1   3   1  27   3   1   6 115   2   3]\n",
      " [ 17   0  14   8   4   2  33  39  38   5]\n",
      " [  7  16   3  29  21   1   6  43   7  23]]\n",
      "              precision    recall  f1-score   support\n",
      "\n",
      "           1       0.53      0.40      0.46       149\n",
      "           2       0.32      0.22      0.26       147\n",
      "           3       0.72      0.72      0.72       141\n",
      "           4       0.46      0.65      0.54       141\n",
      "           5       0.46      0.62      0.53       162\n",
      "           6       0.72      0.60      0.66       143\n",
      "           7       0.33      0.40      0.36       139\n",
      "           8       0.42      0.71      0.53       162\n",
      "           9       0.43      0.24      0.31       160\n",
      "          10       0.32      0.15      0.20       156\n",
      "\n",
      "    accuracy                           0.47      1500\n",
      "   macro avg       0.47      0.47      0.46      1500\n",
      "weighted avg       0.47      0.47      0.45      1500\n",
      "\n"
     ]
    }
   ],
   "source": [
    "y_pred = clf.predict(X_test)\n",
    "print(confusion_matrix(y_test, y_pred))\n",
    "print(classification_report(y_test, y_pred))"
   ]
  },
  {
   "cell_type": "markdown",
   "id": "e58e82b9",
   "metadata": {},
   "source": [
    "Модель хорошо отделяет класс классической и аниме музыки."
   ]
  },
  {
   "cell_type": "markdown",
   "id": "7a42086a",
   "metadata": {},
   "source": [
    "# NB (Naive Bayes)"
   ]
  },
  {
   "cell_type": "code",
   "execution_count": 23,
   "id": "337318b9",
   "metadata": {},
   "outputs": [
    {
     "data": {
      "text/plain": [
       "GaussianNB()"
      ]
     },
     "execution_count": 23,
     "metadata": {},
     "output_type": "execute_result"
    }
   ],
   "source": [
    "clf = GaussianNB()\n",
    "clf.fit(X_train, y_train)"
   ]
  },
  {
   "cell_type": "code",
   "execution_count": 24,
   "id": "98c599d8",
   "metadata": {},
   "outputs": [
    {
     "name": "stdout",
     "output_type": "stream",
     "text": [
      "[[ 64   2   1   3   9   9   8  22  18  13]\n",
      " [  0  71   0   8  45   1   0  15   2   5]\n",
      " [  2   0 123   0   0   2   5   3   4   2]\n",
      " [  2  15   3  55   4   0   0  50   3   9]\n",
      " [  0  71   0   4  59   0   2  24   0   2]\n",
      " [ 10   0  27   0   0  52  15  31   5   3]\n",
      " [ 12   1   5   7   3   9  35  51  12   4]\n",
      " [  2   4   1  13   4   3   6 119   3   7]\n",
      " [ 24   1  32   4  12   2  25  14  43   3]\n",
      " [  8  15   0  12  14   0   4  58  13  32]]\n",
      "              precision    recall  f1-score   support\n",
      "\n",
      "           1       0.52      0.43      0.47       149\n",
      "           2       0.39      0.48      0.43       147\n",
      "           3       0.64      0.87      0.74       141\n",
      "           4       0.52      0.39      0.45       141\n",
      "           5       0.39      0.36      0.38       162\n",
      "           6       0.67      0.36      0.47       143\n",
      "           7       0.35      0.25      0.29       139\n",
      "           8       0.31      0.73      0.43       162\n",
      "           9       0.42      0.27      0.33       160\n",
      "          10       0.40      0.21      0.27       156\n",
      "\n",
      "    accuracy                           0.44      1500\n",
      "   macro avg       0.46      0.44      0.43      1500\n",
      "weighted avg       0.46      0.44      0.42      1500\n",
      "\n"
     ]
    }
   ],
   "source": [
    "y_pred = clf.predict(X_test)\n",
    "print(confusion_matrix(y_test, y_pred))\n",
    "print(classification_report(y_test, y_pred))"
   ]
  },
  {
   "cell_type": "code",
   "execution_count": 25,
   "id": "421c78ef",
   "metadata": {},
   "outputs": [
    {
     "data": {
      "text/plain": [
       "BernoulliNB()"
      ]
     },
     "execution_count": 25,
     "metadata": {},
     "output_type": "execute_result"
    }
   ],
   "source": [
    "clf = BernoulliNB()\n",
    "clf.fit(X_train, y_train)"
   ]
  },
  {
   "cell_type": "code",
   "execution_count": 26,
   "id": "435ccdbd",
   "metadata": {},
   "outputs": [
    {
     "name": "stdout",
     "output_type": "stream",
     "text": [
      "[[ 71   4   7   9   4  16   3  10  19   6]\n",
      " [  1  32   0  21  73   0   1   9   2   8]\n",
      " [  1   0 126   3   1   1   3   0   5   1]\n",
      " [  4  11   6  69   4   0   0  25   6  16]\n",
      " [  1  22   0  16  93   0   0  17   4   9]\n",
      " [ 19   0  36   1   0  53   5  18   4   7]\n",
      " [  6   0  14   8   1  28  30  26  21   5]\n",
      " [  3   5  15  39   3  11  14  55  11   6]\n",
      " [ 21   1  41  11   5  13  11   8  47   2]\n",
      " [ 12  11   4  46  14   7   3  20  12  27]]\n",
      "              precision    recall  f1-score   support\n",
      "\n",
      "           1       0.51      0.48      0.49       149\n",
      "           2       0.37      0.22      0.27       147\n",
      "           3       0.51      0.89      0.65       141\n",
      "           4       0.31      0.49      0.38       141\n",
      "           5       0.47      0.57      0.52       162\n",
      "           6       0.41      0.37      0.39       143\n",
      "           7       0.43      0.22      0.29       139\n",
      "           8       0.29      0.34      0.31       162\n",
      "           9       0.36      0.29      0.32       160\n",
      "          10       0.31      0.17      0.22       156\n",
      "\n",
      "    accuracy                           0.40      1500\n",
      "   macro avg       0.40      0.40      0.38      1500\n",
      "weighted avg       0.40      0.40      0.38      1500\n",
      "\n"
     ]
    }
   ],
   "source": [
    "y_pred = clf.predict(X_test)\n",
    "print(confusion_matrix(y_test, y_pred))\n",
    "print(classification_report(y_test, y_pred))"
   ]
  },
  {
   "cell_type": "markdown",
   "id": "ca8bb28a",
   "metadata": {},
   "source": [
    "# SVM (Support Vector Machine)"
   ]
  },
  {
   "cell_type": "code",
   "execution_count": 27,
   "id": "78aa77bf",
   "metadata": {},
   "outputs": [
    {
     "data": {
      "text/plain": [
       "{'C': 0.7}"
      ]
     },
     "execution_count": 27,
     "metadata": {},
     "output_type": "execute_result"
    }
   ],
   "source": [
    "parameters = {'C':[0.1, 0.4, 0.7, 1]}\n",
    "svc = SVC()\n",
    "\n",
    "clf = GridSearchCV(svc, parameters)\n",
    "clf.fit(X_train, y_train)\n",
    "clf.best_params_"
   ]
  },
  {
   "cell_type": "code",
   "execution_count": 28,
   "id": "fa7ab0b0",
   "metadata": {},
   "outputs": [
    {
     "name": "stdout",
     "output_type": "stream",
     "text": [
      "[[ 81   1   1   5   8  15   7   7  16   8]\n",
      " [  1  40   0  20  74   0   1   3   1   7]\n",
      " [  2   0 118   0   0   3   5   1   9   3]\n",
      " [  2   5   0 100   3   0   1  10   5  15]\n",
      " [  1  40   0  14  89   0   1   9   3   5]\n",
      " [  6   1  20   0   0  94   9   5   3   5]\n",
      " [  9   1   4   5   1  16  62  18  15   8]\n",
      " [  4   0   1  30   4   3  15  89   7   9]\n",
      " [ 23   0  18   6   8   7  19  11  67   1]\n",
      " [ 13   5   0  27  21   1   4  32  11  42]]\n",
      "              precision    recall  f1-score   support\n",
      "\n",
      "           1       0.57      0.54      0.56       149\n",
      "           2       0.43      0.27      0.33       147\n",
      "           3       0.73      0.84      0.78       141\n",
      "           4       0.48      0.71      0.57       141\n",
      "           5       0.43      0.55      0.48       162\n",
      "           6       0.68      0.66      0.67       143\n",
      "           7       0.50      0.45      0.47       139\n",
      "           8       0.48      0.55      0.51       162\n",
      "           9       0.49      0.42      0.45       160\n",
      "          10       0.41      0.27      0.32       156\n",
      "\n",
      "    accuracy                           0.52      1500\n",
      "   macro avg       0.52      0.53      0.52      1500\n",
      "weighted avg       0.52      0.52      0.51      1500\n",
      "\n"
     ]
    }
   ],
   "source": [
    "y_pred = clf.predict(X_test)\n",
    "print(confusion_matrix(y_test, y_pred))\n",
    "print(classification_report(y_test, y_pred))"
   ]
  },
  {
   "cell_type": "code",
   "execution_count": 29,
   "id": "c6b70fb2",
   "metadata": {},
   "outputs": [
    {
     "data": {
      "text/plain": [
       "{'C': 0.4}"
      ]
     },
     "execution_count": 29,
     "metadata": {},
     "output_type": "execute_result"
    }
   ],
   "source": [
    "parameters = {'C':np.arange(0.1, 2, 0.3)}\n",
    "lr = LogisticRegression()\n",
    "\n",
    "clf = GridSearchCV(lr, parameters)\n",
    "clf.fit(X_train, y_train)\n",
    "clf.best_params_"
   ]
  },
  {
   "cell_type": "code",
   "execution_count": 30,
   "id": "55ab53ac",
   "metadata": {},
   "outputs": [
    {
     "name": "stdout",
     "output_type": "stream",
     "text": [
      "[[ 86   0   0   6   4  14   8   9  16   6]\n",
      " [  1  39   0  17  73   1   0   6   2   8]\n",
      " [  3   0 109   0   0  11   9   1   5   3]\n",
      " [  1   4   1 102   2   0   1  12   1  17]\n",
      " [  1  42   0   9  85   0   0  13   3   9]\n",
      " [  6   0  19   0   1  91  13   6   3   4]\n",
      " [  4   0   5  10   2  21  61  19  15   2]\n",
      " [  2   0   0  27   2   5  17  90   4  15]\n",
      " [ 23   0  13   6   6  10  19  15  66   2]\n",
      " [  8  11   0  23  14   1   4  39  11  45]]\n",
      "              precision    recall  f1-score   support\n",
      "\n",
      "           1       0.64      0.58      0.61       149\n",
      "           2       0.41      0.27      0.32       147\n",
      "           3       0.74      0.77      0.76       141\n",
      "           4       0.51      0.72      0.60       141\n",
      "           5       0.45      0.52      0.48       162\n",
      "           6       0.59      0.64      0.61       143\n",
      "           7       0.46      0.44      0.45       139\n",
      "           8       0.43      0.56      0.48       162\n",
      "           9       0.52      0.41      0.46       160\n",
      "          10       0.41      0.29      0.34       156\n",
      "\n",
      "    accuracy                           0.52      1500\n",
      "   macro avg       0.52      0.52      0.51      1500\n",
      "weighted avg       0.51      0.52      0.51      1500\n",
      "\n"
     ]
    }
   ],
   "source": [
    "y_pred = clf.predict(X_test)\n",
    "print(confusion_matrix(y_test, y_pred))\n",
    "print(classification_report(y_test, y_pred))"
   ]
  },
  {
   "cell_type": "markdown",
   "id": "f77a7035",
   "metadata": {},
   "source": [
    "Лучше всего справился метод опорных векторов, остальные алгоритмы тоже справились неплохо, но хуже всех был наивный Байес."
   ]
  },
  {
   "cell_type": "markdown",
   "id": "c3b9fbf9",
   "metadata": {},
   "source": [
    "Алгоритмы хорошо определяют жанр классической музыки, но сильно путают «Rap» и «Hip-Hop»"
   ]
  },
  {
   "cell_type": "markdown",
   "id": "88b40b8c",
   "metadata": {},
   "source": [
    "# Task 2"
   ]
  },
  {
   "cell_type": "markdown",
   "id": "b8588ac2",
   "metadata": {},
   "source": [
    "### KNN — K-Nearest Neighbors"
   ]
  },
  {
   "cell_type": "code",
   "execution_count": 31,
   "id": "41e16fb9",
   "metadata": {},
   "outputs": [],
   "source": [
    "from modules.classification_models import KNN"
   ]
  },
  {
   "cell_type": "code",
   "execution_count": 32,
   "id": "2c5173d0",
   "metadata": {},
   "outputs": [],
   "source": [
    "clf = KNN(7)"
   ]
  },
  {
   "cell_type": "code",
   "execution_count": 33,
   "id": "b7a2858d",
   "metadata": {},
   "outputs": [],
   "source": [
    "clf.fit(X_train, y_train)"
   ]
  },
  {
   "cell_type": "code",
   "execution_count": 34,
   "id": "0b128d6a",
   "metadata": {},
   "outputs": [
    {
     "name": "stdout",
     "output_type": "stream",
     "text": [
      "[[ 76   7   2   5   5  13   9  16   9   7]\n",
      " [  4  57   0  17  48   0   0   8   1  12]\n",
      " [  4   0 112   1   0   5   8   2   7   2]\n",
      " [  5  11   1  75   3   0   1  30   2  13]\n",
      " [  3  67   0  17  61   0   2   7   1   4]\n",
      " [  8   0  18   1   1  87  10   9   6   3]\n",
      " [ 17   5   3   4   1  14  50  30   7   8]\n",
      " [  5   5   1  36   5   5  10  81   4  10]\n",
      " [ 29   3  21   8   6   7  24  15  44   3]\n",
      " [ 14  14   0  30  13   3   4  36  12  30]]\n",
      "              precision    recall  f1-score   support\n",
      "\n",
      "           1       0.46      0.51      0.48       149\n",
      "           2       0.34      0.39      0.36       147\n",
      "           3       0.71      0.79      0.75       141\n",
      "           4       0.39      0.53      0.45       141\n",
      "           5       0.43      0.38      0.40       162\n",
      "           6       0.65      0.61      0.63       143\n",
      "           7       0.42      0.36      0.39       139\n",
      "           8       0.35      0.50      0.41       162\n",
      "           9       0.47      0.28      0.35       160\n",
      "          10       0.33      0.19      0.24       156\n",
      "\n",
      "    accuracy                           0.45      1500\n",
      "   macro avg       0.45      0.45      0.45      1500\n",
      "weighted avg       0.45      0.45      0.44      1500\n",
      "\n"
     ]
    }
   ],
   "source": [
    "y_pred = clf.predict(X_test)\n",
    "print(confusion_matrix(y_test, y_pred))\n",
    "print(classification_report(y_test, y_pred))"
   ]
  },
  {
   "cell_type": "markdown",
   "id": "cb05d9e9",
   "metadata": {},
   "source": [
    "### DTC — Decision Tree Classifier"
   ]
  },
  {
   "cell_type": "code",
   "execution_count": 15,
   "id": "09b92c4c",
   "metadata": {},
   "outputs": [],
   "source": [
    "from modules.classification_models import DTC"
   ]
  },
  {
   "cell_type": "code",
   "execution_count": 27,
   "id": "dc971941",
   "metadata": {},
   "outputs": [],
   "source": [
    "clf = DTC(7, 1)"
   ]
  },
  {
   "cell_type": "code",
   "execution_count": 28,
   "id": "7bf89f7e",
   "metadata": {},
   "outputs": [],
   "source": [
    "data = np.array(np.concatenate((X_train, np.mat(y_train).T), axis=1))\n",
    "clf.fit(data[:1000])"
   ]
  },
  {
   "cell_type": "code",
   "execution_count": 29,
   "id": "816c5fa2",
   "metadata": {},
   "outputs": [
    {
     "name": "stdout",
     "output_type": "stream",
     "text": [
      "[[ 59   3   3   2   2  13  22   7  23   8]\n",
      " [  1  49   0   7  41   1   0   5   1  26]\n",
      " [  2   0 108   0   1  15   6  11  10   5]\n",
      " [  1  28   2  54   6   0   0  17   0  39]\n",
      " [  4  48   0  10  75   0   0   6   2  22]\n",
      " [  4   0  20   0   0  82  30   4  12   5]\n",
      " [ 17   2   7   2   2  12  45  30  14   4]\n",
      " [  2   5   1  17   3   1   2  94  14  12]\n",
      " [ 27   5  17   8   2   2  15  28  41  10]\n",
      " [ 22  15   5  20  13   0   3  28   9  42]]\n",
      "              precision    recall  f1-score   support\n",
      "\n",
      "           1       0.42      0.42      0.42       142\n",
      "           2       0.32      0.37      0.34       131\n",
      "           3       0.66      0.68      0.67       158\n",
      "           4       0.45      0.37      0.40       147\n",
      "           5       0.52      0.45      0.48       167\n",
      "           6       0.65      0.52      0.58       157\n",
      "           7       0.37      0.33      0.35       135\n",
      "           8       0.41      0.62      0.49       151\n",
      "           9       0.33      0.26      0.29       155\n",
      "          10       0.24      0.27      0.25       157\n",
      "\n",
      "    accuracy                           0.43      1500\n",
      "   macro avg       0.44      0.43      0.43      1500\n",
      "weighted avg       0.44      0.43      0.43      1500\n",
      "\n"
     ]
    }
   ],
   "source": [
    "y_pred = clf.predict(X_test)\n",
    "print(confusion_matrix(y_test, y_pred))\n",
    "print(classification_report(y_test, y_pred))"
   ]
  },
  {
   "cell_type": "markdown",
   "id": "fc541665",
   "metadata": {},
   "source": [
    "### NB — Naive Bayes"
   ]
  },
  {
   "cell_type": "code",
   "execution_count": null,
   "id": "7a32ae59",
   "metadata": {},
   "outputs": [],
   "source": [
    "from modules.classification_models import NB"
   ]
  },
  {
   "cell_type": "code",
   "execution_count": null,
   "id": "10c7ef79",
   "metadata": {},
   "outputs": [],
   "source": []
  },
  {
   "cell_type": "code",
   "execution_count": null,
   "id": "8a7102b5",
   "metadata": {},
   "outputs": [],
   "source": []
  },
  {
   "cell_type": "code",
   "execution_count": null,
   "id": "3e71d2e1",
   "metadata": {},
   "outputs": [],
   "source": [
    "y_pred = clf.predict(X_test)\n",
    "print(confusion_matrix(y_test, y_pred))\n",
    "print(classification_report(y_test, y_pred))"
   ]
  }
 ],
 "metadata": {
  "kernelspec": {
   "display_name": "Python 3",
   "language": "python",
   "name": "python3"
  },
  "language_info": {
   "codemirror_mode": {
    "name": "ipython",
    "version": 3
   },
   "file_extension": ".py",
   "mimetype": "text/x-python",
   "name": "python",
   "nbconvert_exporter": "python",
   "pygments_lexer": "ipython3",
   "version": "3.8.8"
  }
 },
 "nbformat": 4,
 "nbformat_minor": 5
}
