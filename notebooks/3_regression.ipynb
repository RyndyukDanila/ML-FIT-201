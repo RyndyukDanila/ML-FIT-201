{
 "cells": [
  {
   "cell_type": "markdown",
   "id": "28cafef3",
   "metadata": {},
   "source": [
    "# Task 1"
   ]
  },
  {
   "cell_type": "markdown",
   "id": "e5ee91a5",
   "metadata": {},
   "source": [
    "Подготовьте данные, проведите обучение моделей:\n",
    "\n",
    "1. Линейная регрессия;\n",
    "2. Регрессия дерева решений;\n",
    "3. LASSO;\n",
    "4. Гребневая регрессия;\n",
    "5. Elastic Net регрессия.\n",
    "\n",
    "Найдите реализации методов в sklearn, оставьте в нотбуке ссылки на документацию. Найдите наилучшие гиперпараметры. Оцените качество моделей: R2, Mean Square Error(MSE), Root Mean Square Error(RMSE),  mean absolute error (MAE). Свои действия снабжайте пояснениями."
   ]
  },
  {
   "cell_type": "code",
   "execution_count": 1,
   "id": "bd7c3c14",
   "metadata": {},
   "outputs": [],
   "source": [
    "import pandas as pd\n",
    "import numpy as np\n",
    "\n",
    "from sklearn.utils import shuffle\n",
    "from sklearn.model_selection import cross_val_score\n",
    "from sklearn.preprocessing import StandardScaler\n",
    "from sklearn.model_selection import GridSearchCV"
   ]
  },
  {
   "cell_type": "code",
   "execution_count": 2,
   "id": "869eba64",
   "metadata": {},
   "outputs": [
    {
     "data": {
      "text/html": [
       "<div>\n",
       "<style scoped>\n",
       "    .dataframe tbody tr th:only-of-type {\n",
       "        vertical-align: middle;\n",
       "    }\n",
       "\n",
       "    .dataframe tbody tr th {\n",
       "        vertical-align: top;\n",
       "    }\n",
       "\n",
       "    .dataframe thead th {\n",
       "        text-align: right;\n",
       "    }\n",
       "</style>\n",
       "<table border=\"1\" class=\"dataframe\">\n",
       "  <thead>\n",
       "    <tr style=\"text-align: right;\">\n",
       "      <th></th>\n",
       "      <th>X</th>\n",
       "      <th>Y</th>\n",
       "      <th>month</th>\n",
       "      <th>day</th>\n",
       "      <th>FFMC</th>\n",
       "      <th>DMC</th>\n",
       "      <th>DC</th>\n",
       "      <th>ISI</th>\n",
       "      <th>temp</th>\n",
       "      <th>RH</th>\n",
       "      <th>wind</th>\n",
       "      <th>rain</th>\n",
       "      <th>area</th>\n",
       "    </tr>\n",
       "  </thead>\n",
       "  <tbody>\n",
       "    <tr>\n",
       "      <th>0</th>\n",
       "      <td>7</td>\n",
       "      <td>5</td>\n",
       "      <td>3</td>\n",
       "      <td>5</td>\n",
       "      <td>86.2</td>\n",
       "      <td>26.2</td>\n",
       "      <td>94.3</td>\n",
       "      <td>5.1</td>\n",
       "      <td>8.2</td>\n",
       "      <td>51</td>\n",
       "      <td>6.7</td>\n",
       "      <td>0.0</td>\n",
       "      <td>0.0</td>\n",
       "    </tr>\n",
       "    <tr>\n",
       "      <th>1</th>\n",
       "      <td>7</td>\n",
       "      <td>4</td>\n",
       "      <td>10</td>\n",
       "      <td>2</td>\n",
       "      <td>90.6</td>\n",
       "      <td>35.4</td>\n",
       "      <td>669.1</td>\n",
       "      <td>6.7</td>\n",
       "      <td>18.0</td>\n",
       "      <td>33</td>\n",
       "      <td>0.9</td>\n",
       "      <td>0.0</td>\n",
       "      <td>0.0</td>\n",
       "    </tr>\n",
       "    <tr>\n",
       "      <th>2</th>\n",
       "      <td>7</td>\n",
       "      <td>4</td>\n",
       "      <td>10</td>\n",
       "      <td>6</td>\n",
       "      <td>90.6</td>\n",
       "      <td>43.7</td>\n",
       "      <td>686.9</td>\n",
       "      <td>6.7</td>\n",
       "      <td>14.6</td>\n",
       "      <td>33</td>\n",
       "      <td>1.3</td>\n",
       "      <td>0.0</td>\n",
       "      <td>0.0</td>\n",
       "    </tr>\n",
       "    <tr>\n",
       "      <th>3</th>\n",
       "      <td>8</td>\n",
       "      <td>6</td>\n",
       "      <td>3</td>\n",
       "      <td>5</td>\n",
       "      <td>91.7</td>\n",
       "      <td>33.3</td>\n",
       "      <td>77.5</td>\n",
       "      <td>9.0</td>\n",
       "      <td>8.3</td>\n",
       "      <td>97</td>\n",
       "      <td>4.0</td>\n",
       "      <td>0.2</td>\n",
       "      <td>0.0</td>\n",
       "    </tr>\n",
       "    <tr>\n",
       "      <th>4</th>\n",
       "      <td>8</td>\n",
       "      <td>6</td>\n",
       "      <td>3</td>\n",
       "      <td>7</td>\n",
       "      <td>89.3</td>\n",
       "      <td>51.3</td>\n",
       "      <td>102.2</td>\n",
       "      <td>9.6</td>\n",
       "      <td>11.4</td>\n",
       "      <td>99</td>\n",
       "      <td>1.8</td>\n",
       "      <td>0.0</td>\n",
       "      <td>0.0</td>\n",
       "    </tr>\n",
       "  </tbody>\n",
       "</table>\n",
       "</div>"
      ],
      "text/plain": [
       "   X  Y  month  day  FFMC   DMC     DC  ISI  temp  RH  wind  rain  area\n",
       "0  7  5      3    5  86.2  26.2   94.3  5.1   8.2  51   6.7   0.0   0.0\n",
       "1  7  4     10    2  90.6  35.4  669.1  6.7  18.0  33   0.9   0.0   0.0\n",
       "2  7  4     10    6  90.6  43.7  686.9  6.7  14.6  33   1.3   0.0   0.0\n",
       "3  8  6      3    5  91.7  33.3   77.5  9.0   8.3  97   4.0   0.2   0.0\n",
       "4  8  6      3    7  89.3  51.3  102.2  9.6  11.4  99   1.8   0.0   0.0"
      ]
     },
     "execution_count": 2,
     "metadata": {},
     "output_type": "execute_result"
    }
   ],
   "source": [
    "forest_fires = pd.read_csv(\"../data/forest_fires_preprocessed.csv\")\n",
    "forest_fires.pop('Unnamed: 0')\n",
    "forest_fires.head()"
   ]
  },
  {
   "cell_type": "code",
   "execution_count": 3,
   "id": "b12a1041",
   "metadata": {},
   "outputs": [
    {
     "data": {
      "text/html": [
       "<div>\n",
       "<style scoped>\n",
       "    .dataframe tbody tr th:only-of-type {\n",
       "        vertical-align: middle;\n",
       "    }\n",
       "\n",
       "    .dataframe tbody tr th {\n",
       "        vertical-align: top;\n",
       "    }\n",
       "\n",
       "    .dataframe thead th {\n",
       "        text-align: right;\n",
       "    }\n",
       "</style>\n",
       "<table border=\"1\" class=\"dataframe\">\n",
       "  <thead>\n",
       "    <tr style=\"text-align: right;\">\n",
       "      <th></th>\n",
       "      <th>X</th>\n",
       "      <th>Y</th>\n",
       "      <th>month</th>\n",
       "      <th>day</th>\n",
       "      <th>FFMC</th>\n",
       "      <th>DMC</th>\n",
       "      <th>DC</th>\n",
       "      <th>ISI</th>\n",
       "      <th>temp</th>\n",
       "      <th>RH</th>\n",
       "      <th>wind</th>\n",
       "      <th>rain</th>\n",
       "      <th>area</th>\n",
       "    </tr>\n",
       "  </thead>\n",
       "  <tbody>\n",
       "    <tr>\n",
       "      <th>count</th>\n",
       "      <td>517.000000</td>\n",
       "      <td>517.000000</td>\n",
       "      <td>517.000000</td>\n",
       "      <td>517.000000</td>\n",
       "      <td>517.000000</td>\n",
       "      <td>517.000000</td>\n",
       "      <td>517.000000</td>\n",
       "      <td>517.000000</td>\n",
       "      <td>517.000000</td>\n",
       "      <td>517.000000</td>\n",
       "      <td>517.000000</td>\n",
       "      <td>517.000000</td>\n",
       "      <td>517.000000</td>\n",
       "    </tr>\n",
       "    <tr>\n",
       "      <th>mean</th>\n",
       "      <td>4.669246</td>\n",
       "      <td>4.299807</td>\n",
       "      <td>7.475822</td>\n",
       "      <td>4.259188</td>\n",
       "      <td>90.644681</td>\n",
       "      <td>110.872340</td>\n",
       "      <td>547.940039</td>\n",
       "      <td>9.021663</td>\n",
       "      <td>18.889168</td>\n",
       "      <td>44.288201</td>\n",
       "      <td>4.017602</td>\n",
       "      <td>0.021663</td>\n",
       "      <td>12.847292</td>\n",
       "    </tr>\n",
       "    <tr>\n",
       "      <th>std</th>\n",
       "      <td>2.313778</td>\n",
       "      <td>1.229900</td>\n",
       "      <td>2.275990</td>\n",
       "      <td>2.072929</td>\n",
       "      <td>5.520111</td>\n",
       "      <td>64.046482</td>\n",
       "      <td>248.066192</td>\n",
       "      <td>4.559477</td>\n",
       "      <td>5.806625</td>\n",
       "      <td>16.317469</td>\n",
       "      <td>1.791653</td>\n",
       "      <td>0.295959</td>\n",
       "      <td>63.655818</td>\n",
       "    </tr>\n",
       "    <tr>\n",
       "      <th>min</th>\n",
       "      <td>1.000000</td>\n",
       "      <td>2.000000</td>\n",
       "      <td>1.000000</td>\n",
       "      <td>1.000000</td>\n",
       "      <td>18.700000</td>\n",
       "      <td>1.100000</td>\n",
       "      <td>7.900000</td>\n",
       "      <td>0.000000</td>\n",
       "      <td>2.200000</td>\n",
       "      <td>15.000000</td>\n",
       "      <td>0.400000</td>\n",
       "      <td>0.000000</td>\n",
       "      <td>0.000000</td>\n",
       "    </tr>\n",
       "    <tr>\n",
       "      <th>25%</th>\n",
       "      <td>3.000000</td>\n",
       "      <td>4.000000</td>\n",
       "      <td>7.000000</td>\n",
       "      <td>2.000000</td>\n",
       "      <td>90.200000</td>\n",
       "      <td>68.600000</td>\n",
       "      <td>437.700000</td>\n",
       "      <td>6.500000</td>\n",
       "      <td>15.500000</td>\n",
       "      <td>33.000000</td>\n",
       "      <td>2.700000</td>\n",
       "      <td>0.000000</td>\n",
       "      <td>0.000000</td>\n",
       "    </tr>\n",
       "    <tr>\n",
       "      <th>50%</th>\n",
       "      <td>4.000000</td>\n",
       "      <td>4.000000</td>\n",
       "      <td>8.000000</td>\n",
       "      <td>5.000000</td>\n",
       "      <td>91.600000</td>\n",
       "      <td>108.300000</td>\n",
       "      <td>664.200000</td>\n",
       "      <td>8.400000</td>\n",
       "      <td>19.300000</td>\n",
       "      <td>42.000000</td>\n",
       "      <td>4.000000</td>\n",
       "      <td>0.000000</td>\n",
       "      <td>0.520000</td>\n",
       "    </tr>\n",
       "    <tr>\n",
       "      <th>75%</th>\n",
       "      <td>7.000000</td>\n",
       "      <td>5.000000</td>\n",
       "      <td>9.000000</td>\n",
       "      <td>6.000000</td>\n",
       "      <td>92.900000</td>\n",
       "      <td>142.400000</td>\n",
       "      <td>713.900000</td>\n",
       "      <td>10.800000</td>\n",
       "      <td>22.800000</td>\n",
       "      <td>53.000000</td>\n",
       "      <td>4.900000</td>\n",
       "      <td>0.000000</td>\n",
       "      <td>6.570000</td>\n",
       "    </tr>\n",
       "    <tr>\n",
       "      <th>max</th>\n",
       "      <td>9.000000</td>\n",
       "      <td>9.000000</td>\n",
       "      <td>12.000000</td>\n",
       "      <td>7.000000</td>\n",
       "      <td>96.200000</td>\n",
       "      <td>291.300000</td>\n",
       "      <td>860.600000</td>\n",
       "      <td>56.100000</td>\n",
       "      <td>33.300000</td>\n",
       "      <td>100.000000</td>\n",
       "      <td>9.400000</td>\n",
       "      <td>6.400000</td>\n",
       "      <td>1090.840000</td>\n",
       "    </tr>\n",
       "  </tbody>\n",
       "</table>\n",
       "</div>"
      ],
      "text/plain": [
       "                X           Y       month         day        FFMC         DMC  \\\n",
       "count  517.000000  517.000000  517.000000  517.000000  517.000000  517.000000   \n",
       "mean     4.669246    4.299807    7.475822    4.259188   90.644681  110.872340   \n",
       "std      2.313778    1.229900    2.275990    2.072929    5.520111   64.046482   \n",
       "min      1.000000    2.000000    1.000000    1.000000   18.700000    1.100000   \n",
       "25%      3.000000    4.000000    7.000000    2.000000   90.200000   68.600000   \n",
       "50%      4.000000    4.000000    8.000000    5.000000   91.600000  108.300000   \n",
       "75%      7.000000    5.000000    9.000000    6.000000   92.900000  142.400000   \n",
       "max      9.000000    9.000000   12.000000    7.000000   96.200000  291.300000   \n",
       "\n",
       "               DC         ISI        temp          RH        wind        rain  \\\n",
       "count  517.000000  517.000000  517.000000  517.000000  517.000000  517.000000   \n",
       "mean   547.940039    9.021663   18.889168   44.288201    4.017602    0.021663   \n",
       "std    248.066192    4.559477    5.806625   16.317469    1.791653    0.295959   \n",
       "min      7.900000    0.000000    2.200000   15.000000    0.400000    0.000000   \n",
       "25%    437.700000    6.500000   15.500000   33.000000    2.700000    0.000000   \n",
       "50%    664.200000    8.400000   19.300000   42.000000    4.000000    0.000000   \n",
       "75%    713.900000   10.800000   22.800000   53.000000    4.900000    0.000000   \n",
       "max    860.600000   56.100000   33.300000  100.000000    9.400000    6.400000   \n",
       "\n",
       "              area  \n",
       "count   517.000000  \n",
       "mean     12.847292  \n",
       "std      63.655818  \n",
       "min       0.000000  \n",
       "25%       0.000000  \n",
       "50%       0.520000  \n",
       "75%       6.570000  \n",
       "max    1090.840000  "
      ]
     },
     "execution_count": 3,
     "metadata": {},
     "output_type": "execute_result"
    }
   ],
   "source": [
    "forest_fires.describe()"
   ]
  },
  {
   "cell_type": "code",
   "execution_count": 4,
   "id": "7a4de209",
   "metadata": {},
   "outputs": [],
   "source": [
    "forest_fires = shuffle(forest_fires, random_state=0)"
   ]
  },
  {
   "cell_type": "code",
   "execution_count": 5,
   "id": "e6aedb84",
   "metadata": {},
   "outputs": [],
   "source": [
    "X = forest_fires.drop(\"area\", 1)\n",
    "y = forest_fires[\"area\"]"
   ]
  },
  {
   "cell_type": "code",
   "execution_count": 6,
   "id": "3083f103",
   "metadata": {},
   "outputs": [],
   "source": [
    "# Масштабируем признаки\n",
    "scaler = StandardScaler()\n",
    "scaler.fit(X)\n",
    "X = scaler.transform(X)"
   ]
  },
  {
   "cell_type": "code",
   "execution_count": 7,
   "id": "12470863",
   "metadata": {},
   "outputs": [],
   "source": [
    "from numpy import mean\n",
    "from numpy import std"
   ]
  },
  {
   "cell_type": "code",
   "execution_count": 8,
   "id": "763e362e",
   "metadata": {},
   "outputs": [],
   "source": [
    "def print_metrics(metrics, names = [\"R2\", \"MSE\", \"RMSE\", \"MAE\"]):\n",
    "    for i, m in enumerate(metrics):\n",
    "        print(f'{names[i]} metric\\nmean: {-mean(m)}\\nstd: {std(m)}\\n')"
   ]
  },
  {
   "cell_type": "markdown",
   "id": "219bc32a",
   "metadata": {},
   "source": [
    "### Linear regression"
   ]
  },
  {
   "cell_type": "code",
   "execution_count": 9,
   "id": "ef52a320",
   "metadata": {},
   "outputs": [],
   "source": [
    "# https://scikit-learn.org/stable/modules/generated/sklearn.linear_model.LinearRegression.html\n",
    "\n",
    "from sklearn.linear_model import LinearRegression\n",
    "\n",
    "model = LinearRegression()\n",
    "\n",
    "scores = list()\n",
    "scores.append(cross_val_score(model, X, y, cv=5, scoring='r2'))\n",
    "scores.append(cross_val_score(model, X, y, cv=5, scoring='neg_mean_squared_error'))\n",
    "scores.append(cross_val_score(model, X, y, cv=5, scoring='neg_root_mean_squared_error'))\n",
    "scores.append(cross_val_score(model, X, y, cv=5, scoring='neg_mean_absolute_error'))"
   ]
  },
  {
   "cell_type": "code",
   "execution_count": 10,
   "id": "2720bfb5",
   "metadata": {},
   "outputs": [
    {
     "name": "stdout",
     "output_type": "stream",
     "text": [
      "R2 metric\n",
      "mean: 0.2708253783665082\n",
      "std: 0.3709288577545106\n",
      "\n",
      "MSE metric\n",
      "mean: 4098.859977490176\n",
      "std: 4388.427441688517\n",
      "\n",
      "RMSE metric\n",
      "mean: 55.02246142783495\n",
      "std: 32.73207472667432\n",
      "\n",
      "MAE metric\n",
      "mean: 20.213623701471956\n",
      "std: 3.0056486431920457\n",
      "\n"
     ]
    }
   ],
   "source": [
    "print_metrics(scores)"
   ]
  },
  {
   "cell_type": "markdown",
   "id": "b77c734b",
   "metadata": {},
   "source": [
    "### Decision tree regression"
   ]
  },
  {
   "cell_type": "code",
   "execution_count": 11,
   "id": "17368686",
   "metadata": {},
   "outputs": [
    {
     "data": {
      "text/plain": [
       "{'max_depth': 2}"
      ]
     },
     "execution_count": 11,
     "metadata": {},
     "output_type": "execute_result"
    }
   ],
   "source": [
    "# https://scikit-learn.org/stable/modules/generated/sklearn.tree.DecisionTreeRegressor.html\n",
    "\n",
    "from sklearn.tree import DecisionTreeRegressor\n",
    "\n",
    "parameters = {'max_depth': np.arange(1, 21, 1)}\n",
    "\n",
    "decision_tree_model = DecisionTreeRegressor()\n",
    "\n",
    "model = GridSearchCV(decision_tree_model, parameters)\n",
    "\n",
    "model.fit(X, y)\n",
    "\n",
    "model.best_params_"
   ]
  },
  {
   "cell_type": "code",
   "execution_count": 12,
   "id": "495595f0",
   "metadata": {},
   "outputs": [],
   "source": [
    "model = DecisionTreeRegressor(max_depth=2)\n",
    "\n",
    "scores = list()\n",
    "scores.append(cross_val_score(model, X, y, cv=5, scoring='r2'))\n",
    "scores.append(cross_val_score(model, X, y, cv=5, scoring='neg_mean_squared_error'))\n",
    "scores.append(cross_val_score(model, X, y, cv=5, scoring='neg_root_mean_squared_error'))\n",
    "scores.append(cross_val_score(model, X, y, cv=5, scoring='neg_mean_absolute_error'))"
   ]
  },
  {
   "cell_type": "code",
   "execution_count": 13,
   "id": "69e1d522",
   "metadata": {},
   "outputs": [
    {
     "name": "stdout",
     "output_type": "stream",
     "text": [
      "R2 metric\n",
      "mean: 0.0695293991339527\n",
      "std: 0.060023945806815235\n",
      "\n",
      "MSE metric\n",
      "mean: 4283.796688660224\n",
      "std: 4939.251206527353\n",
      "\n",
      "RMSE metric\n",
      "mean: 54.4112016737566\n",
      "std: 36.376061098997674\n",
      "\n",
      "MAE metric\n",
      "mean: 18.035167716595204\n",
      "std: 6.233327979450484\n",
      "\n"
     ]
    }
   ],
   "source": [
    "print_metrics(scores)"
   ]
  },
  {
   "cell_type": "markdown",
   "id": "91f7c789",
   "metadata": {},
   "source": [
    "### Lasso regression"
   ]
  },
  {
   "cell_type": "code",
   "execution_count": 14,
   "id": "a7c0e53f",
   "metadata": {},
   "outputs": [
    {
     "data": {
      "text/plain": [
       "{'alpha': 1.9000000000000001}"
      ]
     },
     "execution_count": 14,
     "metadata": {},
     "output_type": "execute_result"
    }
   ],
   "source": [
    "# https://scikit-learn.org/stable/modules/generated/sklearn.linear_model.Lasso.html#sklearn.linear_model.Lasso\n",
    "\n",
    "from sklearn.linear_model import Lasso\n",
    "\n",
    "parameters = {'alpha':np.arange(0.1, 2, 0.1)}\n",
    "lasso_model = Lasso()\n",
    "\n",
    "model = GridSearchCV(lasso_model, parameters)\n",
    "model.fit(X, y)\n",
    "model.best_params_"
   ]
  },
  {
   "cell_type": "code",
   "execution_count": 15,
   "id": "8e126904",
   "metadata": {},
   "outputs": [],
   "source": [
    "model = Lasso(alpha=1.9)\n",
    "\n",
    "scores = list()\n",
    "scores.append(cross_val_score(model, X, y, cv=5, scoring='r2'))\n",
    "scores.append(cross_val_score(model, X, y, cv=5, scoring='neg_mean_squared_error'))\n",
    "scores.append(cross_val_score(model, X, y, cv=5, scoring='neg_root_mean_squared_error'))\n",
    "scores.append(cross_val_score(model, X, y, cv=5, scoring='neg_mean_absolute_error'))"
   ]
  },
  {
   "cell_type": "code",
   "execution_count": 16,
   "id": "adf35f57",
   "metadata": {},
   "outputs": [
    {
     "name": "stdout",
     "output_type": "stream",
     "text": [
      "R2 metric\n",
      "mean: 0.10814197737986933\n",
      "std: 0.15250959184531854\n",
      "\n",
      "MSE metric\n",
      "mean: 4052.3068352334317\n",
      "std: 4471.504141366694\n",
      "\n",
      "RMSE metric\n",
      "mean: 53.77697300225814\n",
      "std: 34.063822597410166\n",
      "\n",
      "MAE metric\n",
      "mean: 18.94211057352556\n",
      "std: 4.06806315617139\n",
      "\n"
     ]
    }
   ],
   "source": [
    "print_metrics(scores)"
   ]
  },
  {
   "cell_type": "markdown",
   "id": "4120f3f0",
   "metadata": {},
   "source": [
    "### Ridge regression"
   ]
  },
  {
   "cell_type": "code",
   "execution_count": 17,
   "id": "0bb58099",
   "metadata": {},
   "outputs": [
    {
     "data": {
      "text/plain": [
       "{'alpha': 1.9000000000000001}"
      ]
     },
     "execution_count": 17,
     "metadata": {},
     "output_type": "execute_result"
    }
   ],
   "source": [
    "# https://scikit-learn.org/stable/modules/generated/sklearn.linear_model.Ridge.html#sklearn.linear_model.Ridge\n",
    "\n",
    "from sklearn.linear_model import Ridge\n",
    "\n",
    "parameters = {'alpha':np.arange(0.1, 2, 0.1)}\n",
    "ridge_model = Ridge()\n",
    "\n",
    "model = GridSearchCV(ridge_model, parameters)\n",
    "model.fit(X, y)\n",
    "model.best_params_"
   ]
  },
  {
   "cell_type": "code",
   "execution_count": 18,
   "id": "25a0be06",
   "metadata": {},
   "outputs": [],
   "source": [
    "model = Ridge(alpha=1.9)\n",
    "\n",
    "scores = list()\n",
    "scores.append(cross_val_score(model, X, y, cv=5, scoring='r2'))\n",
    "scores.append(cross_val_score(model, X, y, cv=5, scoring='neg_mean_squared_error'))\n",
    "scores.append(cross_val_score(model, X, y, cv=5, scoring='neg_root_mean_squared_error'))\n",
    "scores.append(cross_val_score(model, X, y, cv=5, scoring='neg_mean_absolute_error'))"
   ]
  },
  {
   "cell_type": "code",
   "execution_count": 19,
   "id": "0086a9f9",
   "metadata": {},
   "outputs": [
    {
     "name": "stdout",
     "output_type": "stream",
     "text": [
      "R2 metric\n",
      "mean: 0.26255284232324544\n",
      "std: 0.3608292341424691\n",
      "\n",
      "MSE metric\n",
      "mean: 4094.94843466053\n",
      "std: 4391.354282121362\n",
      "\n",
      "RMSE metric\n",
      "mean: 54.95400393312265\n",
      "std: 32.78728238782332\n",
      "\n",
      "MAE metric\n",
      "mean: 20.15859882117379\n",
      "std: 3.0375808035999645\n",
      "\n"
     ]
    }
   ],
   "source": [
    "print_metrics(scores)"
   ]
  },
  {
   "cell_type": "markdown",
   "id": "e9b83d41",
   "metadata": {},
   "source": [
    "### Elastic Net regression"
   ]
  },
  {
   "cell_type": "code",
   "execution_count": 20,
   "id": "86ee53ed",
   "metadata": {},
   "outputs": [
    {
     "data": {
      "text/plain": [
       "{'alpha': 1.9000000000000001, 'l1_ratio': 0.1}"
      ]
     },
     "execution_count": 20,
     "metadata": {},
     "output_type": "execute_result"
    }
   ],
   "source": [
    "# https://scikit-learn.org/stable/modules/generated/sklearn.linear_model.ElasticNet.html#sklearn.linear_model.ElasticNet\n",
    "\n",
    "from sklearn.linear_model import ElasticNet\n",
    "\n",
    "parameters = {'alpha':np.arange(0.1, 2, 0.1),\n",
    "             'l1_ratio':np.arange(0.1, 1, 0.1)}\n",
    "elastic_net_model = ElasticNet()\n",
    "\n",
    "model = GridSearchCV(elastic_net_model, parameters)\n",
    "model.fit(X, y)\n",
    "model.best_params_"
   ]
  },
  {
   "cell_type": "code",
   "execution_count": 21,
   "id": "7731676e",
   "metadata": {},
   "outputs": [],
   "source": [
    "model = ElasticNet(alpha=1.9, l1_ratio=0.1)\n",
    "\n",
    "scores = list()\n",
    "scores.append(cross_val_score(model, X, y, cv=5, scoring='r2'))\n",
    "scores.append(cross_val_score(model, X, y, cv=5, scoring='neg_mean_squared_error'))\n",
    "scores.append(cross_val_score(model, X, y, cv=5, scoring='neg_root_mean_squared_error'))\n",
    "scores.append(cross_val_score(model, X, y, cv=5, scoring='neg_mean_absolute_error'))"
   ]
  },
  {
   "cell_type": "code",
   "execution_count": 22,
   "id": "e259fb1f",
   "metadata": {},
   "outputs": [
    {
     "name": "stdout",
     "output_type": "stream",
     "text": [
      "R2 metric\n",
      "mean: 0.06684763225291288\n",
      "std: 0.09658921504605927\n",
      "\n",
      "MSE metric\n",
      "mean: 4033.725583105702\n",
      "std: 4485.38771732169\n",
      "\n",
      "RMSE metric\n",
      "mean: 53.40247264465283\n",
      "std: 34.37879431485065\n",
      "\n",
      "MAE metric\n",
      "mean: 18.661012047292473\n",
      "std: 4.330067657444015\n",
      "\n"
     ]
    }
   ],
   "source": [
    "print_metrics(scores)"
   ]
  },
  {
   "cell_type": "markdown",
   "id": "716517cd",
   "metadata": {},
   "source": [
    "# Task 2"
   ]
  },
  {
   "cell_type": "markdown",
   "id": "a86967f8",
   "metadata": {},
   "source": [
    "Реализуйте в отдельном модуле(!) линейную регрессию и регрессию дерева решений. Протестируйте их работу на своих данных в нотбуке. При реализации не допускается использование сторонних модулей (за исключением numpy). Модуль не должен находиться в папке notebooks(!)."
   ]
  },
  {
   "cell_type": "code",
   "execution_count": 23,
   "id": "03a132bb",
   "metadata": {},
   "outputs": [],
   "source": [
    "from sys import path\n",
    "path.insert(0, r\"..\\modules\")"
   ]
  },
  {
   "cell_type": "code",
   "execution_count": 24,
   "id": "81e474fd",
   "metadata": {},
   "outputs": [],
   "source": [
    "from regression_models import LR"
   ]
  },
  {
   "cell_type": "code",
   "execution_count": 25,
   "id": "9aec9016",
   "metadata": {},
   "outputs": [],
   "source": [
    "from sklearn.model_selection import train_test_split\n",
    "X_train, X_test, y_train, y_test = train_test_split(X, y, test_size=0.3, random_state=0)"
   ]
  },
  {
   "cell_type": "code",
   "execution_count": 26,
   "id": "6240eafe",
   "metadata": {},
   "outputs": [],
   "source": [
    "model = LR()"
   ]
  },
  {
   "cell_type": "code",
   "execution_count": 27,
   "id": "d562277a",
   "metadata": {},
   "outputs": [],
   "source": [
    "model.fit(X_train, y_train)"
   ]
  },
  {
   "cell_type": "code",
   "execution_count": 28,
   "id": "39d8ece0",
   "metadata": {},
   "outputs": [],
   "source": [
    "y_pred = model.predict(X_test)"
   ]
  },
  {
   "cell_type": "code",
   "execution_count": 30,
   "id": "f8e1aca9",
   "metadata": {},
   "outputs": [],
   "source": [
    "from sklearn.metrics import r2_score, mean_squared_error, mean_absolute_error"
   ]
  },
  {
   "cell_type": "code",
   "execution_count": 41,
   "id": "46b15eb6",
   "metadata": {},
   "outputs": [],
   "source": [
    "scores = list()\n",
    "scores.append(r2_score(np.array(y_test), np.array(y_pred)))\n",
    "scores.append(mean_squared_error(np.array(y_test), np.array(y_pred), squared=True))\n",
    "scores.append(mean_squared_error(np.array(y_test), np.array(y_pred), squared=False))\n",
    "scores.append(mean_absolute_error(np.array(y_test), np.array(y_pred)))"
   ]
  },
  {
   "cell_type": "code",
   "execution_count": 42,
   "id": "befa8e46",
   "metadata": {},
   "outputs": [
    {
     "name": "stdout",
     "output_type": "stream",
     "text": [
      "R2 metric\n",
      "mean: 0.5135970406107357\n",
      "std: 0.0\n",
      "\n",
      "MSE metric\n",
      "mean: -1276.9080417337123\n",
      "std: 0.0\n",
      "\n",
      "RMSE metric\n",
      "mean: -35.73385008271166\n",
      "std: 0.0\n",
      "\n",
      "MAE metric\n",
      "mean: -20.38971762608918\n",
      "std: 0.0\n",
      "\n"
     ]
    }
   ],
   "source": [
    "print_metrics(scores)"
   ]
  },
  {
   "cell_type": "code",
   "execution_count": null,
   "id": "e12cb2bb",
   "metadata": {},
   "outputs": [],
   "source": []
  }
 ],
 "metadata": {
  "kernelspec": {
   "display_name": "Python 3",
   "language": "python",
   "name": "python3"
  },
  "language_info": {
   "codemirror_mode": {
    "name": "ipython",
    "version": 3
   },
   "file_extension": ".py",
   "mimetype": "text/x-python",
   "name": "python",
   "nbconvert_exporter": "python",
   "pygments_lexer": "ipython3",
   "version": "3.8.8"
  }
 },
 "nbformat": 4,
 "nbformat_minor": 5
}
