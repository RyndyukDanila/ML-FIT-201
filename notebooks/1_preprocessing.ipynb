{
 "cells": [
  {
   "cell_type": "markdown",
   "id": "87368042",
   "metadata": {},
   "source": [
    "# Task 2.\n",
    "### Forest fires dataset preprocessing (regression)."
   ]
  },
  {
   "cell_type": "markdown",
   "id": "d128df7c",
   "metadata": {},
   "source": [
    "- Загрузим данные в pandas DataFrame."
   ]
  },
  {
   "cell_type": "code",
   "execution_count": 2,
   "id": "0255a656",
   "metadata": {},
   "outputs": [],
   "source": [
    "import pandas as pd"
   ]
  },
  {
   "cell_type": "code",
   "execution_count": 32,
   "id": "df654114",
   "metadata": {},
   "outputs": [],
   "source": [
    "forest_fires = pd.read_csv('../data/forest_fires.csv', sep=',')"
   ]
  },
  {
   "cell_type": "code",
   "execution_count": 33,
   "id": "ee701b20",
   "metadata": {},
   "outputs": [
    {
     "data": {
      "text/html": [
       "<div>\n",
       "<style scoped>\n",
       "    .dataframe tbody tr th:only-of-type {\n",
       "        vertical-align: middle;\n",
       "    }\n",
       "\n",
       "    .dataframe tbody tr th {\n",
       "        vertical-align: top;\n",
       "    }\n",
       "\n",
       "    .dataframe thead th {\n",
       "        text-align: right;\n",
       "    }\n",
       "</style>\n",
       "<table border=\"1\" class=\"dataframe\">\n",
       "  <thead>\n",
       "    <tr style=\"text-align: right;\">\n",
       "      <th></th>\n",
       "      <th>X</th>\n",
       "      <th>Y</th>\n",
       "      <th>month</th>\n",
       "      <th>day</th>\n",
       "      <th>FFMC</th>\n",
       "      <th>DMC</th>\n",
       "      <th>DC</th>\n",
       "      <th>ISI</th>\n",
       "      <th>temp</th>\n",
       "      <th>RH</th>\n",
       "      <th>wind</th>\n",
       "      <th>rain</th>\n",
       "      <th>area</th>\n",
       "    </tr>\n",
       "  </thead>\n",
       "  <tbody>\n",
       "    <tr>\n",
       "      <th>0</th>\n",
       "      <td>7</td>\n",
       "      <td>5</td>\n",
       "      <td>mar</td>\n",
       "      <td>fri</td>\n",
       "      <td>86.2</td>\n",
       "      <td>26.2</td>\n",
       "      <td>94.3</td>\n",
       "      <td>5.1</td>\n",
       "      <td>8.2</td>\n",
       "      <td>51</td>\n",
       "      <td>6.7</td>\n",
       "      <td>0.0</td>\n",
       "      <td>0.0</td>\n",
       "    </tr>\n",
       "    <tr>\n",
       "      <th>1</th>\n",
       "      <td>7</td>\n",
       "      <td>4</td>\n",
       "      <td>oct</td>\n",
       "      <td>tue</td>\n",
       "      <td>90.6</td>\n",
       "      <td>35.4</td>\n",
       "      <td>669.1</td>\n",
       "      <td>6.7</td>\n",
       "      <td>18.0</td>\n",
       "      <td>33</td>\n",
       "      <td>0.9</td>\n",
       "      <td>0.0</td>\n",
       "      <td>0.0</td>\n",
       "    </tr>\n",
       "    <tr>\n",
       "      <th>2</th>\n",
       "      <td>7</td>\n",
       "      <td>4</td>\n",
       "      <td>oct</td>\n",
       "      <td>sat</td>\n",
       "      <td>90.6</td>\n",
       "      <td>43.7</td>\n",
       "      <td>686.9</td>\n",
       "      <td>6.7</td>\n",
       "      <td>14.6</td>\n",
       "      <td>33</td>\n",
       "      <td>1.3</td>\n",
       "      <td>0.0</td>\n",
       "      <td>0.0</td>\n",
       "    </tr>\n",
       "    <tr>\n",
       "      <th>3</th>\n",
       "      <td>8</td>\n",
       "      <td>6</td>\n",
       "      <td>mar</td>\n",
       "      <td>fri</td>\n",
       "      <td>91.7</td>\n",
       "      <td>33.3</td>\n",
       "      <td>77.5</td>\n",
       "      <td>9.0</td>\n",
       "      <td>8.3</td>\n",
       "      <td>97</td>\n",
       "      <td>4.0</td>\n",
       "      <td>0.2</td>\n",
       "      <td>0.0</td>\n",
       "    </tr>\n",
       "    <tr>\n",
       "      <th>4</th>\n",
       "      <td>8</td>\n",
       "      <td>6</td>\n",
       "      <td>mar</td>\n",
       "      <td>sun</td>\n",
       "      <td>89.3</td>\n",
       "      <td>51.3</td>\n",
       "      <td>102.2</td>\n",
       "      <td>9.6</td>\n",
       "      <td>11.4</td>\n",
       "      <td>99</td>\n",
       "      <td>1.8</td>\n",
       "      <td>0.0</td>\n",
       "      <td>0.0</td>\n",
       "    </tr>\n",
       "  </tbody>\n",
       "</table>\n",
       "</div>"
      ],
      "text/plain": [
       "   X  Y month  day  FFMC   DMC     DC  ISI  temp  RH  wind  rain  area\n",
       "0  7  5   mar  fri  86.2  26.2   94.3  5.1   8.2  51   6.7   0.0   0.0\n",
       "1  7  4   oct  tue  90.6  35.4  669.1  6.7  18.0  33   0.9   0.0   0.0\n",
       "2  7  4   oct  sat  90.6  43.7  686.9  6.7  14.6  33   1.3   0.0   0.0\n",
       "3  8  6   mar  fri  91.7  33.3   77.5  9.0   8.3  97   4.0   0.2   0.0\n",
       "4  8  6   mar  sun  89.3  51.3  102.2  9.6  11.4  99   1.8   0.0   0.0"
      ]
     },
     "execution_count": 33,
     "metadata": {},
     "output_type": "execute_result"
    }
   ],
   "source": [
    "forest_fires.head()"
   ]
  },
  {
   "cell_type": "markdown",
   "id": "a94f7909",
   "metadata": {},
   "source": [
    "- Проверим данные на пропуски."
   ]
  },
  {
   "cell_type": "code",
   "execution_count": 34,
   "id": "5cbb5bc7",
   "metadata": {},
   "outputs": [
    {
     "data": {
      "text/plain": [
       "False"
      ]
     },
     "execution_count": 34,
     "metadata": {},
     "output_type": "execute_result"
    }
   ],
   "source": [
    "forest_fires.isnull().values.any()"
   ]
  },
  {
   "cell_type": "markdown",
   "id": "e8e2096f",
   "metadata": {},
   "source": [
    "Пропусков нет."
   ]
  },
  {
   "cell_type": "markdown",
   "id": "4d4a9b22",
   "metadata": {},
   "source": [
    "- Перекодируем порядковые признаки «month» и «day»"
   ]
  },
  {
   "cell_type": "code",
   "execution_count": 35,
   "id": "70d86a28",
   "metadata": {},
   "outputs": [
    {
     "name": "stdout",
     "output_type": "stream",
     "text": [
      "{'apr', 'jan', 'aug', 'mar', 'oct', 'jul', 'may', 'feb', 'dec', 'nov', 'sep', 'jun'}\n"
     ]
    }
   ],
   "source": [
    "print(set(forest_fires['month']))"
   ]
  },
  {
   "cell_type": "code",
   "execution_count": 36,
   "id": "57c0f209",
   "metadata": {},
   "outputs": [],
   "source": [
    "month_mapping = {\n",
    "    'jan':1,\n",
    "    'feb':2,\n",
    "    'mar':3,\n",
    "    'apr':4,\n",
    "    'may':5,\n",
    "    'jun':6,\n",
    "    'jul':7,\n",
    "    'aug':8,\n",
    "    'sep':9,\n",
    "    'oct':10,\n",
    "    'nov':11,\n",
    "    'dec':12\n",
    "} \n",
    "forest_fires['month'] = forest_fires['month'].map(month_mapping) "
   ]
  },
  {
   "cell_type": "code",
   "execution_count": 37,
   "id": "e685d42f",
   "metadata": {},
   "outputs": [
    {
     "name": "stdout",
     "output_type": "stream",
     "text": [
      "0     3\n",
      "1    10\n",
      "2    10\n",
      "3     3\n",
      "4     3\n",
      "Name: month, dtype: int64\n"
     ]
    }
   ],
   "source": [
    "print(forest_fires['month'].head())"
   ]
  },
  {
   "cell_type": "markdown",
   "id": "af36add3",
   "metadata": {},
   "source": [
    "Порядковый признак «month» успешно перекодирован"
   ]
  },
  {
   "cell_type": "code",
   "execution_count": 38,
   "id": "495e4c74",
   "metadata": {},
   "outputs": [
    {
     "name": "stdout",
     "output_type": "stream",
     "text": [
      "{'wed', 'thu', 'sun', 'sat', 'fri', 'mon', 'tue'}\n"
     ]
    }
   ],
   "source": [
    "print(set(forest_fires['day']))"
   ]
  },
  {
   "cell_type": "code",
   "execution_count": 39,
   "id": "7bd4192b",
   "metadata": {},
   "outputs": [],
   "source": [
    "day_mapping = {\n",
    "    'mon':1,\n",
    "    'tue':2,\n",
    "    'wed':3,\n",
    "    'thu':4,\n",
    "    'fri':5,\n",
    "    'sat':6,\n",
    "    'sun':7\n",
    "}\n",
    "forest_fires['day'] = forest_fires['day'].map(day_mapping)"
   ]
  },
  {
   "cell_type": "code",
   "execution_count": 41,
   "id": "fcd13d60",
   "metadata": {},
   "outputs": [
    {
     "name": "stdout",
     "output_type": "stream",
     "text": [
      "0    5\n",
      "1    2\n",
      "2    6\n",
      "3    5\n",
      "4    7\n",
      "Name: day, dtype: int64\n"
     ]
    }
   ],
   "source": [
    "print(forest_fires['day'].head())"
   ]
  },
  {
   "cell_type": "markdown",
   "id": "6e43aede",
   "metadata": {},
   "source": [
    "Порядковый признак «day» успешно перекодирован"
   ]
  },
  {
   "cell_type": "code",
   "execution_count": 382,
   "id": "fcbcf55e",
   "metadata": {},
   "outputs": [
    {
     "data": {
      "text/plain": [
       "X          int64\n",
       "Y          int64\n",
       "month      int64\n",
       "day        int64\n",
       "FFMC     float64\n",
       "DMC      float64\n",
       "DC       float64\n",
       "ISI      float64\n",
       "temp     float64\n",
       "RH         int64\n",
       "wind     float64\n",
       "rain     float64\n",
       "area     float64\n",
       "dtype: object"
      ]
     },
     "execution_count": 382,
     "metadata": {},
     "output_type": "execute_result"
    }
   ],
   "source": [
    "forest_fires.dtypes"
   ]
  },
  {
   "cell_type": "markdown",
   "id": "6bb0240e",
   "metadata": {},
   "source": [
    "- Сохраним отредактированный датасет рядом со старым в формате csv: <название датасета>_preprocessed.csv"
   ]
  },
  {
   "cell_type": "code",
   "execution_count": 43,
   "id": "090e652b",
   "metadata": {},
   "outputs": [],
   "source": [
    "forest_fires.to_csv('../data/forest_fires_preprocessed.csv')"
   ]
  },
  {
   "cell_type": "markdown",
   "id": "252aca43",
   "metadata": {},
   "source": [
    "### Music genre dataset preprocessing (classification)"
   ]
  },
  {
   "cell_type": "markdown",
   "id": "4ea7a048",
   "metadata": {},
   "source": [
    "- Загрузим данные в pandas DataFrame."
   ]
  },
  {
   "cell_type": "code",
   "execution_count": 3,
   "id": "434843c0",
   "metadata": {},
   "outputs": [],
   "source": [
    "music_genre = pd.read_csv(\"../data/music_genre.csv\", sep=\",\")"
   ]
  },
  {
   "cell_type": "code",
   "execution_count": 340,
   "id": "36910df9",
   "metadata": {},
   "outputs": [
    {
     "data": {
      "text/html": [
       "<div>\n",
       "<style scoped>\n",
       "    .dataframe tbody tr th:only-of-type {\n",
       "        vertical-align: middle;\n",
       "    }\n",
       "\n",
       "    .dataframe tbody tr th {\n",
       "        vertical-align: top;\n",
       "    }\n",
       "\n",
       "    .dataframe thead th {\n",
       "        text-align: right;\n",
       "    }\n",
       "</style>\n",
       "<table border=\"1\" class=\"dataframe\">\n",
       "  <thead>\n",
       "    <tr style=\"text-align: right;\">\n",
       "      <th></th>\n",
       "      <th>instance_id</th>\n",
       "      <th>artist_name</th>\n",
       "      <th>track_name</th>\n",
       "      <th>popularity</th>\n",
       "      <th>acousticness</th>\n",
       "      <th>danceability</th>\n",
       "      <th>duration_ms</th>\n",
       "      <th>energy</th>\n",
       "      <th>instrumentalness</th>\n",
       "      <th>key</th>\n",
       "      <th>liveness</th>\n",
       "      <th>loudness</th>\n",
       "      <th>mode</th>\n",
       "      <th>speechiness</th>\n",
       "      <th>tempo</th>\n",
       "      <th>obtained_date</th>\n",
       "      <th>valence</th>\n",
       "      <th>music_genre</th>\n",
       "    </tr>\n",
       "  </thead>\n",
       "  <tbody>\n",
       "    <tr>\n",
       "      <th>0</th>\n",
       "      <td>32894.0</td>\n",
       "      <td>Röyksopp</td>\n",
       "      <td>Röyksopp's Night Out</td>\n",
       "      <td>27.0</td>\n",
       "      <td>0.00468</td>\n",
       "      <td>0.652</td>\n",
       "      <td>-1.0</td>\n",
       "      <td>0.941</td>\n",
       "      <td>0.79200</td>\n",
       "      <td>A#</td>\n",
       "      <td>0.115</td>\n",
       "      <td>-5.201</td>\n",
       "      <td>Minor</td>\n",
       "      <td>0.0748</td>\n",
       "      <td>100.889</td>\n",
       "      <td>4-Apr</td>\n",
       "      <td>0.759</td>\n",
       "      <td>Electronic</td>\n",
       "    </tr>\n",
       "    <tr>\n",
       "      <th>1</th>\n",
       "      <td>46652.0</td>\n",
       "      <td>Thievery Corporation</td>\n",
       "      <td>The Shining Path</td>\n",
       "      <td>31.0</td>\n",
       "      <td>0.01270</td>\n",
       "      <td>0.622</td>\n",
       "      <td>218293.0</td>\n",
       "      <td>0.890</td>\n",
       "      <td>0.95000</td>\n",
       "      <td>D</td>\n",
       "      <td>0.124</td>\n",
       "      <td>-7.043</td>\n",
       "      <td>Minor</td>\n",
       "      <td>0.0300</td>\n",
       "      <td>115.00200000000001</td>\n",
       "      <td>4-Apr</td>\n",
       "      <td>0.531</td>\n",
       "      <td>Electronic</td>\n",
       "    </tr>\n",
       "    <tr>\n",
       "      <th>2</th>\n",
       "      <td>30097.0</td>\n",
       "      <td>Dillon Francis</td>\n",
       "      <td>Hurricane</td>\n",
       "      <td>28.0</td>\n",
       "      <td>0.00306</td>\n",
       "      <td>0.620</td>\n",
       "      <td>215613.0</td>\n",
       "      <td>0.755</td>\n",
       "      <td>0.01180</td>\n",
       "      <td>G#</td>\n",
       "      <td>0.534</td>\n",
       "      <td>-4.617</td>\n",
       "      <td>Major</td>\n",
       "      <td>0.0345</td>\n",
       "      <td>127.994</td>\n",
       "      <td>4-Apr</td>\n",
       "      <td>0.333</td>\n",
       "      <td>Electronic</td>\n",
       "    </tr>\n",
       "    <tr>\n",
       "      <th>3</th>\n",
       "      <td>62177.0</td>\n",
       "      <td>Dubloadz</td>\n",
       "      <td>Nitro</td>\n",
       "      <td>34.0</td>\n",
       "      <td>0.02540</td>\n",
       "      <td>0.774</td>\n",
       "      <td>166875.0</td>\n",
       "      <td>0.700</td>\n",
       "      <td>0.00253</td>\n",
       "      <td>C#</td>\n",
       "      <td>0.157</td>\n",
       "      <td>-4.498</td>\n",
       "      <td>Major</td>\n",
       "      <td>0.2390</td>\n",
       "      <td>128.014</td>\n",
       "      <td>4-Apr</td>\n",
       "      <td>0.270</td>\n",
       "      <td>Electronic</td>\n",
       "    </tr>\n",
       "    <tr>\n",
       "      <th>4</th>\n",
       "      <td>24907.0</td>\n",
       "      <td>What So Not</td>\n",
       "      <td>Divide &amp; Conquer</td>\n",
       "      <td>32.0</td>\n",
       "      <td>0.00465</td>\n",
       "      <td>0.638</td>\n",
       "      <td>222369.0</td>\n",
       "      <td>0.587</td>\n",
       "      <td>0.90900</td>\n",
       "      <td>F#</td>\n",
       "      <td>0.157</td>\n",
       "      <td>-6.266</td>\n",
       "      <td>Major</td>\n",
       "      <td>0.0413</td>\n",
       "      <td>145.036</td>\n",
       "      <td>4-Apr</td>\n",
       "      <td>0.323</td>\n",
       "      <td>Electronic</td>\n",
       "    </tr>\n",
       "  </tbody>\n",
       "</table>\n",
       "</div>"
      ],
      "text/plain": [
       "   instance_id           artist_name            track_name  popularity  \\\n",
       "0      32894.0              Röyksopp  Röyksopp's Night Out        27.0   \n",
       "1      46652.0  Thievery Corporation      The Shining Path        31.0   \n",
       "2      30097.0        Dillon Francis             Hurricane        28.0   \n",
       "3      62177.0              Dubloadz                 Nitro        34.0   \n",
       "4      24907.0           What So Not      Divide & Conquer        32.0   \n",
       "\n",
       "   acousticness  danceability  duration_ms  energy  instrumentalness key  \\\n",
       "0       0.00468         0.652         -1.0   0.941           0.79200  A#   \n",
       "1       0.01270         0.622     218293.0   0.890           0.95000   D   \n",
       "2       0.00306         0.620     215613.0   0.755           0.01180  G#   \n",
       "3       0.02540         0.774     166875.0   0.700           0.00253  C#   \n",
       "4       0.00465         0.638     222369.0   0.587           0.90900  F#   \n",
       "\n",
       "   liveness  loudness   mode  speechiness               tempo obtained_date  \\\n",
       "0     0.115    -5.201  Minor       0.0748             100.889         4-Apr   \n",
       "1     0.124    -7.043  Minor       0.0300  115.00200000000001         4-Apr   \n",
       "2     0.534    -4.617  Major       0.0345             127.994         4-Apr   \n",
       "3     0.157    -4.498  Major       0.2390             128.014         4-Apr   \n",
       "4     0.157    -6.266  Major       0.0413             145.036         4-Apr   \n",
       "\n",
       "   valence music_genre  \n",
       "0    0.759  Electronic  \n",
       "1    0.531  Electronic  \n",
       "2    0.333  Electronic  \n",
       "3    0.270  Electronic  \n",
       "4    0.323  Electronic  "
      ]
     },
     "execution_count": 340,
     "metadata": {},
     "output_type": "execute_result"
    }
   ],
   "source": [
    "music_genre.head()"
   ]
  },
  {
   "cell_type": "code",
   "execution_count": 5,
   "id": "f105ead4",
   "metadata": {},
   "outputs": [
    {
     "data": {
      "text/html": [
       "<div>\n",
       "<style scoped>\n",
       "    .dataframe tbody tr th:only-of-type {\n",
       "        vertical-align: middle;\n",
       "    }\n",
       "\n",
       "    .dataframe tbody tr th {\n",
       "        vertical-align: top;\n",
       "    }\n",
       "\n",
       "    .dataframe thead th {\n",
       "        text-align: right;\n",
       "    }\n",
       "</style>\n",
       "<table border=\"1\" class=\"dataframe\">\n",
       "  <thead>\n",
       "    <tr style=\"text-align: right;\">\n",
       "      <th></th>\n",
       "      <th>instance_id</th>\n",
       "      <th>popularity</th>\n",
       "      <th>acousticness</th>\n",
       "      <th>danceability</th>\n",
       "      <th>duration_ms</th>\n",
       "      <th>energy</th>\n",
       "      <th>instrumentalness</th>\n",
       "      <th>liveness</th>\n",
       "      <th>loudness</th>\n",
       "      <th>speechiness</th>\n",
       "      <th>valence</th>\n",
       "    </tr>\n",
       "  </thead>\n",
       "  <tbody>\n",
       "    <tr>\n",
       "      <th>count</th>\n",
       "      <td>50000.000000</td>\n",
       "      <td>50000.000000</td>\n",
       "      <td>50000.000000</td>\n",
       "      <td>50000.000000</td>\n",
       "      <td>5.000000e+04</td>\n",
       "      <td>50000.000000</td>\n",
       "      <td>50000.000000</td>\n",
       "      <td>50000.000000</td>\n",
       "      <td>50000.000000</td>\n",
       "      <td>50000.000000</td>\n",
       "      <td>50000.000000</td>\n",
       "    </tr>\n",
       "    <tr>\n",
       "      <th>mean</th>\n",
       "      <td>55888.396360</td>\n",
       "      <td>44.220420</td>\n",
       "      <td>0.306383</td>\n",
       "      <td>0.558241</td>\n",
       "      <td>2.212526e+05</td>\n",
       "      <td>0.599755</td>\n",
       "      <td>0.181601</td>\n",
       "      <td>0.193896</td>\n",
       "      <td>-9.133761</td>\n",
       "      <td>0.093586</td>\n",
       "      <td>0.456264</td>\n",
       "    </tr>\n",
       "    <tr>\n",
       "      <th>std</th>\n",
       "      <td>20725.256253</td>\n",
       "      <td>15.542008</td>\n",
       "      <td>0.341340</td>\n",
       "      <td>0.178632</td>\n",
       "      <td>1.286720e+05</td>\n",
       "      <td>0.264559</td>\n",
       "      <td>0.325409</td>\n",
       "      <td>0.161637</td>\n",
       "      <td>6.162990</td>\n",
       "      <td>0.101373</td>\n",
       "      <td>0.247119</td>\n",
       "    </tr>\n",
       "    <tr>\n",
       "      <th>min</th>\n",
       "      <td>20002.000000</td>\n",
       "      <td>0.000000</td>\n",
       "      <td>0.000000</td>\n",
       "      <td>0.059600</td>\n",
       "      <td>-1.000000e+00</td>\n",
       "      <td>0.000792</td>\n",
       "      <td>0.000000</td>\n",
       "      <td>0.009670</td>\n",
       "      <td>-47.046000</td>\n",
       "      <td>0.022300</td>\n",
       "      <td>0.000000</td>\n",
       "    </tr>\n",
       "    <tr>\n",
       "      <th>25%</th>\n",
       "      <td>37973.500000</td>\n",
       "      <td>34.000000</td>\n",
       "      <td>0.020000</td>\n",
       "      <td>0.442000</td>\n",
       "      <td>1.748000e+05</td>\n",
       "      <td>0.433000</td>\n",
       "      <td>0.000000</td>\n",
       "      <td>0.096900</td>\n",
       "      <td>-10.860000</td>\n",
       "      <td>0.036100</td>\n",
       "      <td>0.257000</td>\n",
       "    </tr>\n",
       "    <tr>\n",
       "      <th>50%</th>\n",
       "      <td>55913.500000</td>\n",
       "      <td>45.000000</td>\n",
       "      <td>0.144000</td>\n",
       "      <td>0.568000</td>\n",
       "      <td>2.192810e+05</td>\n",
       "      <td>0.643000</td>\n",
       "      <td>0.000158</td>\n",
       "      <td>0.126000</td>\n",
       "      <td>-7.276500</td>\n",
       "      <td>0.048900</td>\n",
       "      <td>0.448000</td>\n",
       "    </tr>\n",
       "    <tr>\n",
       "      <th>75%</th>\n",
       "      <td>73863.250000</td>\n",
       "      <td>56.000000</td>\n",
       "      <td>0.552000</td>\n",
       "      <td>0.687000</td>\n",
       "      <td>2.686122e+05</td>\n",
       "      <td>0.815000</td>\n",
       "      <td>0.155000</td>\n",
       "      <td>0.244000</td>\n",
       "      <td>-5.173000</td>\n",
       "      <td>0.098525</td>\n",
       "      <td>0.648000</td>\n",
       "    </tr>\n",
       "    <tr>\n",
       "      <th>max</th>\n",
       "      <td>91759.000000</td>\n",
       "      <td>99.000000</td>\n",
       "      <td>0.996000</td>\n",
       "      <td>0.986000</td>\n",
       "      <td>4.830606e+06</td>\n",
       "      <td>0.999000</td>\n",
       "      <td>0.996000</td>\n",
       "      <td>1.000000</td>\n",
       "      <td>3.744000</td>\n",
       "      <td>0.942000</td>\n",
       "      <td>0.992000</td>\n",
       "    </tr>\n",
       "  </tbody>\n",
       "</table>\n",
       "</div>"
      ],
      "text/plain": [
       "        instance_id    popularity  acousticness  danceability   duration_ms  \\\n",
       "count  50000.000000  50000.000000  50000.000000  50000.000000  5.000000e+04   \n",
       "mean   55888.396360     44.220420      0.306383      0.558241  2.212526e+05   \n",
       "std    20725.256253     15.542008      0.341340      0.178632  1.286720e+05   \n",
       "min    20002.000000      0.000000      0.000000      0.059600 -1.000000e+00   \n",
       "25%    37973.500000     34.000000      0.020000      0.442000  1.748000e+05   \n",
       "50%    55913.500000     45.000000      0.144000      0.568000  2.192810e+05   \n",
       "75%    73863.250000     56.000000      0.552000      0.687000  2.686122e+05   \n",
       "max    91759.000000     99.000000      0.996000      0.986000  4.830606e+06   \n",
       "\n",
       "             energy  instrumentalness      liveness      loudness  \\\n",
       "count  50000.000000      50000.000000  50000.000000  50000.000000   \n",
       "mean       0.599755          0.181601      0.193896     -9.133761   \n",
       "std        0.264559          0.325409      0.161637      6.162990   \n",
       "min        0.000792          0.000000      0.009670    -47.046000   \n",
       "25%        0.433000          0.000000      0.096900    -10.860000   \n",
       "50%        0.643000          0.000158      0.126000     -7.276500   \n",
       "75%        0.815000          0.155000      0.244000     -5.173000   \n",
       "max        0.999000          0.996000      1.000000      3.744000   \n",
       "\n",
       "        speechiness       valence  \n",
       "count  50000.000000  50000.000000  \n",
       "mean       0.093586      0.456264  \n",
       "std        0.101373      0.247119  \n",
       "min        0.022300      0.000000  \n",
       "25%        0.036100      0.257000  \n",
       "50%        0.048900      0.448000  \n",
       "75%        0.098525      0.648000  \n",
       "max        0.942000      0.992000  "
      ]
     },
     "execution_count": 5,
     "metadata": {},
     "output_type": "execute_result"
    }
   ],
   "source": [
    "music_genre.describe()"
   ]
  },
  {
   "cell_type": "markdown",
   "id": "d9bd2500",
   "metadata": {},
   "source": [
    "- Обработаем пропуски"
   ]
  },
  {
   "cell_type": "code",
   "execution_count": 341,
   "id": "75d2e895",
   "metadata": {},
   "outputs": [
    {
     "data": {
      "text/plain": [
       "True"
      ]
     },
     "execution_count": 341,
     "metadata": {},
     "output_type": "execute_result"
    }
   ],
   "source": [
    "music_genre.isnull().values.any()"
   ]
  },
  {
   "cell_type": "code",
   "execution_count": 342,
   "id": "e253d4bd",
   "metadata": {},
   "outputs": [
    {
     "data": {
      "text/plain": [
       "(50005, 18)"
      ]
     },
     "execution_count": 342,
     "metadata": {},
     "output_type": "execute_result"
    }
   ],
   "source": [
    "music_genre.shape"
   ]
  },
  {
   "cell_type": "code",
   "execution_count": 343,
   "id": "f75366d0",
   "metadata": {},
   "outputs": [
    {
     "data": {
      "text/plain": [
       "(50000, 18)"
      ]
     },
     "execution_count": 343,
     "metadata": {},
     "output_type": "execute_result"
    }
   ],
   "source": [
    "music_genre.dropna(axis=0).shape"
   ]
  },
  {
   "cell_type": "markdown",
   "id": "c001d1c2",
   "metadata": {},
   "source": [
    "Как видно в данных всего 5 объектов с пропусками. Размер выборки достаточно большой для того, чтобы не учитывать эти объекты. Уберём их."
   ]
  },
  {
   "cell_type": "code",
   "execution_count": 344,
   "id": "7398bffb",
   "metadata": {},
   "outputs": [],
   "source": [
    "music_genre = music_genre.dropna(axis=0)"
   ]
  },
  {
   "cell_type": "markdown",
   "id": "53a82bae",
   "metadata": {},
   "source": [
    "Однако, в данных все еще остались незаполненные данные"
   ]
  },
  {
   "cell_type": "code",
   "execution_count": 345,
   "id": "1e3d45ca",
   "metadata": {},
   "outputs": [
    {
     "data": {
      "text/plain": [
       "duration_ms   -1.0\n",
       "tempo            ?\n",
       "Name: 35, dtype: object"
      ]
     },
     "execution_count": 345,
     "metadata": {},
     "output_type": "execute_result"
    }
   ],
   "source": [
    "music_genre.loc[35][[\"duration_ms\", \"tempo\"]]"
   ]
  },
  {
   "cell_type": "markdown",
   "id": "3467aab2",
   "metadata": {},
   "source": [
    "В признаке «tempo» находятся пропуски обозначенные «?»"
   ]
  },
  {
   "cell_type": "code",
   "execution_count": 346,
   "id": "048e2b68",
   "metadata": {},
   "outputs": [
    {
     "data": {
      "text/html": [
       "<div>\n",
       "<style scoped>\n",
       "    .dataframe tbody tr th:only-of-type {\n",
       "        vertical-align: middle;\n",
       "    }\n",
       "\n",
       "    .dataframe tbody tr th {\n",
       "        vertical-align: top;\n",
       "    }\n",
       "\n",
       "    .dataframe thead th {\n",
       "        text-align: right;\n",
       "    }\n",
       "</style>\n",
       "<table border=\"1\" class=\"dataframe\">\n",
       "  <thead>\n",
       "    <tr style=\"text-align: right;\">\n",
       "      <th></th>\n",
       "      <th>instance_id</th>\n",
       "      <th>artist_name</th>\n",
       "      <th>track_name</th>\n",
       "      <th>popularity</th>\n",
       "      <th>acousticness</th>\n",
       "      <th>danceability</th>\n",
       "      <th>duration_ms</th>\n",
       "      <th>energy</th>\n",
       "      <th>instrumentalness</th>\n",
       "      <th>key</th>\n",
       "      <th>liveness</th>\n",
       "      <th>loudness</th>\n",
       "      <th>mode</th>\n",
       "      <th>speechiness</th>\n",
       "      <th>tempo</th>\n",
       "      <th>obtained_date</th>\n",
       "      <th>valence</th>\n",
       "      <th>music_genre</th>\n",
       "    </tr>\n",
       "  </thead>\n",
       "  <tbody>\n",
       "    <tr>\n",
       "      <th>5</th>\n",
       "      <td>89064.0</td>\n",
       "      <td>Axel Boman</td>\n",
       "      <td>Hello</td>\n",
       "      <td>47.0</td>\n",
       "      <td>0.00523</td>\n",
       "      <td>0.755</td>\n",
       "      <td>519468.0</td>\n",
       "      <td>0.731</td>\n",
       "      <td>0.85400</td>\n",
       "      <td>D</td>\n",
       "      <td>0.2160</td>\n",
       "      <td>-10.517</td>\n",
       "      <td>Minor</td>\n",
       "      <td>0.0412</td>\n",
       "      <td>?</td>\n",
       "      <td>4-Apr</td>\n",
       "      <td>0.6140</td>\n",
       "      <td>Electronic</td>\n",
       "    </tr>\n",
       "    <tr>\n",
       "      <th>32</th>\n",
       "      <td>25836.0</td>\n",
       "      <td>PEEKABOO</td>\n",
       "      <td>Arrival</td>\n",
       "      <td>45.0</td>\n",
       "      <td>0.02330</td>\n",
       "      <td>0.729</td>\n",
       "      <td>274286.0</td>\n",
       "      <td>0.869</td>\n",
       "      <td>0.58500</td>\n",
       "      <td>F</td>\n",
       "      <td>0.0944</td>\n",
       "      <td>-7.569</td>\n",
       "      <td>Minor</td>\n",
       "      <td>0.1290</td>\n",
       "      <td>?</td>\n",
       "      <td>4-Apr</td>\n",
       "      <td>0.1380</td>\n",
       "      <td>Electronic</td>\n",
       "    </tr>\n",
       "    <tr>\n",
       "      <th>35</th>\n",
       "      <td>27048.0</td>\n",
       "      <td>Fabian Mazur</td>\n",
       "      <td>If U Wanted To</td>\n",
       "      <td>33.0</td>\n",
       "      <td>0.10800</td>\n",
       "      <td>0.493</td>\n",
       "      <td>-1.0</td>\n",
       "      <td>0.682</td>\n",
       "      <td>0.00000</td>\n",
       "      <td>A</td>\n",
       "      <td>0.1960</td>\n",
       "      <td>-5.781</td>\n",
       "      <td>Minor</td>\n",
       "      <td>0.2870</td>\n",
       "      <td>?</td>\n",
       "      <td>4-Apr</td>\n",
       "      <td>0.2390</td>\n",
       "      <td>Electronic</td>\n",
       "    </tr>\n",
       "    <tr>\n",
       "      <th>36</th>\n",
       "      <td>55617.0</td>\n",
       "      <td>Wax Tailor</td>\n",
       "      <td>The Games You Play</td>\n",
       "      <td>45.0</td>\n",
       "      <td>0.04780</td>\n",
       "      <td>0.646</td>\n",
       "      <td>253333.0</td>\n",
       "      <td>0.649</td>\n",
       "      <td>0.00252</td>\n",
       "      <td>G</td>\n",
       "      <td>0.3530</td>\n",
       "      <td>-5.259</td>\n",
       "      <td>Major</td>\n",
       "      <td>0.1170</td>\n",
       "      <td>?</td>\n",
       "      <td>4-Apr</td>\n",
       "      <td>0.7270</td>\n",
       "      <td>Electronic</td>\n",
       "    </tr>\n",
       "    <tr>\n",
       "      <th>39</th>\n",
       "      <td>69685.0</td>\n",
       "      <td>Dahu</td>\n",
       "      <td>Vessel</td>\n",
       "      <td>37.0</td>\n",
       "      <td>0.20300</td>\n",
       "      <td>0.769</td>\n",
       "      <td>429941.0</td>\n",
       "      <td>0.551</td>\n",
       "      <td>0.88200</td>\n",
       "      <td>A#</td>\n",
       "      <td>0.1090</td>\n",
       "      <td>-12.520</td>\n",
       "      <td>Minor</td>\n",
       "      <td>0.0408</td>\n",
       "      <td>?</td>\n",
       "      <td>4-Apr</td>\n",
       "      <td>0.0618</td>\n",
       "      <td>Electronic</td>\n",
       "    </tr>\n",
       "  </tbody>\n",
       "</table>\n",
       "</div>"
      ],
      "text/plain": [
       "    instance_id   artist_name          track_name  popularity  acousticness  \\\n",
       "5       89064.0    Axel Boman               Hello        47.0       0.00523   \n",
       "32      25836.0      PEEKABOO             Arrival        45.0       0.02330   \n",
       "35      27048.0  Fabian Mazur      If U Wanted To        33.0       0.10800   \n",
       "36      55617.0    Wax Tailor  The Games You Play        45.0       0.04780   \n",
       "39      69685.0          Dahu              Vessel        37.0       0.20300   \n",
       "\n",
       "    danceability  duration_ms  energy  instrumentalness key  liveness  \\\n",
       "5          0.755     519468.0   0.731           0.85400   D    0.2160   \n",
       "32         0.729     274286.0   0.869           0.58500   F    0.0944   \n",
       "35         0.493         -1.0   0.682           0.00000   A    0.1960   \n",
       "36         0.646     253333.0   0.649           0.00252   G    0.3530   \n",
       "39         0.769     429941.0   0.551           0.88200  A#    0.1090   \n",
       "\n",
       "    loudness   mode  speechiness tempo obtained_date  valence music_genre  \n",
       "5    -10.517  Minor       0.0412     ?         4-Apr   0.6140  Electronic  \n",
       "32    -7.569  Minor       0.1290     ?         4-Apr   0.1380  Electronic  \n",
       "35    -5.781  Minor       0.2870     ?         4-Apr   0.2390  Electronic  \n",
       "36    -5.259  Major       0.1170     ?         4-Apr   0.7270  Electronic  \n",
       "39   -12.520  Minor       0.0408     ?         4-Apr   0.0618  Electronic  "
      ]
     },
     "execution_count": 346,
     "metadata": {},
     "output_type": "execute_result"
    }
   ],
   "source": [
    "music_genre[music_genre['tempo'] == '?'].head()"
   ]
  },
  {
   "cell_type": "markdown",
   "id": "a21301b5",
   "metadata": {},
   "source": [
    "В признаке «duration_ms» находятся пропуски обозначенные -1.0"
   ]
  },
  {
   "cell_type": "code",
   "execution_count": 347,
   "id": "75ae9276",
   "metadata": {},
   "outputs": [
    {
     "name": "stdout",
     "output_type": "stream",
     "text": [
      "(4939, 18)\n",
      "(4939, 18)\n"
     ]
    }
   ],
   "source": [
    "print(music_genre[music_genre['duration_ms'] == -1.0].shape)\n",
    "print(music_genre[music_genre['duration_ms'] < 0].shape)"
   ]
  },
  {
   "cell_type": "code",
   "execution_count": 350,
   "id": "74c087c3",
   "metadata": {},
   "outputs": [
    {
     "data": {
      "text/html": [
       "<div>\n",
       "<style scoped>\n",
       "    .dataframe tbody tr th:only-of-type {\n",
       "        vertical-align: middle;\n",
       "    }\n",
       "\n",
       "    .dataframe tbody tr th {\n",
       "        vertical-align: top;\n",
       "    }\n",
       "\n",
       "    .dataframe thead th {\n",
       "        text-align: right;\n",
       "    }\n",
       "</style>\n",
       "<table border=\"1\" class=\"dataframe\">\n",
       "  <thead>\n",
       "    <tr style=\"text-align: right;\">\n",
       "      <th></th>\n",
       "      <th>instance_id</th>\n",
       "      <th>artist_name</th>\n",
       "      <th>track_name</th>\n",
       "      <th>popularity</th>\n",
       "      <th>acousticness</th>\n",
       "      <th>danceability</th>\n",
       "      <th>duration_ms</th>\n",
       "      <th>energy</th>\n",
       "      <th>instrumentalness</th>\n",
       "      <th>key</th>\n",
       "      <th>liveness</th>\n",
       "      <th>loudness</th>\n",
       "      <th>mode</th>\n",
       "      <th>speechiness</th>\n",
       "      <th>tempo</th>\n",
       "      <th>obtained_date</th>\n",
       "      <th>valence</th>\n",
       "      <th>music_genre</th>\n",
       "    </tr>\n",
       "  </thead>\n",
       "  <tbody>\n",
       "    <tr>\n",
       "      <th>0</th>\n",
       "      <td>32894.0</td>\n",
       "      <td>Röyksopp</td>\n",
       "      <td>Röyksopp's Night Out</td>\n",
       "      <td>27.0</td>\n",
       "      <td>0.00468</td>\n",
       "      <td>0.652</td>\n",
       "      <td>-1.0</td>\n",
       "      <td>0.941</td>\n",
       "      <td>0.792000</td>\n",
       "      <td>A#</td>\n",
       "      <td>0.115</td>\n",
       "      <td>-5.201</td>\n",
       "      <td>Minor</td>\n",
       "      <td>0.0748</td>\n",
       "      <td>100.889</td>\n",
       "      <td>4-Apr</td>\n",
       "      <td>0.7590</td>\n",
       "      <td>Electronic</td>\n",
       "    </tr>\n",
       "    <tr>\n",
       "      <th>13</th>\n",
       "      <td>62039.0</td>\n",
       "      <td>DJ Shadow</td>\n",
       "      <td>Broken Levee Blues</td>\n",
       "      <td>31.0</td>\n",
       "      <td>0.86000</td>\n",
       "      <td>0.737</td>\n",
       "      <td>-1.0</td>\n",
       "      <td>0.405</td>\n",
       "      <td>0.036100</td>\n",
       "      <td>A</td>\n",
       "      <td>0.173</td>\n",
       "      <td>-10.536</td>\n",
       "      <td>Minor</td>\n",
       "      <td>0.0424</td>\n",
       "      <td>154.745</td>\n",
       "      <td>4-Apr</td>\n",
       "      <td>0.6470</td>\n",
       "      <td>Electronic</td>\n",
       "    </tr>\n",
       "    <tr>\n",
       "      <th>16</th>\n",
       "      <td>83926.0</td>\n",
       "      <td>San Holo</td>\n",
       "      <td>One Thing</td>\n",
       "      <td>59.0</td>\n",
       "      <td>0.13600</td>\n",
       "      <td>0.336</td>\n",
       "      <td>-1.0</td>\n",
       "      <td>0.746</td>\n",
       "      <td>0.000000</td>\n",
       "      <td>C#</td>\n",
       "      <td>0.737</td>\n",
       "      <td>-4.315</td>\n",
       "      <td>Minor</td>\n",
       "      <td>0.0685</td>\n",
       "      <td>151.756</td>\n",
       "      <td>4-Apr</td>\n",
       "      <td>0.2100</td>\n",
       "      <td>Electronic</td>\n",
       "    </tr>\n",
       "    <tr>\n",
       "      <th>24</th>\n",
       "      <td>40033.0</td>\n",
       "      <td>The Prodigy</td>\n",
       "      <td>Diesel Power</td>\n",
       "      <td>56.0</td>\n",
       "      <td>0.06800</td>\n",
       "      <td>0.725</td>\n",
       "      <td>-1.0</td>\n",
       "      <td>0.877</td>\n",
       "      <td>0.000036</td>\n",
       "      <td>C</td>\n",
       "      <td>0.090</td>\n",
       "      <td>-3.496</td>\n",
       "      <td>Major</td>\n",
       "      <td>0.0646</td>\n",
       "      <td>105.919</td>\n",
       "      <td>4-Apr</td>\n",
       "      <td>0.0977</td>\n",
       "      <td>Electronic</td>\n",
       "    </tr>\n",
       "    <tr>\n",
       "      <th>35</th>\n",
       "      <td>27048.0</td>\n",
       "      <td>Fabian Mazur</td>\n",
       "      <td>If U Wanted To</td>\n",
       "      <td>33.0</td>\n",
       "      <td>0.10800</td>\n",
       "      <td>0.493</td>\n",
       "      <td>-1.0</td>\n",
       "      <td>0.682</td>\n",
       "      <td>0.000000</td>\n",
       "      <td>A</td>\n",
       "      <td>0.196</td>\n",
       "      <td>-5.781</td>\n",
       "      <td>Minor</td>\n",
       "      <td>0.2870</td>\n",
       "      <td>?</td>\n",
       "      <td>4-Apr</td>\n",
       "      <td>0.2390</td>\n",
       "      <td>Electronic</td>\n",
       "    </tr>\n",
       "  </tbody>\n",
       "</table>\n",
       "</div>"
      ],
      "text/plain": [
       "    instance_id   artist_name            track_name  popularity  acousticness  \\\n",
       "0       32894.0      Röyksopp  Röyksopp's Night Out        27.0       0.00468   \n",
       "13      62039.0     DJ Shadow    Broken Levee Blues        31.0       0.86000   \n",
       "16      83926.0      San Holo             One Thing        59.0       0.13600   \n",
       "24      40033.0   The Prodigy          Diesel Power        56.0       0.06800   \n",
       "35      27048.0  Fabian Mazur        If U Wanted To        33.0       0.10800   \n",
       "\n",
       "    danceability  duration_ms  energy  instrumentalness key  liveness  \\\n",
       "0          0.652         -1.0   0.941          0.792000  A#     0.115   \n",
       "13         0.737         -1.0   0.405          0.036100   A     0.173   \n",
       "16         0.336         -1.0   0.746          0.000000  C#     0.737   \n",
       "24         0.725         -1.0   0.877          0.000036   C     0.090   \n",
       "35         0.493         -1.0   0.682          0.000000   A     0.196   \n",
       "\n",
       "    loudness   mode  speechiness    tempo obtained_date  valence music_genre  \n",
       "0     -5.201  Minor       0.0748  100.889         4-Apr   0.7590  Electronic  \n",
       "13   -10.536  Minor       0.0424  154.745         4-Apr   0.6470  Electronic  \n",
       "16    -4.315  Minor       0.0685  151.756         4-Apr   0.2100  Electronic  \n",
       "24    -3.496  Major       0.0646  105.919         4-Apr   0.0977  Electronic  \n",
       "35    -5.781  Minor       0.2870        ?         4-Apr   0.2390  Electronic  "
      ]
     },
     "execution_count": 350,
     "metadata": {},
     "output_type": "execute_result"
    }
   ],
   "source": [
    "music_genre[music_genre['duration_ms'] == -1.0].head()"
   ]
  },
  {
   "cell_type": "markdown",
   "id": "dc5a2378",
   "metadata": {},
   "source": [
    "Обработаем эти пропуски, заполнив их средними значениями"
   ]
  },
  {
   "cell_type": "code",
   "execution_count": 351,
   "id": "239e1c41",
   "metadata": {},
   "outputs": [
    {
     "data": {
      "text/plain": [
       "dtype('O')"
      ]
     },
     "execution_count": 351,
     "metadata": {},
     "output_type": "execute_result"
    }
   ],
   "source": [
    "music_genre.tempo.dtypes"
   ]
  },
  {
   "cell_type": "code",
   "execution_count": 352,
   "id": "02378ac5",
   "metadata": {},
   "outputs": [],
   "source": [
    "# Помимо «?» пропусков в «tempo», есть еще float числа, записанные в string формате.\n",
    "# Преобразуем их\n",
    "music_genre[music_genre['tempo'] != '?'] = music_genre[music_genre['tempo'] != '?'].astype({'tempo': 'float64'})\n",
    "# Вычислим средний «tempo»\n",
    "mean_tempo = music_genre[music_genre['tempo'] != '?'].astype({'tempo': 'float64'})['tempo'].mean()"
   ]
  },
  {
   "cell_type": "code",
   "execution_count": 353,
   "id": "a7865d82",
   "metadata": {},
   "outputs": [],
   "source": [
    "# Заменим пропуски соответсвующим средним значением\n",
    "music_genre = music_genre.replace({'?': mean_tempo})"
   ]
  },
  {
   "cell_type": "code",
   "execution_count": 355,
   "id": "9eeb0c04",
   "metadata": {},
   "outputs": [
    {
     "data": {
      "text/plain": [
       "dtype('float64')"
      ]
     },
     "execution_count": 355,
     "metadata": {},
     "output_type": "execute_result"
    }
   ],
   "source": [
    "music_genre.tempo.dtypes"
   ]
  },
  {
   "cell_type": "markdown",
   "id": "ceb0221e",
   "metadata": {},
   "source": [
    "«tempo» был успешно обработан"
   ]
  },
  {
   "cell_type": "code",
   "execution_count": 356,
   "id": "947b779a",
   "metadata": {},
   "outputs": [
    {
     "data": {
      "text/plain": [
       "dtype('float64')"
      ]
     },
     "execution_count": 356,
     "metadata": {},
     "output_type": "execute_result"
    }
   ],
   "source": [
    "music_genre.duration_ms.dtypes"
   ]
  },
  {
   "cell_type": "code",
   "execution_count": 364,
   "id": "a280e085",
   "metadata": {},
   "outputs": [],
   "source": [
    "# Вычислим среднюю длительность\n",
    "mean_duration = music_genre[music_genre['duration_ms'] != -1.0]['duration_ms'].mean()"
   ]
  },
  {
   "cell_type": "code",
   "execution_count": 365,
   "id": "1cdf0424",
   "metadata": {},
   "outputs": [],
   "source": [
    "# Заменим пропуски соответсвующим средним значением\n",
    "music_genre = music_genre.replace({-1.0: mean_duration})"
   ]
  },
  {
   "cell_type": "code",
   "execution_count": 366,
   "id": "9bc54ea5",
   "metadata": {},
   "outputs": [
    {
     "data": {
      "text/plain": [
       "dtype('float64')"
      ]
     },
     "execution_count": 366,
     "metadata": {},
     "output_type": "execute_result"
    }
   ],
   "source": [
    "music_genre.duration_ms.dtypes"
   ]
  },
  {
   "cell_type": "markdown",
   "id": "894e26e0",
   "metadata": {},
   "source": [
    "«duration_ms» был успешно обработан"
   ]
  },
  {
   "cell_type": "code",
   "execution_count": 367,
   "id": "a6ae8de5",
   "metadata": {},
   "outputs": [
    {
     "data": {
      "text/plain": [
       "duration_ms    245503.541466\n",
       "tempo             119.952961\n",
       "Name: 35, dtype: object"
      ]
     },
     "execution_count": 367,
     "metadata": {},
     "output_type": "execute_result"
    }
   ],
   "source": [
    "music_genre.loc[35][[\"duration_ms\", \"tempo\"]]"
   ]
  },
  {
   "cell_type": "code",
   "execution_count": 369,
   "id": "e01b1ca2",
   "metadata": {},
   "outputs": [
    {
     "data": {
      "text/plain": [
       "False"
      ]
     },
     "execution_count": 369,
     "metadata": {},
     "output_type": "execute_result"
    }
   ],
   "source": [
    "music_genre.isnull().values.any()"
   ]
  },
  {
   "cell_type": "markdown",
   "id": "8ea04bb6",
   "metadata": {},
   "source": [
    "Теперь пропусков нет."
   ]
  },
  {
   "cell_type": "markdown",
   "id": "57e247f3",
   "metadata": {},
   "source": [
    "Уберем столбцы «instance_id», «artist_name», «obtained_date» и «track_name», так как они не понадобятся в дальнейшем."
   ]
  },
  {
   "cell_type": "code",
   "execution_count": 371,
   "id": "9ba7721a",
   "metadata": {},
   "outputs": [],
   "source": [
    "music_genre = music_genre.drop([\"instance_id\", \"artist_name\", \"obtained_date\", \"track_name\"], axis=1)"
   ]
  },
  {
   "cell_type": "code",
   "execution_count": 372,
   "id": "8c1bc22c",
   "metadata": {},
   "outputs": [
    {
     "data": {
      "text/html": [
       "<div>\n",
       "<style scoped>\n",
       "    .dataframe tbody tr th:only-of-type {\n",
       "        vertical-align: middle;\n",
       "    }\n",
       "\n",
       "    .dataframe tbody tr th {\n",
       "        vertical-align: top;\n",
       "    }\n",
       "\n",
       "    .dataframe thead th {\n",
       "        text-align: right;\n",
       "    }\n",
       "</style>\n",
       "<table border=\"1\" class=\"dataframe\">\n",
       "  <thead>\n",
       "    <tr style=\"text-align: right;\">\n",
       "      <th></th>\n",
       "      <th>popularity</th>\n",
       "      <th>acousticness</th>\n",
       "      <th>danceability</th>\n",
       "      <th>duration_ms</th>\n",
       "      <th>energy</th>\n",
       "      <th>instrumentalness</th>\n",
       "      <th>key</th>\n",
       "      <th>liveness</th>\n",
       "      <th>loudness</th>\n",
       "      <th>mode</th>\n",
       "      <th>speechiness</th>\n",
       "      <th>tempo</th>\n",
       "      <th>valence</th>\n",
       "      <th>music_genre</th>\n",
       "    </tr>\n",
       "  </thead>\n",
       "  <tbody>\n",
       "    <tr>\n",
       "      <th>0</th>\n",
       "      <td>27.0</td>\n",
       "      <td>0.00468</td>\n",
       "      <td>0.652</td>\n",
       "      <td>245503.541466</td>\n",
       "      <td>0.941</td>\n",
       "      <td>0.79200</td>\n",
       "      <td>A#</td>\n",
       "      <td>0.115</td>\n",
       "      <td>-5.201</td>\n",
       "      <td>Minor</td>\n",
       "      <td>0.0748</td>\n",
       "      <td>100.889</td>\n",
       "      <td>0.759</td>\n",
       "      <td>Electronic</td>\n",
       "    </tr>\n",
       "    <tr>\n",
       "      <th>1</th>\n",
       "      <td>31.0</td>\n",
       "      <td>0.01270</td>\n",
       "      <td>0.622</td>\n",
       "      <td>218293.000000</td>\n",
       "      <td>0.890</td>\n",
       "      <td>0.95000</td>\n",
       "      <td>D</td>\n",
       "      <td>0.124</td>\n",
       "      <td>-7.043</td>\n",
       "      <td>Minor</td>\n",
       "      <td>0.0300</td>\n",
       "      <td>115.002</td>\n",
       "      <td>0.531</td>\n",
       "      <td>Electronic</td>\n",
       "    </tr>\n",
       "    <tr>\n",
       "      <th>2</th>\n",
       "      <td>28.0</td>\n",
       "      <td>0.00306</td>\n",
       "      <td>0.620</td>\n",
       "      <td>215613.000000</td>\n",
       "      <td>0.755</td>\n",
       "      <td>0.01180</td>\n",
       "      <td>G#</td>\n",
       "      <td>0.534</td>\n",
       "      <td>-4.617</td>\n",
       "      <td>Major</td>\n",
       "      <td>0.0345</td>\n",
       "      <td>127.994</td>\n",
       "      <td>0.333</td>\n",
       "      <td>Electronic</td>\n",
       "    </tr>\n",
       "    <tr>\n",
       "      <th>3</th>\n",
       "      <td>34.0</td>\n",
       "      <td>0.02540</td>\n",
       "      <td>0.774</td>\n",
       "      <td>166875.000000</td>\n",
       "      <td>0.700</td>\n",
       "      <td>0.00253</td>\n",
       "      <td>C#</td>\n",
       "      <td>0.157</td>\n",
       "      <td>-4.498</td>\n",
       "      <td>Major</td>\n",
       "      <td>0.2390</td>\n",
       "      <td>128.014</td>\n",
       "      <td>0.270</td>\n",
       "      <td>Electronic</td>\n",
       "    </tr>\n",
       "    <tr>\n",
       "      <th>4</th>\n",
       "      <td>32.0</td>\n",
       "      <td>0.00465</td>\n",
       "      <td>0.638</td>\n",
       "      <td>222369.000000</td>\n",
       "      <td>0.587</td>\n",
       "      <td>0.90900</td>\n",
       "      <td>F#</td>\n",
       "      <td>0.157</td>\n",
       "      <td>-6.266</td>\n",
       "      <td>Major</td>\n",
       "      <td>0.0413</td>\n",
       "      <td>145.036</td>\n",
       "      <td>0.323</td>\n",
       "      <td>Electronic</td>\n",
       "    </tr>\n",
       "  </tbody>\n",
       "</table>\n",
       "</div>"
      ],
      "text/plain": [
       "   popularity  acousticness  danceability    duration_ms  energy  \\\n",
       "0        27.0       0.00468         0.652  245503.541466   0.941   \n",
       "1        31.0       0.01270         0.622  218293.000000   0.890   \n",
       "2        28.0       0.00306         0.620  215613.000000   0.755   \n",
       "3        34.0       0.02540         0.774  166875.000000   0.700   \n",
       "4        32.0       0.00465         0.638  222369.000000   0.587   \n",
       "\n",
       "   instrumentalness key  liveness  loudness   mode  speechiness    tempo  \\\n",
       "0           0.79200  A#     0.115    -5.201  Minor       0.0748  100.889   \n",
       "1           0.95000   D     0.124    -7.043  Minor       0.0300  115.002   \n",
       "2           0.01180  G#     0.534    -4.617  Major       0.0345  127.994   \n",
       "3           0.00253  C#     0.157    -4.498  Major       0.2390  128.014   \n",
       "4           0.90900  F#     0.157    -6.266  Major       0.0413  145.036   \n",
       "\n",
       "   valence music_genre  \n",
       "0    0.759  Electronic  \n",
       "1    0.531  Electronic  \n",
       "2    0.333  Electronic  \n",
       "3    0.270  Electronic  \n",
       "4    0.323  Electronic  "
      ]
     },
     "execution_count": 372,
     "metadata": {},
     "output_type": "execute_result"
    }
   ],
   "source": [
    "music_genre.head()"
   ]
  },
  {
   "cell_type": "markdown",
   "id": "6b0e0ebe",
   "metadata": {},
   "source": [
    "- Перекодируем порядковый признак «key»"
   ]
  },
  {
   "cell_type": "code",
   "execution_count": 373,
   "id": "9fff08a2",
   "metadata": {},
   "outputs": [
    {
     "name": "stdout",
     "output_type": "stream",
     "text": [
      "{'C#', 'F', 'G', 'G#', 'B', 'E', 'A', 'A#', 'C', 'D#', 'D', 'F#'}\n"
     ]
    }
   ],
   "source": [
    "print(set(music_genre['key']))"
   ]
  },
  {
   "cell_type": "code",
   "execution_count": 374,
   "id": "73bc8a51",
   "metadata": {},
   "outputs": [],
   "source": [
    "key_mapping = {\n",
    "    \"C\" :1,\n",
    "    \"C#\":2,\n",
    "    \"D\" :3,\n",
    "    \"D#\":4,\n",
    "    \"E\" :5,\n",
    "    \"F\" :6,\n",
    "    \"F#\":7,\n",
    "    \"G\" :8,\n",
    "    \"G#\":9,\n",
    "    \"A\" :10,\n",
    "    \"A#\":11,\n",
    "    \"B\" :12\n",
    "}\n",
    "music_genre['key'] = music_genre['key'].map(key_mapping)"
   ]
  },
  {
   "cell_type": "code",
   "execution_count": 375,
   "id": "3f5f6e16",
   "metadata": {},
   "outputs": [
    {
     "data": {
      "text/plain": [
       "0    11\n",
       "1     3\n",
       "2     9\n",
       "3     2\n",
       "4     7\n",
       "Name: key, dtype: int64"
      ]
     },
     "execution_count": 375,
     "metadata": {},
     "output_type": "execute_result"
    }
   ],
   "source": [
    "music_genre['key'].head()"
   ]
  },
  {
   "cell_type": "markdown",
   "id": "e6040737",
   "metadata": {},
   "source": [
    "Порядковый признак «key» успешно перекодирован"
   ]
  },
  {
   "cell_type": "markdown",
   "id": "80ec33c3",
   "metadata": {},
   "source": [
    "- Перекодируем бинарный признак «mode»"
   ]
  },
  {
   "cell_type": "code",
   "execution_count": 378,
   "id": "2997c270",
   "metadata": {},
   "outputs": [
    {
     "name": "stdout",
     "output_type": "stream",
     "text": [
      "{'Major', 'Minor'}\n"
     ]
    }
   ],
   "source": [
    "print(set(music_genre['mode']))"
   ]
  },
  {
   "cell_type": "code",
   "execution_count": 379,
   "id": "990ed0dd",
   "metadata": {},
   "outputs": [],
   "source": [
    "mode_mapping = {\n",
    "    \"Minor\":0,\n",
    "    \"Major\":1\n",
    "}\n",
    "music_genre['mode'] = music_genre['mode'].map(mode_mapping)"
   ]
  },
  {
   "cell_type": "code",
   "execution_count": 380,
   "id": "547229fd",
   "metadata": {},
   "outputs": [
    {
     "data": {
      "text/plain": [
       "0    0\n",
       "1    0\n",
       "2    1\n",
       "3    1\n",
       "4    1\n",
       "Name: mode, dtype: int64"
      ]
     },
     "execution_count": 380,
     "metadata": {},
     "output_type": "execute_result"
    }
   ],
   "source": [
    "music_genre['mode'].head()"
   ]
  },
  {
   "cell_type": "code",
   "execution_count": 381,
   "id": "1399b3fc",
   "metadata": {},
   "outputs": [
    {
     "data": {
      "text/plain": [
       "popularity          float64\n",
       "acousticness        float64\n",
       "danceability        float64\n",
       "duration_ms         float64\n",
       "energy              float64\n",
       "instrumentalness    float64\n",
       "key                   int64\n",
       "liveness            float64\n",
       "loudness            float64\n",
       "mode                  int64\n",
       "speechiness         float64\n",
       "tempo               float64\n",
       "valence             float64\n",
       "music_genre          object\n",
       "dtype: object"
      ]
     },
     "execution_count": 381,
     "metadata": {},
     "output_type": "execute_result"
    }
   ],
   "source": [
    "music_genre.dtypes"
   ]
  },
  {
   "cell_type": "code",
   "execution_count": null,
   "id": "d11e407d",
   "metadata": {},
   "outputs": [],
   "source": []
  }
 ],
 "metadata": {
  "kernelspec": {
   "display_name": "Python 3",
   "language": "python",
   "name": "python3"
  },
  "language_info": {
   "codemirror_mode": {
    "name": "ipython",
    "version": 3
   },
   "file_extension": ".py",
   "mimetype": "text/x-python",
   "name": "python",
   "nbconvert_exporter": "python",
   "pygments_lexer": "ipython3",
   "version": "3.8.8"
  }
 },
 "nbformat": 4,
 "nbformat_minor": 5
}
