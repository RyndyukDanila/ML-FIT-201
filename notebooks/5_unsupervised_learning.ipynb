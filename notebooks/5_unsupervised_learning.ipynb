{
 "cells": [
  {
   "cell_type": "markdown",
   "id": "25877df5",
   "metadata": {},
   "source": [
    "# Task 1"
   ]
  },
  {
   "cell_type": "code",
   "execution_count": 81,
   "id": "6ea0eb7f",
   "metadata": {},
   "outputs": [],
   "source": [
    "import pandas as pd\n",
    "import numpy as np\n",
    "from sklearn.utils import shuffle\n",
    "from sklearn.model_selection import train_test_split\n",
    "from sklearn.preprocessing import StandardScaler\n",
    "from sklearn.model_selection import GridSearchCV\n",
    "from sklearn.linear_model import LogisticRegression\n",
    "from sklearn.pipeline import Pipeline\n",
    "from sklearn.metrics import classification_report, confusion_matrix\n",
    "from sklearn.svm import SVC"
   ]
  },
  {
   "cell_type": "code",
   "execution_count": 82,
   "id": "7a036377",
   "metadata": {},
   "outputs": [
    {
     "data": {
      "text/html": [
       "<div>\n",
       "<style scoped>\n",
       "    .dataframe tbody tr th:only-of-type {\n",
       "        vertical-align: middle;\n",
       "    }\n",
       "\n",
       "    .dataframe tbody tr th {\n",
       "        vertical-align: top;\n",
       "    }\n",
       "\n",
       "    .dataframe thead th {\n",
       "        text-align: right;\n",
       "    }\n",
       "</style>\n",
       "<table border=\"1\" class=\"dataframe\">\n",
       "  <thead>\n",
       "    <tr style=\"text-align: right;\">\n",
       "      <th></th>\n",
       "      <th>popularity</th>\n",
       "      <th>acousticness</th>\n",
       "      <th>danceability</th>\n",
       "      <th>duration_ms</th>\n",
       "      <th>energy</th>\n",
       "      <th>instrumentalness</th>\n",
       "      <th>key</th>\n",
       "      <th>liveness</th>\n",
       "      <th>loudness</th>\n",
       "      <th>mode</th>\n",
       "      <th>speechiness</th>\n",
       "      <th>tempo</th>\n",
       "      <th>valence</th>\n",
       "      <th>music_genre</th>\n",
       "    </tr>\n",
       "  </thead>\n",
       "  <tbody>\n",
       "    <tr>\n",
       "      <th>0</th>\n",
       "      <td>27.0</td>\n",
       "      <td>0.00468</td>\n",
       "      <td>0.652</td>\n",
       "      <td>245503.541466</td>\n",
       "      <td>0.941</td>\n",
       "      <td>0.79200</td>\n",
       "      <td>11</td>\n",
       "      <td>0.115</td>\n",
       "      <td>-5.201</td>\n",
       "      <td>0</td>\n",
       "      <td>0.0748</td>\n",
       "      <td>100.889</td>\n",
       "      <td>0.759</td>\n",
       "      <td>Electronic</td>\n",
       "    </tr>\n",
       "    <tr>\n",
       "      <th>1</th>\n",
       "      <td>31.0</td>\n",
       "      <td>0.01270</td>\n",
       "      <td>0.622</td>\n",
       "      <td>218293.000000</td>\n",
       "      <td>0.890</td>\n",
       "      <td>0.95000</td>\n",
       "      <td>3</td>\n",
       "      <td>0.124</td>\n",
       "      <td>-7.043</td>\n",
       "      <td>0</td>\n",
       "      <td>0.0300</td>\n",
       "      <td>115.002</td>\n",
       "      <td>0.531</td>\n",
       "      <td>Electronic</td>\n",
       "    </tr>\n",
       "    <tr>\n",
       "      <th>2</th>\n",
       "      <td>28.0</td>\n",
       "      <td>0.00306</td>\n",
       "      <td>0.620</td>\n",
       "      <td>215613.000000</td>\n",
       "      <td>0.755</td>\n",
       "      <td>0.01180</td>\n",
       "      <td>9</td>\n",
       "      <td>0.534</td>\n",
       "      <td>-4.617</td>\n",
       "      <td>1</td>\n",
       "      <td>0.0345</td>\n",
       "      <td>127.994</td>\n",
       "      <td>0.333</td>\n",
       "      <td>Electronic</td>\n",
       "    </tr>\n",
       "    <tr>\n",
       "      <th>3</th>\n",
       "      <td>34.0</td>\n",
       "      <td>0.02540</td>\n",
       "      <td>0.774</td>\n",
       "      <td>166875.000000</td>\n",
       "      <td>0.700</td>\n",
       "      <td>0.00253</td>\n",
       "      <td>2</td>\n",
       "      <td>0.157</td>\n",
       "      <td>-4.498</td>\n",
       "      <td>1</td>\n",
       "      <td>0.2390</td>\n",
       "      <td>128.014</td>\n",
       "      <td>0.270</td>\n",
       "      <td>Electronic</td>\n",
       "    </tr>\n",
       "    <tr>\n",
       "      <th>4</th>\n",
       "      <td>32.0</td>\n",
       "      <td>0.00465</td>\n",
       "      <td>0.638</td>\n",
       "      <td>222369.000000</td>\n",
       "      <td>0.587</td>\n",
       "      <td>0.90900</td>\n",
       "      <td>7</td>\n",
       "      <td>0.157</td>\n",
       "      <td>-6.266</td>\n",
       "      <td>1</td>\n",
       "      <td>0.0413</td>\n",
       "      <td>145.036</td>\n",
       "      <td>0.323</td>\n",
       "      <td>Electronic</td>\n",
       "    </tr>\n",
       "  </tbody>\n",
       "</table>\n",
       "</div>"
      ],
      "text/plain": [
       "   popularity  acousticness  danceability    duration_ms  energy  \\\n",
       "0        27.0       0.00468         0.652  245503.541466   0.941   \n",
       "1        31.0       0.01270         0.622  218293.000000   0.890   \n",
       "2        28.0       0.00306         0.620  215613.000000   0.755   \n",
       "3        34.0       0.02540         0.774  166875.000000   0.700   \n",
       "4        32.0       0.00465         0.638  222369.000000   0.587   \n",
       "\n",
       "   instrumentalness  key  liveness  loudness  mode  speechiness    tempo  \\\n",
       "0           0.79200   11     0.115    -5.201     0       0.0748  100.889   \n",
       "1           0.95000    3     0.124    -7.043     0       0.0300  115.002   \n",
       "2           0.01180    9     0.534    -4.617     1       0.0345  127.994   \n",
       "3           0.00253    2     0.157    -4.498     1       0.2390  128.014   \n",
       "4           0.90900    7     0.157    -6.266     1       0.0413  145.036   \n",
       "\n",
       "   valence music_genre  \n",
       "0    0.759  Electronic  \n",
       "1    0.531  Electronic  \n",
       "2    0.333  Electronic  \n",
       "3    0.270  Electronic  \n",
       "4    0.323  Electronic  "
      ]
     },
     "execution_count": 82,
     "metadata": {},
     "output_type": "execute_result"
    }
   ],
   "source": [
    "music_genre = pd.read_csv(\"../data/music_genre_preprocessed.csv\")\n",
    "music_genre.pop('Unnamed: 0')\n",
    "music_genre.head()"
   ]
  },
  {
   "cell_type": "code",
   "execution_count": 83,
   "id": "5ac003a7",
   "metadata": {},
   "outputs": [
    {
     "data": {
      "text/plain": [
       "Electronic     5000\n",
       "Blues          5000\n",
       "Jazz           5000\n",
       "Anime          5000\n",
       "Country        5000\n",
       "Classical      5000\n",
       "Rock           5000\n",
       "Hip-Hop        5000\n",
       "Rap            5000\n",
       "Alternative    5000\n",
       "Name: music_genre, dtype: int64"
      ]
     },
     "execution_count": 83,
     "metadata": {},
     "output_type": "execute_result"
    }
   ],
   "source": [
    "music_genre.music_genre.value_counts()"
   ]
  },
  {
   "cell_type": "code",
   "execution_count": 84,
   "id": "306849e9",
   "metadata": {},
   "outputs": [],
   "source": [
    "# Перекодируем целевой признак\n",
    "\n",
    "music_genre_mapping = {\n",
    "    \"Electronic\":1,\n",
    "    \"Rap\":2,\n",
    "    \"Classical\":3,\n",
    "    \"Rock\":4,\n",
    "    \"Hip-Hop\":5,\n",
    "    \"Anime\":6,\n",
    "    \"Blues\":7,\n",
    "    \"Country\":8,\n",
    "    \"Jazz\":9,\n",
    "    \"Alternative\":10\n",
    "}\n",
    "music_genre['music_genre'] = music_genre['music_genre'].map(music_genre_mapping)"
   ]
  },
  {
   "cell_type": "code",
   "execution_count": 85,
   "id": "2e28c414",
   "metadata": {},
   "outputs": [],
   "source": [
    "# Уберем аномалии\n",
    "\n",
    "outliner_columns = ['duration_ms']\n",
    "\n",
    "for col in outliner_columns:\n",
    "    # Первая и третья квантиль\n",
    "    first_quartile = music_genre[col].describe()['25%']\n",
    "    third_quartile = music_genre[col].describe()['75%']\n",
    "\n",
    "    # Интерквантильный размах\n",
    "    iqr = third_quartile - first_quartile\n",
    "\n",
    "    # Убираем аномалии\n",
    "    music_genre = music_genre[(music_genre[col] > (first_quartile - 3 * iqr)) & \n",
    "                              (music_genre[col] < (third_quartile + 3 * iqr))]"
   ]
  },
  {
   "cell_type": "code",
   "execution_count": 86,
   "id": "d5e1d0ec",
   "metadata": {},
   "outputs": [],
   "source": [
    "# Возьмем только 5000 объектов из перемешанной выборки\n",
    "music_genre = shuffle(music_genre, random_state=0)\n",
    "music_genre = music_genre.iloc[:5000]\n",
    "music_genre.reset_index(drop=True, inplace=True)"
   ]
  },
  {
   "cell_type": "code",
   "execution_count": 87,
   "id": "03904727",
   "metadata": {},
   "outputs": [],
   "source": [
    "X = music_genre.drop(['music_genre'], 1)\n",
    "y = music_genre['music_genre']"
   ]
  },
  {
   "cell_type": "code",
   "execution_count": 88,
   "id": "d31842f7",
   "metadata": {},
   "outputs": [],
   "source": [
    "# Разбиваем выборку на обучающую и тестовую\n",
    "X_train, X_test, y_train, y_test = train_test_split(X, y, test_size=0.30)"
   ]
  },
  {
   "cell_type": "code",
   "execution_count": 10,
   "id": "5a6ad75c",
   "metadata": {},
   "outputs": [
    {
     "name": "stdout",
     "output_type": "stream",
     "text": [
      "Fitting 3 folds for each of 12 candidates, totalling 36 fits\n",
      "[CV] END .....................clf__C=0.0001, clf__kernel=rbf; total time=   3.6s\n",
      "[CV] END .....................clf__C=0.0001, clf__kernel=rbf; total time=   3.5s\n",
      "[CV] END .....................clf__C=0.0001, clf__kernel=rbf; total time=   3.3s\n",
      "[CV] END ..................clf__C=0.0001, clf__kernel=linear; total time=   1.7s\n",
      "[CV] END ..................clf__C=0.0001, clf__kernel=linear; total time=   1.5s\n",
      "[CV] END ..................clf__C=0.0001, clf__kernel=linear; total time=   1.6s\n",
      "[CV] END ......................clf__C=0.001, clf__kernel=rbf; total time=   2.9s\n",
      "[CV] END ......................clf__C=0.001, clf__kernel=rbf; total time=   2.9s\n",
      "[CV] END ......................clf__C=0.001, clf__kernel=rbf; total time=   2.9s\n",
      "[CV] END ...................clf__C=0.001, clf__kernel=linear; total time=   1.4s\n",
      "[CV] END ...................clf__C=0.001, clf__kernel=linear; total time=   1.5s\n",
      "[CV] END ...................clf__C=0.001, clf__kernel=linear; total time=   1.4s\n",
      "[CV] END .......................clf__C=0.01, clf__kernel=rbf; total time=   2.8s\n",
      "[CV] END .......................clf__C=0.01, clf__kernel=rbf; total time=   2.8s\n",
      "[CV] END .......................clf__C=0.01, clf__kernel=rbf; total time=   2.8s\n",
      "[CV] END ....................clf__C=0.01, clf__kernel=linear; total time=   1.0s\n",
      "[CV] END ....................clf__C=0.01, clf__kernel=linear; total time=   1.0s\n",
      "[CV] END ....................clf__C=0.01, clf__kernel=linear; total time=   1.0s\n",
      "[CV] END ........................clf__C=0.1, clf__kernel=rbf; total time=   2.2s\n",
      "[CV] END ........................clf__C=0.1, clf__kernel=rbf; total time=   2.4s\n",
      "[CV] END ........................clf__C=0.1, clf__kernel=rbf; total time=   2.4s\n",
      "[CV] END .....................clf__C=0.1, clf__kernel=linear; total time=   0.9s\n",
      "[CV] END .....................clf__C=0.1, clf__kernel=linear; total time=   0.9s\n",
      "[CV] END .....................clf__C=0.1, clf__kernel=linear; total time=   0.9s\n",
      "[CV] END ........................clf__C=1.0, clf__kernel=rbf; total time=   1.8s\n",
      "[CV] END ........................clf__C=1.0, clf__kernel=rbf; total time=   2.0s\n",
      "[CV] END ........................clf__C=1.0, clf__kernel=rbf; total time=   2.2s\n",
      "[CV] END .....................clf__C=1.0, clf__kernel=linear; total time=   1.5s\n",
      "[CV] END .....................clf__C=1.0, clf__kernel=linear; total time=   1.5s\n",
      "[CV] END .....................clf__C=1.0, clf__kernel=linear; total time=   1.1s\n",
      "[CV] END .......................clf__C=10.0, clf__kernel=rbf; total time=   2.2s\n",
      "[CV] END .......................clf__C=10.0, clf__kernel=rbf; total time=   2.7s\n",
      "[CV] END .......................clf__C=10.0, clf__kernel=rbf; total time=   2.4s\n",
      "[CV] END ....................clf__C=10.0, clf__kernel=linear; total time=   3.9s\n",
      "[CV] END ....................clf__C=10.0, clf__kernel=linear; total time=   3.5s\n",
      "[CV] END ....................clf__C=10.0, clf__kernel=linear; total time=   3.7s\n",
      "0.522857228245985\n",
      "{'mean_fit_time': array([2.22512102, 1.32043346, 1.83910751, 1.17396951, 1.78721913,\n",
      "       0.77272073, 1.34587844, 0.63159116, 0.97599673, 1.1446081 ,\n",
      "       1.29772401, 3.47198391]), 'std_fit_time': array([0.01596923, 0.07398849, 0.02350942, 0.01438944, 0.02870067,\n",
      "       0.01382468, 0.06345924, 0.00933973, 0.04035512, 0.16651663,\n",
      "       0.09292776, 0.11600628]), 'mean_score_time': array([1.32855749, 0.38600039, 1.12677757, 0.37991707, 1.12430636,\n",
      "       0.35793471, 1.06683787, 0.32254537, 1.14946357, 0.33428033,\n",
      "       1.24136329, 0.32592948]), 'std_score_time': array([0.12131359, 0.0093706 , 0.02134655, 0.00875285, 0.02420388,\n",
      "       0.00893523, 0.00260577, 0.00784488, 0.12368691, 0.02033748,\n",
      "       0.14348522, 0.0380084 ]), 'param_clf__C': masked_array(data=[0.0001, 0.0001, 0.001, 0.001, 0.01, 0.01, 0.1, 0.1,\n",
      "                   1.0, 1.0, 10.0, 10.0],\n",
      "             mask=[False, False, False, False, False, False, False, False,\n",
      "                   False, False, False, False],\n",
      "       fill_value='?',\n",
      "            dtype=object), 'param_clf__kernel': masked_array(data=['rbf', 'linear', 'rbf', 'linear', 'rbf', 'linear',\n",
      "                   'rbf', 'linear', 'rbf', 'linear', 'rbf', 'linear'],\n",
      "             mask=[False, False, False, False, False, False, False, False,\n",
      "                   False, False, False, False],\n",
      "       fill_value='?',\n",
      "            dtype=object), 'params': [{'clf__C': 0.0001, 'clf__kernel': 'rbf'}, {'clf__C': 0.0001, 'clf__kernel': 'linear'}, {'clf__C': 0.001, 'clf__kernel': 'rbf'}, {'clf__C': 0.001, 'clf__kernel': 'linear'}, {'clf__C': 0.01, 'clf__kernel': 'rbf'}, {'clf__C': 0.01, 'clf__kernel': 'linear'}, {'clf__C': 0.1, 'clf__kernel': 'rbf'}, {'clf__C': 0.1, 'clf__kernel': 'linear'}, {'clf__C': 1.0, 'clf__kernel': 'rbf'}, {'clf__C': 1.0, 'clf__kernel': 'linear'}, {'clf__C': 10.0, 'clf__kernel': 'rbf'}, {'clf__C': 10.0, 'clf__kernel': 'linear'}], 'split0_test_score': array([0.10882605, 0.10882605, 0.10882605, 0.33161954, 0.12253642,\n",
      "       0.48071979, 0.47043702, 0.50299914, 0.50985433, 0.50899743,\n",
      "       0.49185947, 0.50985433]), 'split1_test_score': array([0.10882605, 0.10882605, 0.10882605, 0.33247644, 0.12682091,\n",
      "       0.50985433, 0.50299914, 0.53127678, 0.53556127, 0.54241645,\n",
      "       0.53470437, 0.53641817]), 'split2_test_score': array([0.10977702, 0.10977702, 0.10977702, 0.33276158, 0.11406518,\n",
      "       0.50085763, 0.49656947, 0.51543739, 0.52315609, 0.51286449,\n",
      "       0.4922813 , 0.5077187 ]), 'mean_test_score': array([0.10914304, 0.10914304, 0.10914304, 0.33228585, 0.12114084,\n",
      "       0.49714392, 0.49000188, 0.5165711 , 0.52285723, 0.52142613,\n",
      "       0.50628171, 0.51799706]), 'std_test_score': array([0.00044829, 0.00044829, 0.00044829, 0.00048532, 0.00530018,\n",
      "       0.01218056, 0.01408126, 0.0115721 , 0.01049694, 0.01492613,\n",
      "       0.02009859, 0.01305483]), 'rank_test_score': array([10, 10, 10,  8,  9,  6,  7,  4,  1,  2,  5,  3])}\n"
     ]
    }
   ],
   "source": [
    "pipe = Pipeline([('scale', StandardScaler()),\n",
    "                 ('clf', SVC(kernel = 'linear', C = 1))])\n",
    "\n",
    "param_grid = dict(clf__C=np.logspace(-4, 1, 6),\n",
    "                  clf__kernel=['rbf','linear'])\n",
    "\n",
    "grid = GridSearchCV(pipe, \n",
    "                    param_grid=param_grid, \n",
    "                    cv=3, \n",
    "                    n_jobs=1, \n",
    "                    verbose=2, scoring= 'accuracy')\n",
    "grid.fit(X_train, y_train)\n",
    "print(grid.best_score_)\n",
    "print(grid.cv_results_)"
   ]
  },
  {
   "cell_type": "code",
   "execution_count": 11,
   "id": "685d8415",
   "metadata": {},
   "outputs": [
    {
     "name": "stdout",
     "output_type": "stream",
     "text": [
      "[[ 70   0   1   2   5  12   7  10  17  15]\n",
      " [  5  46   0  25  59   0   0   8   2   7]\n",
      " [  3   0 110   0   0   4   3   0   6   4]\n",
      " [  1   6   1 101   4   0   0  20   7   3]\n",
      " [  1  51   0  10  90   0   0   6   5   9]\n",
      " [ 10   0  13   1   0  87  19   5   4   2]\n",
      " [  4   0   6   3   3   9  72  24  21   5]\n",
      " [  4   0   2  30   6   3  12  85  10  14]\n",
      " [ 25   2  12   7   6   6  16  15  47   6]\n",
      " [ 10   8   0  30  20   1   5  31   7  56]]\n",
      "              precision    recall  f1-score   support\n",
      "\n",
      "           1       0.53      0.50      0.51       139\n",
      "           2       0.41      0.30      0.35       152\n",
      "           3       0.76      0.85      0.80       130\n",
      "           4       0.48      0.71      0.57       143\n",
      "           5       0.47      0.52      0.49       172\n",
      "           6       0.71      0.62      0.66       141\n",
      "           7       0.54      0.49      0.51       147\n",
      "           8       0.42      0.51      0.46       166\n",
      "           9       0.37      0.33      0.35       142\n",
      "          10       0.46      0.33      0.39       168\n",
      "\n",
      "    accuracy                           0.51      1500\n",
      "   macro avg       0.51      0.52      0.51      1500\n",
      "weighted avg       0.51      0.51      0.50      1500\n",
      "\n"
     ]
    }
   ],
   "source": [
    "y_pred = grid.predict(X_test)\n",
    "print(confusion_matrix(y_test, y_pred))\n",
    "print(classification_report(y_test, y_pred))"
   ]
  },
  {
   "cell_type": "code",
   "execution_count": 10,
   "id": "ea538b45",
   "metadata": {},
   "outputs": [
    {
     "name": "stdout",
     "output_type": "stream",
     "text": [
      "[[ 85   0   2   4   1   8  10   2  14   9]\n",
      " [  1  54   0  12  69   0   0   1   0   7]\n",
      " [  2   0  97   0   0  12   6   0  11   1]\n",
      " [  1  15   0  96   5   0   1   7   1  15]\n",
      " [  2  60   0   9  76   0   0   5   0  14]\n",
      " [ 10   1  10   2   0 102   9   6   1   6]\n",
      " [  8   0   3   4   0  17  69  21  20   5]\n",
      " [  2   4   1  32   3   2  10  94  11  13]\n",
      " [ 27   1  12   8   3   4  17   9  72   5]\n",
      " [ 14  14   0  29  11   1   3  19   9  61]]\n",
      "              precision    recall  f1-score   support\n",
      "\n",
      "           1       0.56      0.63      0.59       135\n",
      "           2       0.36      0.38      0.37       144\n",
      "           3       0.78      0.75      0.76       129\n",
      "           4       0.49      0.68      0.57       141\n",
      "           5       0.45      0.46      0.46       166\n",
      "           6       0.70      0.69      0.70       147\n",
      "           7       0.55      0.47      0.51       147\n",
      "           8       0.57      0.55      0.56       172\n",
      "           9       0.52      0.46      0.48       158\n",
      "          10       0.45      0.38      0.41       161\n",
      "\n",
      "    accuracy                           0.54      1500\n",
      "   macro avg       0.54      0.54      0.54      1500\n",
      "weighted avg       0.54      0.54      0.54      1500\n",
      "\n"
     ]
    }
   ],
   "source": [
    "from catboost import CatBoostClassifier\n",
    "\n",
    "CatBCl = CatBoostClassifier()\n",
    "CatBCl.fit(X_train, y_train, verbose=False)\n",
    "y_cat_pred = CatBCl.predict(X_test)\n",
    "\n",
    "print(confusion_matrix(y_test, y_cat_pred))\n",
    "print(classification_report(y_test, y_cat_pred))"
   ]
  },
  {
   "cell_type": "markdown",
   "id": "6843d400",
   "metadata": {},
   "source": [
    "Такие вот результаты"
   ]
  },
  {
   "cell_type": "code",
   "execution_count": 11,
   "id": "f591cc90",
   "metadata": {},
   "outputs": [],
   "source": [
    "def pipe_grid_svc(X, y):\n",
    "    X_train, X_test, y_train, y_test = train_test_split(X, y, test_size=0.30)\n",
    "    pipe = Pipeline([('scale', StandardScaler()),\n",
    "                     ('clf', SVC(kernel = 'linear', C = 1))])\n",
    "\n",
    "    param_grid = dict(clf__C=np.logspace(-4, 1, 6),\n",
    "                      clf__kernel=['rbf','linear'])\n",
    "\n",
    "    grid = GridSearchCV(pipe, \n",
    "                        param_grid=param_grid, \n",
    "                        cv=3, \n",
    "                        n_jobs=1, \n",
    "                        verbose=2, scoring= 'accuracy')\n",
    "    grid.fit(X_train, y_train)\n",
    "    print(grid.best_score_)\n",
    "    print(grid.cv_results_)\n",
    "\n",
    "    y_pred = grid.predict(X_test)\n",
    "    print(confusion_matrix(y_test, y_pred))\n",
    "    print(classification_report(y_test, y_pred))"
   ]
  },
  {
   "cell_type": "code",
   "execution_count": 140,
   "id": "4e0c7d60",
   "metadata": {},
   "outputs": [],
   "source": [
    "from catboost import CatBoostClassifier\n",
    "def cat_boo(X, y):\n",
    "    X_train, X_test, y_train, y_test = train_test_split(X, y, test_size=0.30)\n",
    "    \n",
    "    CatBCl = CatBoostClassifier()\n",
    "    CatBCl.fit(X_train, y_train, verbose=False)\n",
    "    y_cat_pred = CatBCl.predict(X_test)\n",
    "\n",
    "    print(confusion_matrix(y_test, y_cat_pred))\n",
    "    print(classification_report(y_test, y_cat_pred))"
   ]
  },
  {
   "cell_type": "markdown",
   "id": "189613fe",
   "metadata": {},
   "source": [
    "### Отбор признаков"
   ]
  },
  {
   "cell_type": "code",
   "execution_count": 13,
   "id": "c1bd5506",
   "metadata": {},
   "outputs": [],
   "source": [
    "from sklearn.feature_selection import SelectKBest\n",
    "from sklearn.feature_selection import chi2\n",
    "\n",
    "from sklearn.feature_selection import RFE\n",
    "from sklearn.linear_model import LogisticRegression\n",
    "\n",
    "from sklearn.ensemble import ExtraTreesClassifier"
   ]
  },
  {
   "cell_type": "markdown",
   "id": "9147b0d1",
   "metadata": {},
   "source": [
    "##### Одномерный отбор признаков (SelectKBest)"
   ]
  },
  {
   "cell_type": "code",
   "execution_count": 14,
   "id": "32a05f17",
   "metadata": {},
   "outputs": [
    {
     "name": "stdout",
     "output_type": "stream",
     "text": [
      "[ 173.20385714  716.21765529  125.35200286    8.61306356  191.62030162\n",
      " 1073.47287141    2.13038609   10.44310536   50.65409125   85.74333614\n",
      "  233.47521877   13.26155625  102.6330807 ]\n",
      "[[7.91666667e-01 3.78513189e-01 8.89772932e-01 1.90332326e-01\n",
      "  1.87866928e-01]\n",
      " [5.62500000e-01 8.48380802e-02 5.86147464e-01 5.05538771e-03\n",
      "  1.80528376e-01]\n",
      " [3.85416667e-01 7.06814340e-02 9.04803896e-01 0.00000000e+00\n",
      "  2.97211350e-02]\n",
      " [4.27083333e-01 1.00400351e-01 2.75507546e-01 1.80261833e-03\n",
      "  2.50733855e-02]\n",
      " [5.93750000e-01 4.28701502e-02 6.61302283e-01 9.10372608e-06\n",
      "  3.00391389e-01]]\n"
     ]
    }
   ],
   "source": [
    "from sklearn.preprocessing import MinMaxScaler\n",
    "scaler = MinMaxScaler()\n",
    "scaler.fit(X)\n",
    "X_t = scaler.transform(X)\n",
    "\n",
    "# feature extraction\n",
    "test = SelectKBest(score_func=chi2, k=5)\n",
    "fit = test.fit(X_t, y)\n",
    "\n",
    "# summarize scores\n",
    "print(fit.scores_)\n",
    "features = fit.transform(X_t)\n",
    "\n",
    "# summarize selected features\n",
    "print(features[0:5,:])"
   ]
  },
  {
   "cell_type": "code",
   "execution_count": 15,
   "id": "6400369d",
   "metadata": {},
   "outputs": [],
   "source": [
    "# индексы наиболее важных признаков\n",
    "skb = [0, 1, 4, 5, 10]"
   ]
  },
  {
   "cell_type": "code",
   "execution_count": 16,
   "id": "df8fe1ff",
   "metadata": {},
   "outputs": [],
   "source": [
    "X_skb = X.iloc[:, [0, 1, 4, 5, 10]]"
   ]
  },
  {
   "cell_type": "code",
   "execution_count": 17,
   "id": "ae4d462c",
   "metadata": {},
   "outputs": [
    {
     "data": {
      "text/html": [
       "<div>\n",
       "<style scoped>\n",
       "    .dataframe tbody tr th:only-of-type {\n",
       "        vertical-align: middle;\n",
       "    }\n",
       "\n",
       "    .dataframe tbody tr th {\n",
       "        vertical-align: top;\n",
       "    }\n",
       "\n",
       "    .dataframe thead th {\n",
       "        text-align: right;\n",
       "    }\n",
       "</style>\n",
       "<table border=\"1\" class=\"dataframe\">\n",
       "  <thead>\n",
       "    <tr style=\"text-align: right;\">\n",
       "      <th></th>\n",
       "      <th>popularity</th>\n",
       "      <th>acousticness</th>\n",
       "      <th>energy</th>\n",
       "      <th>instrumentalness</th>\n",
       "      <th>speechiness</th>\n",
       "    </tr>\n",
       "  </thead>\n",
       "  <tbody>\n",
       "    <tr>\n",
       "      <th>0</th>\n",
       "      <td>76.0</td>\n",
       "      <td>0.3770</td>\n",
       "      <td>0.889</td>\n",
       "      <td>0.189000</td>\n",
       "      <td>0.1760</td>\n",
       "    </tr>\n",
       "    <tr>\n",
       "      <th>1</th>\n",
       "      <td>54.0</td>\n",
       "      <td>0.0845</td>\n",
       "      <td>0.586</td>\n",
       "      <td>0.005020</td>\n",
       "      <td>0.1700</td>\n",
       "    </tr>\n",
       "    <tr>\n",
       "      <th>2</th>\n",
       "      <td>37.0</td>\n",
       "      <td>0.0704</td>\n",
       "      <td>0.904</td>\n",
       "      <td>0.000000</td>\n",
       "      <td>0.0467</td>\n",
       "    </tr>\n",
       "    <tr>\n",
       "      <th>3</th>\n",
       "      <td>41.0</td>\n",
       "      <td>0.1000</td>\n",
       "      <td>0.276</td>\n",
       "      <td>0.001790</td>\n",
       "      <td>0.0429</td>\n",
       "    </tr>\n",
       "    <tr>\n",
       "      <th>4</th>\n",
       "      <td>57.0</td>\n",
       "      <td>0.0427</td>\n",
       "      <td>0.661</td>\n",
       "      <td>0.000009</td>\n",
       "      <td>0.2680</td>\n",
       "    </tr>\n",
       "  </tbody>\n",
       "</table>\n",
       "</div>"
      ],
      "text/plain": [
       "   popularity  acousticness  energy  instrumentalness  speechiness\n",
       "0        76.0        0.3770   0.889          0.189000       0.1760\n",
       "1        54.0        0.0845   0.586          0.005020       0.1700\n",
       "2        37.0        0.0704   0.904          0.000000       0.0467\n",
       "3        41.0        0.1000   0.276          0.001790       0.0429\n",
       "4        57.0        0.0427   0.661          0.000009       0.2680"
      ]
     },
     "execution_count": 17,
     "metadata": {},
     "output_type": "execute_result"
    }
   ],
   "source": [
    "X_skb.head()"
   ]
  },
  {
   "cell_type": "code",
   "execution_count": 18,
   "id": "73ca1584",
   "metadata": {},
   "outputs": [
    {
     "name": "stdout",
     "output_type": "stream",
     "text": [
      "Fitting 3 folds for each of 12 candidates, totalling 36 fits\n",
      "[CV] END .....................clf__C=0.0001, clf__kernel=rbf; total time=   3.0s\n",
      "[CV] END .....................clf__C=0.0001, clf__kernel=rbf; total time=   2.7s\n",
      "[CV] END .....................clf__C=0.0001, clf__kernel=rbf; total time=   3.0s\n",
      "[CV] END ..................clf__C=0.0001, clf__kernel=linear; total time=   2.0s\n",
      "[CV] END ..................clf__C=0.0001, clf__kernel=linear; total time=   2.1s\n",
      "[CV] END ..................clf__C=0.0001, clf__kernel=linear; total time=   2.0s\n",
      "[CV] END ......................clf__C=0.001, clf__kernel=rbf; total time=   2.9s\n",
      "[CV] END ......................clf__C=0.001, clf__kernel=rbf; total time=   2.9s\n",
      "[CV] END ......................clf__C=0.001, clf__kernel=rbf; total time=   2.8s\n",
      "[CV] END ...................clf__C=0.001, clf__kernel=linear; total time=   1.3s\n",
      "[CV] END ...................clf__C=0.001, clf__kernel=linear; total time=   1.4s\n",
      "[CV] END ...................clf__C=0.001, clf__kernel=linear; total time=   1.8s\n",
      "[CV] END .......................clf__C=0.01, clf__kernel=rbf; total time=   2.6s\n",
      "[CV] END .......................clf__C=0.01, clf__kernel=rbf; total time=   2.6s\n",
      "[CV] END .......................clf__C=0.01, clf__kernel=rbf; total time=   3.8s\n",
      "[CV] END ....................clf__C=0.01, clf__kernel=linear; total time=   1.7s\n",
      "[CV] END ....................clf__C=0.01, clf__kernel=linear; total time=   1.2s\n",
      "[CV] END ....................clf__C=0.01, clf__kernel=linear; total time=   1.0s\n",
      "[CV] END ........................clf__C=0.1, clf__kernel=rbf; total time=   1.9s\n",
      "[CV] END ........................clf__C=0.1, clf__kernel=rbf; total time=   2.0s\n",
      "[CV] END ........................clf__C=0.1, clf__kernel=rbf; total time=   2.1s\n",
      "[CV] END .....................clf__C=0.1, clf__kernel=linear; total time=   0.8s\n",
      "[CV] END .....................clf__C=0.1, clf__kernel=linear; total time=   1.0s\n",
      "[CV] END .....................clf__C=0.1, clf__kernel=linear; total time=   1.2s\n",
      "[CV] END ........................clf__C=1.0, clf__kernel=rbf; total time=   2.3s\n",
      "[CV] END ........................clf__C=1.0, clf__kernel=rbf; total time=   2.7s\n",
      "[CV] END ........................clf__C=1.0, clf__kernel=rbf; total time=   2.0s\n",
      "[CV] END .....................clf__C=1.0, clf__kernel=linear; total time=   1.3s\n",
      "[CV] END .....................clf__C=1.0, clf__kernel=linear; total time=   1.3s\n",
      "[CV] END .....................clf__C=1.0, clf__kernel=linear; total time=   1.2s\n",
      "[CV] END .......................clf__C=10.0, clf__kernel=rbf; total time=   2.5s\n",
      "[CV] END .......................clf__C=10.0, clf__kernel=rbf; total time=   2.6s\n",
      "[CV] END .......................clf__C=10.0, clf__kernel=rbf; total time=   3.4s\n",
      "[CV] END ....................clf__C=10.0, clf__kernel=linear; total time=   2.2s\n",
      "[CV] END ....................clf__C=10.0, clf__kernel=linear; total time=   2.1s\n",
      "[CV] END ....................clf__C=10.0, clf__kernel=linear; total time=   1.9s\n",
      "0.4771408120100946\n",
      "{'mean_fit_time': array([1.90013131, 1.63019633, 1.86647693, 1.22193146, 1.76787416,\n",
      "       0.98666914, 1.01909526, 0.66878549, 1.08327548, 0.91084361,\n",
      "       1.36607305, 1.67177224]), 'std_fit_time': array([0.10784832, 0.08584031, 0.08825026, 0.19367984, 0.17227997,\n",
      "       0.21166725, 0.03935709, 0.09515512, 0.06837513, 0.11078026,\n",
      "       0.28673724, 0.20203431]), 'mean_score_time': array([1.11864599, 0.49482663, 1.12259102, 0.37477016, 1.30248507,\n",
      "       0.41267045, 1.09381668, 0.41944067, 1.35734653, 0.47683517,\n",
      "       1.56177282, 0.46231031]), 'std_score_time': array([0.06228688, 0.02671072, 0.05514462, 0.0207399 , 0.40317392,\n",
      "       0.05594063, 0.05030264, 0.05665519, 0.19996386, 0.0687417 ,\n",
      "       0.09467075, 0.08708558]), 'param_clf__C': masked_array(data=[0.0001, 0.0001, 0.001, 0.001, 0.01, 0.01, 0.1, 0.1,\n",
      "                   1.0, 1.0, 10.0, 10.0],\n",
      "             mask=[False, False, False, False, False, False, False, False,\n",
      "                   False, False, False, False],\n",
      "       fill_value='?',\n",
      "            dtype=object), 'param_clf__kernel': masked_array(data=['rbf', 'linear', 'rbf', 'linear', 'rbf', 'linear',\n",
      "                   'rbf', 'linear', 'rbf', 'linear', 'rbf', 'linear'],\n",
      "             mask=[False, False, False, False, False, False, False, False,\n",
      "                   False, False, False, False],\n",
      "       fill_value='?',\n",
      "            dtype=object), 'params': [{'clf__C': 0.0001, 'clf__kernel': 'rbf'}, {'clf__C': 0.0001, 'clf__kernel': 'linear'}, {'clf__C': 0.001, 'clf__kernel': 'rbf'}, {'clf__C': 0.001, 'clf__kernel': 'linear'}, {'clf__C': 0.01, 'clf__kernel': 'rbf'}, {'clf__C': 0.01, 'clf__kernel': 'linear'}, {'clf__C': 0.1, 'clf__kernel': 'rbf'}, {'clf__C': 0.1, 'clf__kernel': 'linear'}, {'clf__C': 1.0, 'clf__kernel': 'rbf'}, {'clf__C': 1.0, 'clf__kernel': 'linear'}, {'clf__C': 10.0, 'clf__kernel': 'rbf'}, {'clf__C': 10.0, 'clf__kernel': 'linear'}], 'split0_test_score': array([0.21251071, 0.20908312, 0.21251071, 0.30162811, 0.30848329,\n",
      "       0.43701799, 0.45158526, 0.44815767, 0.47557841, 0.45415596,\n",
      "       0.47043702, 0.45072836]), 'split1_test_score': array([0.21165381, 0.20822622, 0.21165381, 0.30676949, 0.32733505,\n",
      "       0.44644387, 0.47215081, 0.46358183, 0.48928877, 0.46615253,\n",
      "       0.49100257, 0.46700943]), 'split2_test_score': array([0.20926244, 0.19039451, 0.20926244, 0.30102916, 0.31560892,\n",
      "       0.4219554 , 0.4373928 , 0.44082333, 0.45283019, 0.44339623,\n",
      "       0.46998285, 0.44168096]), 'mean_test_score': array([0.21114232, 0.20256795, 0.21114232, 0.30314225, 0.31714242,\n",
      "       0.43513909, 0.45370962, 0.45085428, 0.47256579, 0.45456824,\n",
      "       0.47714081, 0.45313958]), 'std_test_score': array([0.00137454, 0.00861503, 0.00137454, 0.00257648, 0.00777221,\n",
      "       0.01008527, 0.01426919, 0.00948477, 0.01503582, 0.00929479,\n",
      "       0.0098035 , 0.01047993]), 'rank_test_score': array([10, 12, 10,  9,  8,  7,  4,  6,  2,  3,  1,  5])}\n",
      "[[ 75   0   2   4   1  17  18  16  12  17]\n",
      " [  1  42   0  29  68   0   0   2   0   6]\n",
      " [  4   0 101   0   0   9   5   1   5   2]\n",
      " [  2   8   1 109   6   0   0   4   3  10]\n",
      " [  3  39   0  29  86   0   0   1   1  13]\n",
      " [  8   1  16   2   0  75   9   5   0   1]\n",
      " [ 17   1   8   6   1  11  59  16  11   8]\n",
      " [  3   0   1  33   6   1  15  94  20   6]\n",
      " [ 26   1  19   4   3   2  23  18  53   8]\n",
      " [  8   8   1  36  14   4   1  39   4  42]]\n",
      "              precision    recall  f1-score   support\n",
      "\n",
      "           1       0.51      0.46      0.49       162\n",
      "           2       0.42      0.28      0.34       148\n",
      "           3       0.68      0.80      0.73       127\n",
      "           4       0.43      0.76      0.55       143\n",
      "           5       0.46      0.50      0.48       172\n",
      "           6       0.63      0.64      0.64       117\n",
      "           7       0.45      0.43      0.44       138\n",
      "           8       0.48      0.53      0.50       179\n",
      "           9       0.49      0.34      0.40       157\n",
      "          10       0.37      0.27      0.31       157\n",
      "\n",
      "    accuracy                           0.49      1500\n",
      "   macro avg       0.49      0.50      0.49      1500\n",
      "weighted avg       0.49      0.49      0.48      1500\n",
      "\n"
     ]
    }
   ],
   "source": [
    "pipe_grid_svc(X_skb, y)"
   ]
  },
  {
   "cell_type": "code",
   "execution_count": 19,
   "id": "3c258865",
   "metadata": {},
   "outputs": [
    {
     "name": "stdout",
     "output_type": "stream",
     "text": [
      "[[ 63   0   1   6   2  15  30   6  19  14]\n",
      " [  1  63   0   8  52   0   0   2   2  10]\n",
      " [  2   0 105   1   0   8   7   1  10   2]\n",
      " [  1  17   0  78   7   0   0  11   6  10]\n",
      " [  3  47   0  14  96   0   1   6   1   4]\n",
      " [ 14   1  15   0   0  87  19   6   3   3]\n",
      " [  9   1   4   4   4  14  72  19  15   5]\n",
      " [  2   7   0  29   3   3  13  83  11  14]\n",
      " [ 26   1  11   6   1   2  18  22  56  12]\n",
      " [  6  13   3  23   8   1   4  23  10  62]]\n",
      "              precision    recall  f1-score   support\n",
      "\n",
      "           1       0.50      0.40      0.45       156\n",
      "           2       0.42      0.46      0.44       138\n",
      "           3       0.76      0.77      0.76       136\n",
      "           4       0.46      0.60      0.52       130\n",
      "           5       0.55      0.56      0.56       172\n",
      "           6       0.67      0.59      0.63       148\n",
      "           7       0.44      0.49      0.46       147\n",
      "           8       0.46      0.50      0.48       165\n",
      "           9       0.42      0.36      0.39       155\n",
      "          10       0.46      0.41      0.43       153\n",
      "\n",
      "    accuracy                           0.51      1500\n",
      "   macro avg       0.51      0.51      0.51      1500\n",
      "weighted avg       0.51      0.51      0.51      1500\n",
      "\n"
     ]
    }
   ],
   "source": [
    "cat_boo(X_skb, y)"
   ]
  },
  {
   "cell_type": "markdown",
   "id": "84b3cf08",
   "metadata": {},
   "source": [
    "##### Рекурсивное исключение признаков (recursive feature elimination, RFE)"
   ]
  },
  {
   "cell_type": "code",
   "execution_count": 20,
   "id": "120e4035",
   "metadata": {
    "scrolled": false
   },
   "outputs": [
    {
     "name": "stderr",
     "output_type": "stream",
     "text": [
      "C:\\Users\\DELL\\anaconda3\\lib\\site-packages\\sklearn\\utils\\validation.py:70: FutureWarning: Pass n_features_to_select=5 as keyword args. From version 1.0 (renaming of 0.25) passing these as positional arguments will result in an error\n",
      "  warnings.warn(f\"Pass {args_msg} as keyword args. From version \"\n"
     ]
    },
    {
     "name": "stdout",
     "output_type": "stream",
     "text": [
      "5\n",
      "[ True False  True False False  True False False  True False  True False\n",
      " False]\n",
      "[1 3 1 5 4 1 9 8 1 6 1 7 2]\n"
     ]
    }
   ],
   "source": [
    "# feature extraction\n",
    "scaler = StandardScaler()\n",
    "scaler.fit(X)\n",
    "X_s = scaler.transform(X)\n",
    "\n",
    "model = LogisticRegression()\n",
    "rfe = RFE(model, 5)\n",
    "fit = rfe.fit(X_s, y)\n",
    "print(fit.n_features_)\n",
    "print(fit.support_)\n",
    "print(fit.ranking_)"
   ]
  },
  {
   "cell_type": "code",
   "execution_count": 21,
   "id": "63f44931",
   "metadata": {},
   "outputs": [],
   "source": [
    "# индексы наиболее важных признаков\n",
    "rfe = [0, 2, 5, 8, 10]"
   ]
  },
  {
   "cell_type": "code",
   "execution_count": 22,
   "id": "c031ff9e",
   "metadata": {},
   "outputs": [],
   "source": [
    "X_rfe = X.iloc[:, [0, 2, 5, 8, 10]]"
   ]
  },
  {
   "cell_type": "code",
   "execution_count": 23,
   "id": "dfd8c309",
   "metadata": {},
   "outputs": [
    {
     "data": {
      "text/html": [
       "<div>\n",
       "<style scoped>\n",
       "    .dataframe tbody tr th:only-of-type {\n",
       "        vertical-align: middle;\n",
       "    }\n",
       "\n",
       "    .dataframe tbody tr th {\n",
       "        vertical-align: top;\n",
       "    }\n",
       "\n",
       "    .dataframe thead th {\n",
       "        text-align: right;\n",
       "    }\n",
       "</style>\n",
       "<table border=\"1\" class=\"dataframe\">\n",
       "  <thead>\n",
       "    <tr style=\"text-align: right;\">\n",
       "      <th></th>\n",
       "      <th>popularity</th>\n",
       "      <th>danceability</th>\n",
       "      <th>instrumentalness</th>\n",
       "      <th>loudness</th>\n",
       "      <th>speechiness</th>\n",
       "    </tr>\n",
       "  </thead>\n",
       "  <tbody>\n",
       "    <tr>\n",
       "      <th>0</th>\n",
       "      <td>76.0</td>\n",
       "      <td>0.527</td>\n",
       "      <td>0.189000</td>\n",
       "      <td>-6.823</td>\n",
       "      <td>0.1760</td>\n",
       "    </tr>\n",
       "    <tr>\n",
       "      <th>1</th>\n",
       "      <td>54.0</td>\n",
       "      <td>0.816</td>\n",
       "      <td>0.005020</td>\n",
       "      <td>-9.014</td>\n",
       "      <td>0.1700</td>\n",
       "    </tr>\n",
       "    <tr>\n",
       "      <th>2</th>\n",
       "      <td>37.0</td>\n",
       "      <td>0.373</td>\n",
       "      <td>0.000000</td>\n",
       "      <td>-6.348</td>\n",
       "      <td>0.0467</td>\n",
       "    </tr>\n",
       "    <tr>\n",
       "      <th>3</th>\n",
       "      <td>41.0</td>\n",
       "      <td>0.370</td>\n",
       "      <td>0.001790</td>\n",
       "      <td>-17.107</td>\n",
       "      <td>0.0429</td>\n",
       "    </tr>\n",
       "    <tr>\n",
       "      <th>4</th>\n",
       "      <td>57.0</td>\n",
       "      <td>0.746</td>\n",
       "      <td>0.000009</td>\n",
       "      <td>-7.658</td>\n",
       "      <td>0.2680</td>\n",
       "    </tr>\n",
       "  </tbody>\n",
       "</table>\n",
       "</div>"
      ],
      "text/plain": [
       "   popularity  danceability  instrumentalness  loudness  speechiness\n",
       "0        76.0         0.527          0.189000    -6.823       0.1760\n",
       "1        54.0         0.816          0.005020    -9.014       0.1700\n",
       "2        37.0         0.373          0.000000    -6.348       0.0467\n",
       "3        41.0         0.370          0.001790   -17.107       0.0429\n",
       "4        57.0         0.746          0.000009    -7.658       0.2680"
      ]
     },
     "execution_count": 23,
     "metadata": {},
     "output_type": "execute_result"
    }
   ],
   "source": [
    "X_rfe.head()"
   ]
  },
  {
   "cell_type": "code",
   "execution_count": 24,
   "id": "31ae48c4",
   "metadata": {},
   "outputs": [
    {
     "name": "stdout",
     "output_type": "stream",
     "text": [
      "Fitting 3 folds for each of 12 candidates, totalling 36 fits\n",
      "[CV] END .....................clf__C=0.0001, clf__kernel=rbf; total time=   6.1s\n",
      "[CV] END .....................clf__C=0.0001, clf__kernel=rbf; total time=   6.4s\n",
      "[CV] END .....................clf__C=0.0001, clf__kernel=rbf; total time=   8.7s\n",
      "[CV] END ..................clf__C=0.0001, clf__kernel=linear; total time=   4.3s\n",
      "[CV] END ..................clf__C=0.0001, clf__kernel=linear; total time=   4.8s\n",
      "[CV] END ..................clf__C=0.0001, clf__kernel=linear; total time=   4.8s\n",
      "[CV] END ......................clf__C=0.001, clf__kernel=rbf; total time=   7.5s\n",
      "[CV] END ......................clf__C=0.001, clf__kernel=rbf; total time=   5.8s\n",
      "[CV] END ......................clf__C=0.001, clf__kernel=rbf; total time=   6.9s\n",
      "[CV] END ...................clf__C=0.001, clf__kernel=linear; total time=   2.7s\n",
      "[CV] END ...................clf__C=0.001, clf__kernel=linear; total time=   4.1s\n",
      "[CV] END ...................clf__C=0.001, clf__kernel=linear; total time=   3.4s\n",
      "[CV] END .......................clf__C=0.01, clf__kernel=rbf; total time=   5.7s\n",
      "[CV] END .......................clf__C=0.01, clf__kernel=rbf; total time=   4.0s\n",
      "[CV] END .......................clf__C=0.01, clf__kernel=rbf; total time=   5.2s\n",
      "[CV] END ....................clf__C=0.01, clf__kernel=linear; total time=   1.7s\n",
      "[CV] END ....................clf__C=0.01, clf__kernel=linear; total time=   2.2s\n",
      "[CV] END ....................clf__C=0.01, clf__kernel=linear; total time=   1.8s\n",
      "[CV] END ........................clf__C=0.1, clf__kernel=rbf; total time=   7.1s\n",
      "[CV] END ........................clf__C=0.1, clf__kernel=rbf; total time=   6.2s\n",
      "[CV] END ........................clf__C=0.1, clf__kernel=rbf; total time=   5.9s\n",
      "[CV] END .....................clf__C=0.1, clf__kernel=linear; total time=   2.0s\n",
      "[CV] END .....................clf__C=0.1, clf__kernel=linear; total time=   1.4s\n",
      "[CV] END .....................clf__C=0.1, clf__kernel=linear; total time=   1.7s\n",
      "[CV] END ........................clf__C=1.0, clf__kernel=rbf; total time=   2.7s\n",
      "[CV] END ........................clf__C=1.0, clf__kernel=rbf; total time=   2.4s\n",
      "[CV] END ........................clf__C=1.0, clf__kernel=rbf; total time=   2.3s\n",
      "[CV] END .....................clf__C=1.0, clf__kernel=linear; total time=   1.9s\n",
      "[CV] END .....................clf__C=1.0, clf__kernel=linear; total time=   1.7s\n",
      "[CV] END .....................clf__C=1.0, clf__kernel=linear; total time=   2.7s\n",
      "[CV] END .......................clf__C=10.0, clf__kernel=rbf; total time=   4.6s\n",
      "[CV] END .......................clf__C=10.0, clf__kernel=rbf; total time=   3.8s\n",
      "[CV] END .......................clf__C=10.0, clf__kernel=rbf; total time=   2.7s\n",
      "[CV] END ....................clf__C=10.0, clf__kernel=linear; total time=   1.8s\n",
      "[CV] END ....................clf__C=10.0, clf__kernel=linear; total time=   1.9s\n",
      "[CV] END ....................clf__C=10.0, clf__kernel=linear; total time=   1.7s\n",
      "0.5008544483492342\n",
      "{'mean_fit_time': array([4.35160478, 3.68197926, 4.32903155, 2.83965325, 3.18520554,\n",
      "       1.19786596, 3.09403602, 1.02984699, 1.10095064, 1.45267479,\n",
      "       1.93868645, 1.50344602]), 'std_fit_time': array([0.8993005 , 0.24583493, 0.53135824, 0.59243086, 0.59297516,\n",
      "       0.12860938, 0.07603776, 0.06915502, 0.09204316, 0.18188205,\n",
      "       0.44843163, 0.05499046]), 'mean_score_time': array([2.83142567, 1.01064626, 2.53312564, 0.65602668, 1.86221886,\n",
      "       0.79513518, 3.44866268, 0.76914946, 1.44864877, 0.73214841,\n",
      "       1.86462855, 0.39818239]), 'std_score_time': array([0.33860646, 0.06290891, 0.18761573, 0.03884938, 0.17532628,\n",
      "       0.11166821, 0.46373418, 0.16533832, 0.12605873, 0.25094377,\n",
      "       0.48520474, 0.0091141 ]), 'param_clf__C': masked_array(data=[0.0001, 0.0001, 0.001, 0.001, 0.01, 0.01, 0.1, 0.1,\n",
      "                   1.0, 1.0, 10.0, 10.0],\n",
      "             mask=[False, False, False, False, False, False, False, False,\n",
      "                   False, False, False, False],\n",
      "       fill_value='?',\n",
      "            dtype=object), 'param_clf__kernel': masked_array(data=['rbf', 'linear', 'rbf', 'linear', 'rbf', 'linear',\n",
      "                   'rbf', 'linear', 'rbf', 'linear', 'rbf', 'linear'],\n",
      "             mask=[False, False, False, False, False, False, False, False,\n",
      "                   False, False, False, False],\n",
      "       fill_value='?',\n",
      "            dtype=object), 'params': [{'clf__C': 0.0001, 'clf__kernel': 'rbf'}, {'clf__C': 0.0001, 'clf__kernel': 'linear'}, {'clf__C': 0.001, 'clf__kernel': 'rbf'}, {'clf__C': 0.001, 'clf__kernel': 'linear'}, {'clf__C': 0.01, 'clf__kernel': 'rbf'}, {'clf__C': 0.01, 'clf__kernel': 'linear'}, {'clf__C': 0.1, 'clf__kernel': 'rbf'}, {'clf__C': 0.1, 'clf__kernel': 'linear'}, {'clf__C': 1.0, 'clf__kernel': 'rbf'}, {'clf__C': 1.0, 'clf__kernel': 'linear'}, {'clf__C': 10.0, 'clf__kernel': 'rbf'}, {'clf__C': 10.0, 'clf__kernel': 'linear'}], 'split0_test_score': array([0.11568123, 0.11568123, 0.11568123, 0.26563839, 0.33761782,\n",
      "       0.45844045, 0.48843188, 0.46872322, 0.49357326, 0.47043702,\n",
      "       0.48843188, 0.47300771]), 'split1_test_score': array([0.11568123, 0.11568123, 0.11568123, 0.27506427, 0.34190231,\n",
      "       0.45329906, 0.479006  , 0.47557841, 0.51756641, 0.48243359,\n",
      "       0.51413882, 0.48414739]), 'split2_test_score': array([0.11578045, 0.11578045, 0.11578045, 0.27444254, 0.32332762,\n",
      "       0.4373928 , 0.45883362, 0.46826758, 0.49142367, 0.47598628,\n",
      "       0.49142367, 0.47512864]), 'mean_test_score': array([0.1157143 , 0.1157143 , 0.1157143 , 0.27171506, 0.33428258,\n",
      "       0.44971077, 0.47542383, 0.4708564 , 0.50085445, 0.47628563,\n",
      "       0.49799812, 0.47742791]), 'std_test_score': array([4.67690023e-05, 4.67690023e-05, 4.67690023e-05, 4.30434894e-03,\n",
      "       7.94135653e-03, 8.95945550e-03, 1.23460696e-02, 3.34413777e-03,\n",
      "       1.18496814e-02, 4.90215229e-03, 1.14783639e-02, 4.82963537e-03]), 'rank_test_score': array([10, 10, 10,  9,  8,  7,  5,  6,  1,  4,  2,  3])}\n",
      "[[ 60   0   0   3   6  16  20  17  11   8]\n",
      " [  0  23   0  29  88   0   0   3   0   3]\n",
      " [  0   0 114   0   0   9   7   4  13   2]\n",
      " [  4   5   1 117   8   1   0  14   2  13]\n",
      " [  4  19   0  18 111   0   0   6   0   6]\n",
      " [ 11   0  13   0   1  82  15   7   3   4]\n",
      " [ 15   0   2   7   0  11  82  24   6   5]\n",
      " [  3   1   0  23   2   3  13  88   4   6]\n",
      " [ 26   0   4   6  14   6  33  26  31   5]\n",
      " [  4   7   0  34  21   0   4  42   4  37]]\n",
      "              precision    recall  f1-score   support\n",
      "\n",
      "           1       0.47      0.43      0.45       141\n",
      "           2       0.42      0.16      0.23       146\n",
      "           3       0.85      0.77      0.81       149\n",
      "           4       0.49      0.71      0.58       165\n",
      "           5       0.44      0.68      0.53       164\n",
      "           6       0.64      0.60      0.62       136\n",
      "           7       0.47      0.54      0.50       152\n",
      "           8       0.38      0.62      0.47       143\n",
      "           9       0.42      0.21      0.28       151\n",
      "          10       0.42      0.24      0.31       153\n",
      "\n",
      "    accuracy                           0.50      1500\n",
      "   macro avg       0.50      0.49      0.48      1500\n",
      "weighted avg       0.50      0.50      0.48      1500\n",
      "\n"
     ]
    }
   ],
   "source": [
    "pipe_grid_svc(X_rfe, y)"
   ]
  },
  {
   "cell_type": "code",
   "execution_count": 25,
   "id": "f2d3a673",
   "metadata": {},
   "outputs": [
    {
     "name": "stdout",
     "output_type": "stream",
     "text": [
      "[[ 70   0   3   2   0   6  16   8  36   8]\n",
      " [  0  52   0  12  64   0   0   4   1   8]\n",
      " [  4   0 118   0   0   6   5   1   6   2]\n",
      " [  1   4   0  85   7   0   1  18   3  16]\n",
      " [  2  56   0   8  81   0   1   5   1   7]\n",
      " [ 14   0  12   0   0  93  18   3   2   5]\n",
      " [  8   1   4   4   2  16  70  14  20  10]\n",
      " [  1   3   0  30   5   5  13  83  21  20]\n",
      " [ 26   0  12   5   1   2  21  15  56   8]\n",
      " [  4  11   0  30  13   2   4  27  10  48]]\n",
      "              precision    recall  f1-score   support\n",
      "\n",
      "           1       0.54      0.47      0.50       149\n",
      "           2       0.41      0.37      0.39       141\n",
      "           3       0.79      0.83      0.81       142\n",
      "           4       0.48      0.63      0.55       135\n",
      "           5       0.47      0.50      0.49       161\n",
      "           6       0.72      0.63      0.67       147\n",
      "           7       0.47      0.47      0.47       149\n",
      "           8       0.47      0.46      0.46       181\n",
      "           9       0.36      0.38      0.37       146\n",
      "          10       0.36      0.32      0.34       149\n",
      "\n",
      "    accuracy                           0.50      1500\n",
      "   macro avg       0.51      0.51      0.50      1500\n",
      "weighted avg       0.50      0.50      0.50      1500\n",
      "\n"
     ]
    }
   ],
   "source": [
    "cat_boo(X_rfe, y)"
   ]
  },
  {
   "cell_type": "markdown",
   "id": "931b3ea9",
   "metadata": {},
   "source": [
    "##### Отбор на основе важности признаков (ExtraTreesClassifier)"
   ]
  },
  {
   "cell_type": "code",
   "execution_count": 26,
   "id": "2d1a3dbb",
   "metadata": {},
   "outputs": [
    {
     "name": "stdout",
     "output_type": "stream",
     "text": [
      "[0.15326256 0.08782352 0.09268602 0.06547848 0.08068753 0.09192268\n",
      " 0.05220557 0.05714365 0.07965995 0.01846845 0.08945481 0.06016855\n",
      " 0.07103823]\n"
     ]
    }
   ],
   "source": [
    "# feature extraction\n",
    "model = ExtraTreesClassifier()\n",
    "model.fit(X, y)\n",
    "print(model.feature_importances_)"
   ]
  },
  {
   "cell_type": "code",
   "execution_count": 27,
   "id": "f56b0001",
   "metadata": {},
   "outputs": [],
   "source": [
    "# индексы наиболее важных признаков\n",
    "etc = [0, 1, 2, 5, 10]"
   ]
  },
  {
   "cell_type": "code",
   "execution_count": 28,
   "id": "fda4a453",
   "metadata": {},
   "outputs": [],
   "source": [
    "X_etc = X.iloc[:, [0, 1, 2, 5, 10]]"
   ]
  },
  {
   "cell_type": "code",
   "execution_count": 29,
   "id": "d66cb856",
   "metadata": {},
   "outputs": [
    {
     "data": {
      "text/html": [
       "<div>\n",
       "<style scoped>\n",
       "    .dataframe tbody tr th:only-of-type {\n",
       "        vertical-align: middle;\n",
       "    }\n",
       "\n",
       "    .dataframe tbody tr th {\n",
       "        vertical-align: top;\n",
       "    }\n",
       "\n",
       "    .dataframe thead th {\n",
       "        text-align: right;\n",
       "    }\n",
       "</style>\n",
       "<table border=\"1\" class=\"dataframe\">\n",
       "  <thead>\n",
       "    <tr style=\"text-align: right;\">\n",
       "      <th></th>\n",
       "      <th>popularity</th>\n",
       "      <th>acousticness</th>\n",
       "      <th>danceability</th>\n",
       "      <th>instrumentalness</th>\n",
       "      <th>speechiness</th>\n",
       "    </tr>\n",
       "  </thead>\n",
       "  <tbody>\n",
       "    <tr>\n",
       "      <th>0</th>\n",
       "      <td>76.0</td>\n",
       "      <td>0.3770</td>\n",
       "      <td>0.527</td>\n",
       "      <td>0.189000</td>\n",
       "      <td>0.1760</td>\n",
       "    </tr>\n",
       "    <tr>\n",
       "      <th>1</th>\n",
       "      <td>54.0</td>\n",
       "      <td>0.0845</td>\n",
       "      <td>0.816</td>\n",
       "      <td>0.005020</td>\n",
       "      <td>0.1700</td>\n",
       "    </tr>\n",
       "    <tr>\n",
       "      <th>2</th>\n",
       "      <td>37.0</td>\n",
       "      <td>0.0704</td>\n",
       "      <td>0.373</td>\n",
       "      <td>0.000000</td>\n",
       "      <td>0.0467</td>\n",
       "    </tr>\n",
       "    <tr>\n",
       "      <th>3</th>\n",
       "      <td>41.0</td>\n",
       "      <td>0.1000</td>\n",
       "      <td>0.370</td>\n",
       "      <td>0.001790</td>\n",
       "      <td>0.0429</td>\n",
       "    </tr>\n",
       "    <tr>\n",
       "      <th>4</th>\n",
       "      <td>57.0</td>\n",
       "      <td>0.0427</td>\n",
       "      <td>0.746</td>\n",
       "      <td>0.000009</td>\n",
       "      <td>0.2680</td>\n",
       "    </tr>\n",
       "  </tbody>\n",
       "</table>\n",
       "</div>"
      ],
      "text/plain": [
       "   popularity  acousticness  danceability  instrumentalness  speechiness\n",
       "0        76.0        0.3770         0.527          0.189000       0.1760\n",
       "1        54.0        0.0845         0.816          0.005020       0.1700\n",
       "2        37.0        0.0704         0.373          0.000000       0.0467\n",
       "3        41.0        0.1000         0.370          0.001790       0.0429\n",
       "4        57.0        0.0427         0.746          0.000009       0.2680"
      ]
     },
     "execution_count": 29,
     "metadata": {},
     "output_type": "execute_result"
    }
   ],
   "source": [
    "X_etc.head()"
   ]
  },
  {
   "cell_type": "code",
   "execution_count": 30,
   "id": "c0ffb1bc",
   "metadata": {},
   "outputs": [
    {
     "name": "stdout",
     "output_type": "stream",
     "text": [
      "Fitting 3 folds for each of 12 candidates, totalling 36 fits\n",
      "[CV] END .....................clf__C=0.0001, clf__kernel=rbf; total time=   4.1s\n",
      "[CV] END .....................clf__C=0.0001, clf__kernel=rbf; total time=   3.4s\n",
      "[CV] END .....................clf__C=0.0001, clf__kernel=rbf; total time=   3.4s\n",
      "[CV] END ..................clf__C=0.0001, clf__kernel=linear; total time=   2.2s\n",
      "[CV] END ..................clf__C=0.0001, clf__kernel=linear; total time=   4.6s\n",
      "[CV] END ..................clf__C=0.0001, clf__kernel=linear; total time=   3.9s\n",
      "[CV] END ......................clf__C=0.001, clf__kernel=rbf; total time=   4.6s\n",
      "[CV] END ......................clf__C=0.001, clf__kernel=rbf; total time=   9.6s\n",
      "[CV] END ......................clf__C=0.001, clf__kernel=rbf; total time=   5.6s\n",
      "[CV] END ...................clf__C=0.001, clf__kernel=linear; total time=   2.6s\n",
      "[CV] END ...................clf__C=0.001, clf__kernel=linear; total time=   2.3s\n",
      "[CV] END ...................clf__C=0.001, clf__kernel=linear; total time=   2.4s\n",
      "[CV] END .......................clf__C=0.01, clf__kernel=rbf; total time=   4.1s\n",
      "[CV] END .......................clf__C=0.01, clf__kernel=rbf; total time=   4.1s\n",
      "[CV] END .......................clf__C=0.01, clf__kernel=rbf; total time=   4.1s\n",
      "[CV] END ....................clf__C=0.01, clf__kernel=linear; total time=   1.5s\n",
      "[CV] END ....................clf__C=0.01, clf__kernel=linear; total time=   1.4s\n",
      "[CV] END ....................clf__C=0.01, clf__kernel=linear; total time=   1.5s\n",
      "[CV] END ........................clf__C=0.1, clf__kernel=rbf; total time=   2.8s\n",
      "[CV] END ........................clf__C=0.1, clf__kernel=rbf; total time=   2.8s\n",
      "[CV] END ........................clf__C=0.1, clf__kernel=rbf; total time=   2.9s\n",
      "[CV] END .....................clf__C=0.1, clf__kernel=linear; total time=   1.2s\n",
      "[CV] END .....................clf__C=0.1, clf__kernel=linear; total time=   1.2s\n",
      "[CV] END .....................clf__C=0.1, clf__kernel=linear; total time=   1.2s\n",
      "[CV] END ........................clf__C=1.0, clf__kernel=rbf; total time=   2.4s\n",
      "[CV] END ........................clf__C=1.0, clf__kernel=rbf; total time=   2.5s\n",
      "[CV] END ........................clf__C=1.0, clf__kernel=rbf; total time=   2.4s\n",
      "[CV] END .....................clf__C=1.0, clf__kernel=linear; total time=   1.3s\n",
      "[CV] END .....................clf__C=1.0, clf__kernel=linear; total time=   1.3s\n",
      "[CV] END .....................clf__C=1.0, clf__kernel=linear; total time=   1.2s\n",
      "[CV] END .......................clf__C=10.0, clf__kernel=rbf; total time=   2.6s\n",
      "[CV] END .......................clf__C=10.0, clf__kernel=rbf; total time=   3.1s\n",
      "[CV] END .......................clf__C=10.0, clf__kernel=rbf; total time=   3.0s\n",
      "[CV] END ....................clf__C=10.0, clf__kernel=linear; total time=   2.3s\n",
      "[CV] END ....................clf__C=10.0, clf__kernel=linear; total time=   2.2s\n",
      "[CV] END ....................clf__C=10.0, clf__kernel=linear; total time=   2.4s\n",
      "0.5051364888150065\n",
      "{'mean_fit_time': array([2.42047167, 2.62859972, 3.96865845, 1.86681978, 2.59035921,\n",
      "       1.06475584, 1.4636476 , 0.83503803, 1.13763785, 0.93455784,\n",
      "       1.44962136, 1.86127305]), 'std_fit_time': array([0.31527976, 0.71214076, 1.59304295, 0.05524514, 0.01478559,\n",
      "       0.01982129, 0.02993152, 0.02256049, 0.02463298, 0.02253387,\n",
      "       0.22259941, 0.0106807 ]), 'mean_score_time': array([1.34219042, 1.01396553, 2.72314064, 0.6654795 , 1.61997088,\n",
      "       0.49155283, 1.48420111, 0.47478445, 1.36833262, 0.46011766,\n",
      "       1.53992049, 0.53870463]), 'std_score_time': array([0.03201038, 0.67027431, 0.62603764, 0.07636603, 0.04371269,\n",
      "       0.00568817, 0.02641142, 0.00329886, 0.01819021, 0.01757351,\n",
      "       0.19431919, 0.04917273]), 'param_clf__C': masked_array(data=[0.0001, 0.0001, 0.001, 0.001, 0.01, 0.01, 0.1, 0.1,\n",
      "                   1.0, 1.0, 10.0, 10.0],\n",
      "             mask=[False, False, False, False, False, False, False, False,\n",
      "                   False, False, False, False],\n",
      "       fill_value='?',\n",
      "            dtype=object), 'param_clf__kernel': masked_array(data=['rbf', 'linear', 'rbf', 'linear', 'rbf', 'linear',\n",
      "                   'rbf', 'linear', 'rbf', 'linear', 'rbf', 'linear'],\n",
      "             mask=[False, False, False, False, False, False, False, False,\n",
      "                   False, False, False, False],\n",
      "       fill_value='?',\n",
      "            dtype=object), 'params': [{'clf__C': 0.0001, 'clf__kernel': 'rbf'}, {'clf__C': 0.0001, 'clf__kernel': 'linear'}, {'clf__C': 0.001, 'clf__kernel': 'rbf'}, {'clf__C': 0.001, 'clf__kernel': 'linear'}, {'clf__C': 0.01, 'clf__kernel': 'rbf'}, {'clf__C': 0.01, 'clf__kernel': 'linear'}, {'clf__C': 0.1, 'clf__kernel': 'rbf'}, {'clf__C': 0.1, 'clf__kernel': 'linear'}, {'clf__C': 1.0, 'clf__kernel': 'rbf'}, {'clf__C': 1.0, 'clf__kernel': 'linear'}, {'clf__C': 10.0, 'clf__kernel': 'rbf'}, {'clf__C': 10.0, 'clf__kernel': 'linear'}], 'split0_test_score': array([0.11139674, 0.11139674, 0.11139674, 0.26649529, 0.31105398,\n",
      "       0.45929734, 0.48329049, 0.48329049, 0.51071123, 0.49185947,\n",
      "       0.51670951, 0.49185947]), 'split1_test_score': array([0.11139674, 0.11139674, 0.11139674, 0.28020566, 0.31705227,\n",
      "       0.46958012, 0.49528706, 0.47557841, 0.50985433, 0.4798629 ,\n",
      "       0.51585261, 0.48243359]), 'split2_test_score': array([0.11149228, 0.11149228, 0.11149228, 0.2761578 , 0.31818182,\n",
      "       0.44596913, 0.47341338, 0.47855918, 0.48370497, 0.47941681,\n",
      "       0.48284734, 0.47598628]), 'mean_test_score': array([0.11142859, 0.11142859, 0.11142859, 0.27428625, 0.31542936,\n",
      "       0.4582822 , 0.48399698, 0.47914269, 0.50142351, 0.48371306,\n",
      "       0.50513649, 0.48342645]), 'std_test_score': array([4.50368170e-05, 4.50368170e-05, 4.50368170e-05, 5.75155577e-03,\n",
      "       3.12803322e-03, 9.66583886e-03, 8.94385570e-03, 3.17536554e-03,\n",
      "       1.25337790e-02, 5.76326016e-03, 1.57646892e-02, 6.51812182e-03]), 'rank_test_score': array([10, 10, 10,  9,  8,  7,  3,  6,  2,  4,  1,  5])}\n",
      "[[ 74   0   1   5   5  13  16  11  17  10]\n",
      " [  1  39   0  30  68   0   0   2   0   5]\n",
      " [  4   0  88   0   0   4   3   0  10   2]\n",
      " [  2   7   1 107   6   0   0   8   4  16]\n",
      " [  1  38   0  19  88   0   0   5   1   5]\n",
      " [  9   0  17   0   0  93  20   9   0   6]\n",
      " [ 13   0   5   6   1   6  76  31  13  11]\n",
      " [  2   0   0  37   2   0   5 101  10  15]\n",
      " [ 24   1  12  10   5   2  14  27  38   9]\n",
      " [  6   7   0  36  26   0   1  35   3  40]]\n",
      "              precision    recall  f1-score   support\n",
      "\n",
      "           1       0.54      0.49      0.51       152\n",
      "           2       0.42      0.27      0.33       145\n",
      "           3       0.71      0.79      0.75       111\n",
      "           4       0.43      0.71      0.53       151\n",
      "           5       0.44      0.56      0.49       157\n",
      "           6       0.79      0.60      0.68       154\n",
      "           7       0.56      0.47      0.51       162\n",
      "           8       0.44      0.59      0.50       172\n",
      "           9       0.40      0.27      0.32       142\n",
      "          10       0.34      0.26      0.29       154\n",
      "\n",
      "    accuracy                           0.50      1500\n",
      "   macro avg       0.51      0.50      0.49      1500\n",
      "weighted avg       0.50      0.50      0.49      1500\n",
      "\n"
     ]
    }
   ],
   "source": [
    "pipe_grid_svc(X_etc, y)"
   ]
  },
  {
   "cell_type": "code",
   "execution_count": 31,
   "id": "5cb032db",
   "metadata": {},
   "outputs": [
    {
     "name": "stdout",
     "output_type": "stream",
     "text": [
      "[[ 76   1   2   2   3   6  14   6  20   8]\n",
      " [  4  53   0  17  73   1   0   0   0   4]\n",
      " [  1   0 107   0   0   9   7   1   8   3]\n",
      " [  0  12   0  86   6   0   1   9   5  13]\n",
      " [  1  58   0  15  84   0   0   7   1   5]\n",
      " [ 14   0  14   1   0  91  16   8   2   3]\n",
      " [ 17   1   5   7   1  14  62  21  14   9]\n",
      " [  3   5   1  33   3   1  12  87   8  13]\n",
      " [ 24   0   7   9   2   3  32  12  45   9]\n",
      " [ 10   6   0  25  17   0   8  23  10  63]]\n",
      "              precision    recall  f1-score   support\n",
      "\n",
      "           1       0.51      0.55      0.53       138\n",
      "           2       0.39      0.35      0.37       152\n",
      "           3       0.79      0.79      0.79       136\n",
      "           4       0.44      0.65      0.53       132\n",
      "           5       0.44      0.49      0.47       171\n",
      "           6       0.73      0.61      0.66       149\n",
      "           7       0.41      0.41      0.41       151\n",
      "           8       0.50      0.52      0.51       166\n",
      "           9       0.40      0.31      0.35       143\n",
      "          10       0.48      0.39      0.43       162\n",
      "\n",
      "    accuracy                           0.50      1500\n",
      "   macro avg       0.51      0.51      0.50      1500\n",
      "weighted avg       0.51      0.50      0.50      1500\n",
      "\n"
     ]
    }
   ],
   "source": [
    "cat_boo(X_etc, y)"
   ]
  },
  {
   "cell_type": "markdown",
   "id": "4d36972a",
   "metadata": {},
   "source": [
    "### Понижение размерности"
   ]
  },
  {
   "cell_type": "markdown",
   "id": "e921cb75",
   "metadata": {},
   "source": [
    "##### Метод главных компонент (principal component analysis, PCA)"
   ]
  },
  {
   "cell_type": "code",
   "execution_count": 19,
   "id": "4da5b0f3",
   "metadata": {},
   "outputs": [
    {
     "name": "stdout",
     "output_type": "stream",
     "text": [
      "Explained Variance: [9.99999772e-01 1.70492521e-07 4.88052575e-08 6.18726737e-09\n",
      " 2.52507328e-09]\n",
      "[[-5.24786827e+04  5.82305051e+01  2.91827810e+01  4.75954839e+00\n",
      "   9.54959285e-01]\n",
      " [-2.39706827e+04 -1.71513533e+01  9.71175968e+00  2.92226459e-01\n",
      "   5.85943296e+00]\n",
      " [-6.87868240e+03  1.52237829e+01 -7.59515925e+00 -2.83565674e+00\n",
      "  -3.29500485e+00]\n",
      " [ 1.14414317e+05 -1.03189734e+00 -3.35144584e+00  7.65008138e+00\n",
      "   2.01019835e+00]\n",
      " [-8.66746827e+04 -5.47324231e-01  1.17081658e+01  7.21789372e-02\n",
      "   4.87327414e+00]]\n"
     ]
    }
   ],
   "source": [
    "from sklearn.decomposition import PCA\n",
    "\n",
    "# feature extraction\n",
    "pca = PCA(n_components=5)\n",
    "fit = pca.fit(X)\n",
    "features = fit.transform(X)\n",
    "\n",
    "# summarize components\n",
    "print(f'Explained Variance: {fit.explained_variance_ratio_}')\n",
    "print(features[0:5,:])"
   ]
  },
  {
   "cell_type": "code",
   "execution_count": 38,
   "id": "47a5e268",
   "metadata": {},
   "outputs": [
    {
     "name": "stdout",
     "output_type": "stream",
     "text": [
      "Fitting 3 folds for each of 12 candidates, totalling 36 fits\n",
      "[CV] END .....................clf__C=0.0001, clf__kernel=rbf; total time=   4.3s\n",
      "[CV] END .....................clf__C=0.0001, clf__kernel=rbf; total time=   4.2s\n",
      "[CV] END .....................clf__C=0.0001, clf__kernel=rbf; total time=   4.3s\n",
      "[CV] END ..................clf__C=0.0001, clf__kernel=linear; total time=   2.0s\n",
      "[CV] END ..................clf__C=0.0001, clf__kernel=linear; total time=   2.6s\n",
      "[CV] END ..................clf__C=0.0001, clf__kernel=linear; total time=   2.2s\n",
      "[CV] END ......................clf__C=0.001, clf__kernel=rbf; total time=   4.1s\n",
      "[CV] END ......................clf__C=0.001, clf__kernel=rbf; total time=   4.3s\n",
      "[CV] END ......................clf__C=0.001, clf__kernel=rbf; total time=   4.1s\n",
      "[CV] END ...................clf__C=0.001, clf__kernel=linear; total time=   2.2s\n",
      "[CV] END ...................clf__C=0.001, clf__kernel=linear; total time=   2.2s\n",
      "[CV] END ...................clf__C=0.001, clf__kernel=linear; total time=   2.2s\n",
      "[CV] END .......................clf__C=0.01, clf__kernel=rbf; total time=   4.2s\n",
      "[CV] END .......................clf__C=0.01, clf__kernel=rbf; total time=   4.4s\n",
      "[CV] END .......................clf__C=0.01, clf__kernel=rbf; total time=   4.8s\n",
      "[CV] END ....................clf__C=0.01, clf__kernel=linear; total time=   2.3s\n",
      "[CV] END ....................clf__C=0.01, clf__kernel=linear; total time=   1.9s\n",
      "[CV] END ....................clf__C=0.01, clf__kernel=linear; total time=   2.0s\n",
      "[CV] END ........................clf__C=0.1, clf__kernel=rbf; total time=   3.4s\n",
      "[CV] END ........................clf__C=0.1, clf__kernel=rbf; total time=   3.5s\n",
      "[CV] END ........................clf__C=0.1, clf__kernel=rbf; total time=   3.4s\n",
      "[CV] END .....................clf__C=0.1, clf__kernel=linear; total time=   1.5s\n",
      "[CV] END .....................clf__C=0.1, clf__kernel=linear; total time=   1.5s\n",
      "[CV] END .....................clf__C=0.1, clf__kernel=linear; total time=   1.5s\n",
      "[CV] END ........................clf__C=1.0, clf__kernel=rbf; total time=   3.0s\n",
      "[CV] END ........................clf__C=1.0, clf__kernel=rbf; total time=   2.9s\n",
      "[CV] END ........................clf__C=1.0, clf__kernel=rbf; total time=   2.9s\n",
      "[CV] END .....................clf__C=1.0, clf__kernel=linear; total time=   1.6s\n",
      "[CV] END .....................clf__C=1.0, clf__kernel=linear; total time=   1.6s\n",
      "[CV] END .....................clf__C=1.0, clf__kernel=linear; total time=   1.6s\n",
      "[CV] END .......................clf__C=10.0, clf__kernel=rbf; total time=   3.1s\n",
      "[CV] END .......................clf__C=10.0, clf__kernel=rbf; total time=   3.2s\n",
      "[CV] END .......................clf__C=10.0, clf__kernel=rbf; total time=   3.3s\n",
      "[CV] END ....................clf__C=10.0, clf__kernel=linear; total time=   3.0s\n",
      "[CV] END ....................clf__C=10.0, clf__kernel=linear; total time=   3.2s\n",
      "[CV] END ....................clf__C=10.0, clf__kernel=linear; total time=   3.1s\n",
      "0.3685658544997925\n",
      "{'mean_fit_time': array([2.6656793 , 1.80512714, 2.60853942, 1.75928148, 2.75872946,\n",
      "       1.57247814, 1.97851245, 1.07360744, 1.52806099, 1.21398846,\n",
      "       1.76078486, 2.67851853]), 'std_fit_time': array([0.03956874, 0.09678575, 0.03635244, 0.01212162, 0.08626034,\n",
      "       0.12983501, 0.04474361, 0.01721531, 0.02793317, 0.03117587,\n",
      "       0.12574064, 0.06559997]), 'mean_score_time': array([1.68362506, 0.57494903, 1.64575942, 0.53415068, 1.80056643,\n",
      "       0.56181049, 1.53925983, 0.50114052, 1.48854772, 0.48180381,\n",
      "       1.5381976 , 0.51996994]), 'std_score_time': array([0.06100341, 0.12047421, 0.07026538, 0.00979872, 0.22753623,\n",
      "       0.05276551, 0.02477731, 0.01106808, 0.02764145, 0.00755217,\n",
      "       0.05303839, 0.04793177]), 'param_clf__C': masked_array(data=[0.0001, 0.0001, 0.001, 0.001, 0.01, 0.01, 0.1, 0.1,\n",
      "                   1.0, 1.0, 10.0, 10.0],\n",
      "             mask=[False, False, False, False, False, False, False, False,\n",
      "                   False, False, False, False],\n",
      "       fill_value='?',\n",
      "            dtype=object), 'param_clf__kernel': masked_array(data=['rbf', 'linear', 'rbf', 'linear', 'rbf', 'linear',\n",
      "                   'rbf', 'linear', 'rbf', 'linear', 'rbf', 'linear'],\n",
      "             mask=[False, False, False, False, False, False, False, False,\n",
      "                   False, False, False, False],\n",
      "       fill_value='?',\n",
      "            dtype=object), 'params': [{'clf__C': 0.0001, 'clf__kernel': 'rbf'}, {'clf__C': 0.0001, 'clf__kernel': 'linear'}, {'clf__C': 0.001, 'clf__kernel': 'rbf'}, {'clf__C': 0.001, 'clf__kernel': 'linear'}, {'clf__C': 0.01, 'clf__kernel': 'rbf'}, {'clf__C': 0.01, 'clf__kernel': 'linear'}, {'clf__C': 0.1, 'clf__kernel': 'rbf'}, {'clf__C': 0.1, 'clf__kernel': 'linear'}, {'clf__C': 1.0, 'clf__kernel': 'rbf'}, {'clf__C': 1.0, 'clf__kernel': 'linear'}, {'clf__C': 10.0, 'clf__kernel': 'rbf'}, {'clf__C': 10.0, 'clf__kernel': 'linear'}], 'split0_test_score': array([0.10882605, 0.10882605, 0.10882605, 0.20479863, 0.11225364,\n",
      "       0.36503856, 0.37446444, 0.35389889, 0.38646101, 0.3470437 ,\n",
      "       0.35646958, 0.3496144 ]), 'split1_test_score': array([0.10882605, 0.10882605, 0.10882605, 0.20994002, 0.10968295,\n",
      "       0.35561268, 0.35732648, 0.36161097, 0.37017995, 0.36503856,\n",
      "       0.36503856, 0.36418166]), 'split2_test_score': array([0.10891938, 0.10891938, 0.10891938, 0.2161235 , 0.11149228,\n",
      "       0.34133791, 0.35334477, 0.35763293, 0.3490566 , 0.35506003,\n",
      "       0.34048027, 0.36020583]), 'mean_test_score': array([0.10885716, 0.10885716, 0.10885716, 0.21028738, 0.11114296,\n",
      "       0.35399638, 0.3617119 , 0.35771426, 0.36856585, 0.3557141 ,\n",
      "       0.35399614, 0.35800063]), 'std_test_score': array([4.39975058e-05, 4.39975058e-05, 4.39975058e-05, 4.62987889e-03,\n",
      "       1.07815820e-03, 9.74301647e-03, 9.16275176e-03, 3.14896957e-03,\n",
      "       1.53128791e-02, 7.36091409e-03, 1.01772881e-02, 6.14808912e-03]), 'rank_test_score': array([10, 10, 10,  8,  9,  6,  2,  4,  1,  5,  7,  3])}\n",
      "[[45  0  2  3  5 16 23 15 25 13]\n",
      " [ 1 21  0 66 51  0  1  3  2 17]\n",
      " [ 6  0 99  1  0 12 12  6  4  3]\n",
      " [ 4 15  0 60 37  0  0  2  2 11]\n",
      " [ 2 22  0 44 62  0  0  8  4 24]\n",
      " [11  0 14  1  0 85 20  4  6  3]\n",
      " [28  0  8  6  1 16 51 12 16 11]\n",
      " [19  8  0 19 18  2  6 50 20 32]\n",
      " [18  0 12  8  6  3 12 15 51 10]\n",
      " [ 4  1  0 17 29  1  2 49 10 36]]\n",
      "              precision    recall  f1-score   support\n",
      "\n",
      "           1       0.33      0.31      0.32       147\n",
      "           2       0.31      0.13      0.18       162\n",
      "           3       0.73      0.69      0.71       143\n",
      "           4       0.27      0.46      0.34       131\n",
      "           5       0.30      0.37      0.33       166\n",
      "           6       0.63      0.59      0.61       144\n",
      "           7       0.40      0.34      0.37       149\n",
      "           8       0.30      0.29      0.30       174\n",
      "           9       0.36      0.38      0.37       135\n",
      "          10       0.23      0.24      0.23       149\n",
      "\n",
      "    accuracy                           0.37      1500\n",
      "   macro avg       0.39      0.38      0.38      1500\n",
      "weighted avg       0.38      0.37      0.37      1500\n",
      "\n"
     ]
    }
   ],
   "source": [
    "pipe_grid_svc(features[:,:], y)"
   ]
  },
  {
   "cell_type": "code",
   "execution_count": 39,
   "id": "20d45767",
   "metadata": {},
   "outputs": [
    {
     "name": "stdout",
     "output_type": "stream",
     "text": [
      "[[ 38   7   4   4   0  19  29  13  15  19]\n",
      " [  3  40   0  28  54   0   0   3   1  13]\n",
      " [  4   0 106   2   0   6   9   4  12   1]\n",
      " [  4  37   0  51  47   0   0   7   4   9]\n",
      " [  2  42   0  32  44   0   2   6   8  15]\n",
      " [ 10   0  19   0   1  93  17   3   4   4]\n",
      " [ 30   2   5   6   1  25  41  12  13   5]\n",
      " [  8   9   1  18  17   2  11  54  12  27]\n",
      " [ 17   2   9   5   6   6  15  19  55  11]\n",
      " [  7  12   0  28  25   2   2  36  14  35]]\n",
      "              precision    recall  f1-score   support\n",
      "\n",
      "           1       0.31      0.26      0.28       148\n",
      "           2       0.26      0.28      0.27       142\n",
      "           3       0.74      0.74      0.74       144\n",
      "           4       0.29      0.32      0.31       159\n",
      "           5       0.23      0.29      0.25       151\n",
      "           6       0.61      0.62      0.61       151\n",
      "           7       0.33      0.29      0.31       140\n",
      "           8       0.34      0.34      0.34       159\n",
      "           9       0.40      0.38      0.39       145\n",
      "          10       0.25      0.22      0.23       161\n",
      "\n",
      "    accuracy                           0.37      1500\n",
      "   macro avg       0.38      0.37      0.37      1500\n",
      "weighted avg       0.37      0.37      0.37      1500\n",
      "\n"
     ]
    }
   ],
   "source": [
    "cat_boo(features[:,:], y)"
   ]
  },
  {
   "cell_type": "markdown",
   "id": "f7900778",
   "metadata": {},
   "source": [
    "Отбор признаков до 5 самых важных, не улучшил качество моделей. Это произошло в силу множества причин:\n",
    "1. Прикладная область — музыка. Даже человек легко путает жанры «Хип-хоп» и «Рэп».\n",
    "2. Понижение количества признаков в данном случае, скорее уменьшает кол-во «полезных» данных, чем избавляет от шума.\n",
    "3. Такому кол-ву признаков не хватает данных, чтобы восстановить зависимости классов."
   ]
  },
  {
   "cell_type": "markdown",
   "id": "e6b8bdf9",
   "metadata": {},
   "source": [
    "# Task 2"
   ]
  },
  {
   "cell_type": "markdown",
   "id": "8f66207a",
   "metadata": {},
   "source": [
    "1. Ознакомиться: [Кластеризация](https://www.notion.so/17e92c0840544e5c8f8576c5e87a23e7) \n",
    "2. Применить методы кластеризации для датасета классификации \n",
    "3. Оценить качество кластеризации (2 внешних и 2 внутренних)"
   ]
  },
  {
   "cell_type": "markdown",
   "id": "080f4ae6",
   "metadata": {},
   "source": [
    "### Метод k-средних"
   ]
  },
  {
   "cell_type": "code",
   "execution_count": 147,
   "id": "261a681f",
   "metadata": {},
   "outputs": [],
   "source": [
    "# Импортируем библиотеки\n",
    "from sklearn.cluster import KMeans\n",
    "\n",
    "# Описываем модель\n",
    "model = KMeans(n_clusters=10)\n",
    "\n",
    "# Проводим моделирование\n",
    "model.fit(X)\n",
    "\n",
    "y_pred = model.predict(X)"
   ]
  },
  {
   "cell_type": "code",
   "execution_count": 158,
   "id": "8a6537f1",
   "metadata": {},
   "outputs": [],
   "source": [
    "from sklearn import metrics"
   ]
  },
  {
   "cell_type": "code",
   "execution_count": 160,
   "id": "a478ab56",
   "metadata": {},
   "outputs": [
    {
     "data": {
      "text/plain": [
       "0.786674374874975"
      ]
     },
     "execution_count": 160,
     "metadata": {},
     "output_type": "execute_result"
    }
   ],
   "source": [
    "metrics.rand_score(y, y_pred)"
   ]
  },
  {
   "cell_type": "code",
   "execution_count": 161,
   "id": "cf17b604",
   "metadata": {},
   "outputs": [
    {
     "data": {
      "text/plain": [
       "0.5534384743290335"
      ]
     },
     "execution_count": 161,
     "metadata": {},
     "output_type": "execute_result"
    }
   ],
   "source": [
    "labels = model.labels_\n",
    "metrics.silhouette_score(X, labels, metric='euclidean')"
   ]
  },
  {
   "cell_type": "code",
   "execution_count": 151,
   "id": "379d2a88",
   "metadata": {},
   "outputs": [
    {
     "data": {
      "text/plain": [
       "0.036121204277429576"
      ]
     },
     "execution_count": 151,
     "metadata": {},
     "output_type": "execute_result"
    }
   ],
   "source": [
    "metrics.homogeneity_score(y, y_pred)"
   ]
  },
  {
   "cell_type": "code",
   "execution_count": 152,
   "id": "5ceddfe8",
   "metadata": {},
   "outputs": [
    {
     "data": {
      "text/plain": [
       "0.03988969970702874"
      ]
     },
     "execution_count": 152,
     "metadata": {},
     "output_type": "execute_result"
    }
   ],
   "source": [
    "metrics.completeness_score(y, y_pred)"
   ]
  },
  {
   "cell_type": "code",
   "execution_count": 153,
   "id": "873563d7",
   "metadata": {},
   "outputs": [
    {
     "data": {
      "text/plain": [
       "0.037912034093885175"
      ]
     },
     "execution_count": 153,
     "metadata": {},
     "output_type": "execute_result"
    }
   ],
   "source": [
    "metrics.v_measure_score(y, y_pred)"
   ]
  },
  {
   "cell_type": "markdown",
   "id": "95b0cb8e",
   "metadata": {},
   "source": [
    "### Иерархическая кластеризация"
   ]
  },
  {
   "cell_type": "code",
   "execution_count": 57,
   "id": "39a781fa",
   "metadata": {},
   "outputs": [
    {
     "data": {
      "image/png": "[encoded data removed]",
      "text/plain": [
       "<Figure size 432x288 with 1 Axes>"
      ]
     },
     "metadata": {
      "needs_background": "light"
     },
     "output_type": "display_data"
    }
   ],
   "source": [
    "from scipy.cluster.hierarchy import linkage, dendrogram\n",
    "import matplotlib.pyplot as plt\n",
    "\n",
    "varieties = y.values\n",
    "\n",
    "samples = X.values\n",
    "\n",
    "mergings = linkage(samples, method='complete')\n",
    "\n",
    "dendrogram(mergings,\n",
    "           labels=varieties,\n",
    "           leaf_rotation=90,\n",
    "           leaf_font_size=6,\n",
    "           )\n",
    "\n",
    "plt.show()"
   ]
  },
  {
   "cell_type": "markdown",
   "id": "7f574d42",
   "metadata": {},
   "source": [
    "### t-SNE"
   ]
  },
  {
   "cell_type": "code",
   "execution_count": 195,
   "id": "8d0fb527",
   "metadata": {},
   "outputs": [],
   "source": [
    "labels_true = y[:5000]\n",
    "Xx = StandardScaler().fit_transform(X[:5000])\n",
    "n_components = 3\n",
    "pca = PCA(n_components=n_components).fit(Xx)\n",
    "pca_2d = pca.transform(Xx)\n",
    "if n_components == 2: plt.scatter(pca_2d[:,0], pca_2d[:,1], c=labels_true)"
   ]
  },
  {
   "cell_type": "code",
   "execution_count": 196,
   "id": "e85e67ae",
   "metadata": {},
   "outputs": [
    {
     "data": {
      "image/png": "[encoded data removed]",
      "text/plain": [
       "<Figure size 432x288 with 1 Axes>"
      ]
     },
     "metadata": {
      "needs_background": "light"
     },
     "output_type": "display_data"
    }
   ],
   "source": [
    "# Импорт библиотек\n",
    "from sklearn.manifold import TSNE\n",
    "import matplotlib.pyplot as plt\n",
    "\n",
    "# Определяем модель и скорость обучения\n",
    "model = TSNE()\n",
    "\n",
    "# Обучаем модель\n",
    "transformed = model.fit_transform(pca_2d)\n",
    "\n",
    "# Представляем результат в двумерных координатах\n",
    "x_axis = transformed[:, 0]\n",
    "y_axis = transformed[:, 1]\n",
    "\n",
    "plt.scatter(x_axis, y_axis, c=y[:5000])\n",
    "plt.show()"
   ]
  },
  {
   "cell_type": "code",
   "execution_count": 197,
   "id": "1c3b86a4",
   "metadata": {},
   "outputs": [
    {
     "name": "stdout",
     "output_type": "stream",
     "text": [
      "[[ 23  11   4  11   6  30  14  19  16  22]\n",
      " [  7  25   0   6  77   2   9   9   3   9]\n",
      " [  2   0 117   0   0   4   4   1  11   1]\n",
      " [ 15  13   1  17  21  18  20  25  11  21]\n",
      " [  7  43   0  12  64   2   2  11   4   4]\n",
      " [ 12   1  27   4   0  47  20  20  11  13]\n",
      " [ 16   2   4   7   4  16  19  21  27  15]\n",
      " [ 15   6   1  22   8  11  22  49  21  13]\n",
      " [ 18   9  18   5  11  14  14  15  37   3]\n",
      " [ 14  14   0  13  15  23  10  26   7  26]]\n",
      "              precision    recall  f1-score   support\n",
      "\n",
      "           1       0.18      0.15      0.16       156\n",
      "           2       0.20      0.17      0.18       147\n",
      "           3       0.68      0.84      0.75       140\n",
      "           4       0.18      0.10      0.13       162\n",
      "           5       0.31      0.43      0.36       149\n",
      "           6       0.28      0.30      0.29       155\n",
      "           7       0.14      0.15      0.14       131\n",
      "           8       0.25      0.29      0.27       168\n",
      "           9       0.25      0.26      0.25       144\n",
      "          10       0.20      0.18      0.19       148\n",
      "\n",
      "    accuracy                           0.28      1500\n",
      "   macro avg       0.27      0.29      0.27      1500\n",
      "weighted avg       0.27      0.28      0.27      1500\n",
      "\n"
     ]
    }
   ],
   "source": [
    "cat_boo(transformed, y[:5000])"
   ]
  },
  {
   "cell_type": "markdown",
   "id": "0ee9f8ec",
   "metadata": {},
   "source": [
    "### DBSCAN"
   ]
  },
  {
   "cell_type": "code",
   "execution_count": 181,
   "id": "7f04232a",
   "metadata": {},
   "outputs": [
    {
     "name": "stdout",
     "output_type": "stream",
     "text": [
      "Estimated number of clusters: 1\n",
      "Estimated number of noise points: 104\n",
      "Homogeneity: 0.029\n",
      "Completeness: 0.331\n",
      "V-measure: 0.054\n",
      "Adjusted Rand Index: 0.007\n",
      "Adjusted Mutual Information: 0.052\n"
     ]
    },
    {
     "data": {
      "image/png": "[encoded data removed]",
      "text/plain": [
       "<Figure size 432x288 with 1 Axes>"
      ]
     },
     "metadata": {
      "needs_background": "light"
     },
     "output_type": "display_data"
    }
   ],
   "source": [
    "import numpy as np\n",
    "\n",
    "from sklearn.cluster import DBSCAN\n",
    "from sklearn import metrics\n",
    "from sklearn.preprocessing import StandardScaler\n",
    "\n",
    "labels_true = y[:2000]\n",
    "\n",
    "Xx = StandardScaler().fit_transform(X[:2000])\n",
    "pca = PCA(n_components=2).fit(Xx)\n",
    "pca_2d = pca.transform(Xx)\n",
    "# #############################################################################\n",
    "# Compute DBSCAN\n",
    "db = DBSCAN(eps=3.6, min_samples=170).fit(Xx)\n",
    "core_samples_mask = np.zeros_like(db.labels_, dtype=bool)\n",
    "core_samples_mask[db.core_sample_indices_] = True\n",
    "labels = db.labels_\n",
    "\n",
    "# Number of clusters in labels, ignoring noise if present.\n",
    "n_clusters_ = len(set(labels)) - (1 if -1 in labels else 0)\n",
    "n_noise_ = list(labels).count(-1)\n",
    "\n",
    "print(\"Estimated number of clusters: %d\" % n_clusters_)\n",
    "print(\"Estimated number of noise points: %d\" % n_noise_)\n",
    "print(\"Homogeneity: %0.3f\" % metrics.homogeneity_score(labels_true, labels))\n",
    "print(\"Completeness: %0.3f\" % metrics.completeness_score(labels_true, labels))\n",
    "print(\"V-measure: %0.3f\" % metrics.v_measure_score(labels_true, labels))\n",
    "print(\"Adjusted Rand Index: %0.3f\" % metrics.adjusted_rand_score(labels_true, labels))\n",
    "print(\n",
    "    \"Adjusted Mutual Information: %0.3f\"\n",
    "    % metrics.adjusted_mutual_info_score(labels_true, labels)\n",
    ")\n",
    "\n",
    "# Plot result\n",
    "import matplotlib.pyplot as plt\n",
    "\n",
    "# Black removed and is used for noise instead.\n",
    "unique_labels = set(labels)\n",
    "colors = [plt.cm.Spectral(each) for each in np.linspace(0, 1, len(unique_labels))]\n",
    "for k, col in zip(unique_labels, colors):\n",
    "    if k == -1:\n",
    "        # Black used for noise.\n",
    "        col = [0, 0, 0, 1]\n",
    "\n",
    "    class_member_mask = labels == k\n",
    "\n",
    "    xy = Xx[class_member_mask & core_samples_mask]\n",
    "    plt.plot(\n",
    "        xy[:, 0],\n",
    "        xy[:, 1],\n",
    "        \"o\",\n",
    "        markerfacecolor=tuple(col),\n",
    "        markeredgecolor=\"k\",\n",
    "        markersize=14,\n",
    "    )\n",
    "\n",
    "    xy = Xx[class_member_mask & ~core_samples_mask]\n",
    "    plt.plot(\n",
    "        xy[:, 0],\n",
    "        xy[:, 1],\n",
    "        \"o\",\n",
    "        markerfacecolor=tuple(col),\n",
    "        markeredgecolor=\"k\",\n",
    "        markersize=6,\n",
    "    )\n",
    "\n",
    "plt.title(\"Estimated number of clusters: %d\" % n_clusters_)\n",
    "plt.show()"
   ]
  },
  {
   "cell_type": "code",
   "execution_count": null,
   "id": "e09fa33a",
   "metadata": {},
   "outputs": [],
   "source": []
  }
 ],
 "metadata": {
  "kernelspec": {
   "display_name": "Python 3",
   "language": "python",
   "name": "python3"
  },
  "language_info": {
   "codemirror_mode": {
    "name": "ipython",
    "version": 3
   },
   "file_extension": ".py",
   "mimetype": "text/x-python",
   "name": "python",
   "nbconvert_exporter": "python",
   "pygments_lexer": "ipython3",
   "version": "3.8.8"
  }
 },
 "nbformat": 4,
 "nbformat_minor": 5
}
