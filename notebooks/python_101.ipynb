{
 "cells": [
  {
   "cell_type": "markdown",
   "id": "4ebaad08",
   "metadata": {},
   "source": [
    "Дан лист чисел. Каждое число встречается в этом листе два раза. При этом в листе имеется одно число, которое встречается ровно один раз. Вывести это число. Решение оформить в виде функции и вызывающего её кода."
   ]
  },
  {
   "cell_type": "code",
   "execution_count": 1,
   "id": "1e402efe",
   "metadata": {},
   "outputs": [],
   "source": [
    "import numpy as np"
   ]
  },
  {
   "cell_type": "code",
   "execution_count": 2,
   "id": "02953ef5",
   "metadata": {},
   "outputs": [],
   "source": [
    "# Первое решение\n",
    "def find_singular_number_1(numbers):\n",
    "    a = np.array([list(set(numbers)), \n",
    "                  list(map(lambda x: numbers.count(x), set(numbers)))])\n",
    "    for i in range(len(a[1])):\n",
    "        if(a[1][i]==1):\n",
    "            print(a[0][i])"
   ]
  },
  {
   "cell_type": "code",
   "execution_count": 3,
   "id": "73245a38",
   "metadata": {},
   "outputs": [],
   "source": [
    "# Альтернативное второе решение\n",
    "def find_singular_number_2(numbers):\n",
    "    a = list(map(lambda x: x if numbers.count(x)==1 else -np.inf, numbers))\n",
    "    print(max(a))"
   ]
  },
  {
   "cell_type": "code",
   "execution_count": 4,
   "id": "add90ceb",
   "metadata": {},
   "outputs": [],
   "source": [
    "nums = [1, 1, 2, 2, 3, 3, 4]"
   ]
  },
  {
   "cell_type": "code",
   "execution_count": 5,
   "id": "778563a2",
   "metadata": {},
   "outputs": [
    {
     "name": "stdout",
     "output_type": "stream",
     "text": [
      "4\n"
     ]
    }
   ],
   "source": [
    "# Первое решение\n",
    "find_singular_number_1(nums)"
   ]
  },
  {
   "cell_type": "code",
   "execution_count": 6,
   "id": "b3f521ed",
   "metadata": {},
   "outputs": [
    {
     "name": "stdout",
     "output_type": "stream",
     "text": [
      "4\n"
     ]
    }
   ],
   "source": [
    "# Альтернативное второе решение\n",
    "find_singular_number_2(nums)"
   ]
  },
  {
   "cell_type": "code",
   "execution_count": null,
   "id": "8fa062da",
   "metadata": {},
   "outputs": [],
   "source": []
  }
 ],
 "metadata": {
  "kernelspec": {
   "display_name": "Python 3",
   "language": "python",
   "name": "python3"
  },
  "language_info": {
   "codemirror_mode": {
    "name": "ipython",
    "version": 3
   },
   "file_extension": ".py",
   "mimetype": "text/x-python",
   "name": "python",
   "nbconvert_exporter": "python",
   "pygments_lexer": "ipython3",
   "version": "3.8.8"
  }
 },
 "nbformat": 4,
 "nbformat_minor": 5
}
